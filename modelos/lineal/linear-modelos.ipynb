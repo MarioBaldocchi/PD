{
 "cells": [
  {
   "cell_type": "markdown",
   "id": "0f958264-dd60-42ae-8658-96b1183f2b3a",
   "metadata": {},
   "source": [
    "## 🌊 Regresión lineal"
   ]
  },
  {
   "cell_type": "markdown",
   "id": "d49ef05a-83fc-4b11-9b2d-30854306385b",
   "metadata": {},
   "source": [
    "#### Librerías y ajustes iniciales"
   ]
  },
  {
   "cell_type": "code",
   "execution_count": 1,
   "id": "d98b7f48c42cf6c3",
   "metadata": {},
   "outputs": [],
   "source": [
    "import sys\n",
    "sys.path.append(\"../../\") # go to parent dir"
   ]
  },
  {
   "cell_type": "code",
   "execution_count": 2,
   "id": "0c318a4d-5632-4538-964c-b89375ca9a95",
   "metadata": {
    "ExecuteTime": {
     "end_time": "2024-04-15T21:24:43.496698Z",
     "start_time": "2024-04-15T21:24:40.319250Z"
    }
   },
   "outputs": [],
   "source": [
    "from sklearn.linear_model import *\n",
    "from sklearn.model_selection import GridSearchCV, cross_validate\n",
    "from modelos import *\n",
    "import matplotlib.pyplot as plt\n",
    "import numpy as np\n",
    "import pandas as pd"
   ]
  },
  {
   "cell_type": "code",
   "execution_count": 3,
   "id": "112efa88-e854-4d46-a74a-77799c446907",
   "metadata": {
    "ExecuteTime": {
     "end_time": "2024-04-15T21:24:43.505920Z",
     "start_time": "2024-04-15T21:24:43.500025Z"
    }
   },
   "outputs": [],
   "source": [
    "pd.options.display.max_columns = 50 # para mostrar todas las columnas"
   ]
  },
  {
   "cell_type": "markdown",
   "id": "b2831708-687a-40f5-8510-ecbfb3233fa4",
   "metadata": {},
   "source": [
    "### 🔨 Construcción de modelos"
   ]
  },
  {
   "cell_type": "code",
   "execution_count": 4,
   "id": "31b5c1b5-1ba6-4aca-bf50-104faa7df4a9",
   "metadata": {
    "ExecuteTime": {
     "end_time": "2024-04-15T21:24:43.607828Z",
     "start_time": "2024-04-15T21:24:43.509200Z"
    }
   },
   "outputs": [],
   "source": [
    "# cargamos datos\n",
    "X, y = datos_full()"
   ]
  },
  {
   "cell_type": "markdown",
   "id": "fd65b59a-c61e-4c28-ba29-fe2fc9e55aaf",
   "metadata": {},
   "source": [
    "#### Separación en train y test"
   ]
  },
  {
   "cell_type": "code",
   "execution_count": 5,
   "id": "a2e09fbc-186c-4a52-8ffd-c922e97d3812",
   "metadata": {
    "ExecuteTime": {
     "end_time": "2024-04-15T21:24:43.638323Z",
     "start_time": "2024-04-15T21:24:43.613104Z"
    }
   },
   "outputs": [],
   "source": [
    "# Para el modelo con todas las variables\n",
    "X_train, X_test, y_train, y_test = sep_train_test()"
   ]
  },
  {
   "cell_type": "markdown",
   "id": "a5d00abb-1da0-49aa-9bec-2e4783003f3d",
   "metadata": {},
   "source": [
    "#### Distribuciones de a variable respuesta en train y test"
   ]
  },
  {
   "cell_type": "code",
   "execution_count": 6,
   "id": "50964e29-ba0a-4120-905c-5075e2fcb6ec",
   "metadata": {
    "ExecuteTime": {
     "end_time": "2024-04-15T21:24:44.362696Z",
     "start_time": "2024-04-15T21:24:43.641380Z"
    },
    "scrolled": true
   },
   "outputs": [
    {
     "data": {
      "text/plain": [
       "<matplotlib.legend.Legend at 0x13bfd40d0>"
      ]
     },
     "execution_count": 6,
     "metadata": {},
     "output_type": "execute_result"
    },
    {
     "data": {
      "image/png": "[encoded data removed]",
      "text/plain": [
       "<Figure size 1000x600 with 1 Axes>"
      ]
     },
     "metadata": {},
     "output_type": "display_data"
    }
   ],
   "source": [
    "fig, ax = plt.subplots(figsize=(10,6))\n",
    "ax.hist(y_train, bins=30, alpha=0.5, label='Training', density=True)\n",
    "ax.hist(y_test, bins=30, alpha=0.5, label='Test', density=True)\n",
    "plt.legend()"
   ]
  },
  {
   "cell_type": "markdown",
   "id": "3ac16f2a-d00d-4126-9021-6936af80ca35",
   "metadata": {},
   "source": [
    "Analizando las funciones de densidad de los dos conjuntos vemos que se parecen bastante, a excepción de las olas de altura alrededor de 0.5 metros, las cuáles parecen estar en mayor proporción en training que en el conjunto test."
   ]
  },
  {
   "cell_type": "markdown",
   "id": "00f450e4-8e7c-41c7-bffa-5f915e22603e",
   "metadata": {},
   "source": [
    "### Modelos usando el conjunto de datos completo"
   ]
  },
  {
   "cell_type": "code",
   "execution_count": 7,
   "id": "7a0a2cad-e57d-4899-9525-ad7be9460c47",
   "metadata": {
    "ExecuteTime": {
     "end_time": "2024-04-15T21:24:44.371176Z",
     "start_time": "2024-04-15T21:24:44.365841Z"
    }
   },
   "outputs": [],
   "source": [
    "params = {\n",
    "    \"random_state\": [RANDOM_SEED],\n",
    "    \"alpha\": [i/100 for i in range(1, 101, 2)],\n",
    "    \"max_iter\": [100, 500, 1000, 2000, 5000],\n",
    "}"
   ]
  },
  {
   "cell_type": "markdown",
   "id": "5753694c856b9545",
   "metadata": {},
   "source": [
    "#### Modelo lineal sin regularización"
   ]
  },
  {
   "cell_type": "code",
   "execution_count": 8,
   "id": "f39c1861-b086-4489-929c-cd61bc13d9dd",
   "metadata": {
    "ExecuteTime": {
     "end_time": "2024-04-15T21:24:49.445846Z",
     "start_time": "2024-04-15T21:24:44.375209Z"
    }
   },
   "outputs": [
    {
     "name": "stderr",
     "output_type": "stream",
     "text": [
      "/Users/tyomikjan/UNIVERSITY/PD1/PD/venv/lib/python3.11/site-packages/mlflow/types/utils.py:393: UserWarning: Hint: Inferred schema contains integer column(s). Integer columns in Python cannot represent missing values. If your input data contains missing values at inference time, it will be encoded as floats and will cause a schema enforcement error. The best way to avoid this problem is to infer the model schema based on a realistic data sample (training dataset) that includes missing values. Alternatively, you can declare integer columns as doubles (float64) whenever these columns may have missing values. See `Handling Integers With Missing Values <https://www.mlflow.org/docs/latest/models.html#handling-integers-with-missing-values>`_ for more details.\n",
      "  warnings.warn(\n"
     ]
    },
    {
     "name": "stdout",
     "output_type": "stream",
     "text": [
      "{'TEST_MAX_ERROR': 2.4730816980584507, 'TEST_ROOT_MEAN_SQ_ERROR': 0.4475179619726166, 'TEST_MEDIAN_ABS_ERROR': 0.2746365672251422, 'TEST_MEAN_ABS_ERROR': 0.34379586543548335, 'CV_TEST_RMSE': 0.47600330917623185, 'CV_TRAIN_RMSE': 0.4765748588598001}\n"
     ]
    }
   ],
   "source": [
    "flo = MLFlow(\"lineal-sin-regularizar\")\n",
    "\n",
    "lr = LinearRegression()\n",
    "\n",
    "cv_metrics = cross_validate(lr, X_train, y_train, cv=cv_folds(), scoring=\"neg_root_mean_squared_error\", return_train_score=True)\n",
    "\n",
    "lr.fit(X_train, y_train)\n",
    "\n",
    "# metricas TEST\n",
    "metricas = calcular_metricas(y_test, lr.predict(X_test))\n",
    "# metricas CV\n",
    "metricas[\"CV_TEST_RMSE\"] = -1 * cv_metrics['test_score'].mean()\n",
    "metricas[\"CV_TRAIN_RMSE\"] = -1 * cv_metrics['train_score'].mean()\n",
    "\n",
    "flo.persist_model_to_mlflow(X_train, lr, params, metricas,\"lineal-sin-regularizar\", \"Modelo regresión lineal multivariable sin regularizar\")\n",
    "\n",
    "print(metricas)"
   ]
  },
  {
   "cell_type": "markdown",
   "id": "cde64a6782d648c",
   "metadata": {},
   "source": [
    "#### Modelo RIDGE"
   ]
  },
  {
   "cell_type": "code",
   "execution_count": 8,
   "id": "b3292c80-2dbd-4bf4-85e8-ca03a3ec440c",
   "metadata": {
    "ExecuteTime": {
     "end_time": "2024-04-15T21:25:08.886607Z",
     "start_time": "2024-04-15T21:24:49.450033Z"
    }
   },
   "outputs": [
    {
     "name": "stderr",
     "output_type": "stream",
     "text": [
      "/Users/tyomikjan/UNIVERSITY/PD1/PD/venv/lib/python3.11/site-packages/mlflow/types/utils.py:393: UserWarning: Hint: Inferred schema contains integer column(s). Integer columns in Python cannot represent missing values. If your input data contains missing values at inference time, it will be encoded as floats and will cause a schema enforcement error. The best way to avoid this problem is to infer the model schema based on a realistic data sample (training dataset) that includes missing values. Alternatively, you can declare integer columns as doubles (float64) whenever these columns may have missing values. See `Handling Integers With Missing Values <https://www.mlflow.org/docs/latest/models.html#handling-integers-with-missing-values>`_ for more details.\n",
      "  warnings.warn(\n"
     ]
    },
    {
     "name": "stdout",
     "output_type": "stream",
     "text": [
      "{'TEST_MAX_ERROR': 2.4730816980584507, 'TEST_ROOT_MEAN_SQ_ERROR': 0.4475179619726166, 'TEST_MEDIAN_ABS_ERROR': 0.2746365672251422, 'TEST_MEAN_ABS_ERROR': 0.34379586543548335, 'CV_TEST_RMSE': 0.47600330917623185, 'CV_TRAIN_RMSE': 0.4765748588598001}\n"
     ]
    },
    {
     "name": "stderr",
     "output_type": "stream",
     "text": [
      "/Users/tyomikjan/UNIVERSITY/PD1/PD/venv/lib/python3.11/site-packages/_distutils_hack/__init__.py:18: UserWarning: Distutils was imported before Setuptools, but importing Setuptools also replaces the `distutils` module in `sys.modules`. This may lead to undesirable behaviors or errors. To avoid these issues, avoid using distutils directly, ensure that setuptools is installed in the traditional way (e.g. not an editable install), and/or make sure that setuptools is always imported before distutils.\n",
      "  warnings.warn(\n",
      "/Users/tyomikjan/UNIVERSITY/PD1/PD/venv/lib/python3.11/site-packages/_distutils_hack/__init__.py:33: UserWarning: Setuptools is replacing distutils.\n",
      "  warnings.warn(\"Setuptools is replacing distutils.\")\n"
     ]
    }
   ],
   "source": [
    "flo = MLFlow(\"ridge-sin-regularizar\")\n",
    "\n",
    "rdgSearch = GridSearchCV(Ridge(), params, cv=cv_folds(), return_train_score=True, scoring=\"neg_root_mean_squared_error\")\n",
    "rdgSearch.fit(X_train, y_train)\n",
    "\n",
    "flo.persist_model_to_mlflow(X_train, rdgSearch.best_estimator_, params, calcular_metricas_search(rdgSearch, X_test, y_test), \"ridge-sin-regularizar\", \"Modelo ridge sin regularizar\")\n",
    "\n",
    "print(metricas)"
   ]
  },
  {
   "cell_type": "markdown",
   "id": "d74f2e0868de4a4c",
   "metadata": {},
   "source": [
    "#### Modelo LASSO"
   ]
  },
  {
   "cell_type": "code",
   "execution_count": 9,
   "id": "8fdad0b3-8fe8-47f4-86b3-38041883f83e",
   "metadata": {
    "ExecuteTime": {
     "end_time": "2024-04-15T21:25:31.008201Z",
     "start_time": "2024-04-15T21:25:08.890630Z"
    }
   },
   "outputs": [
    {
     "name": "stderr",
     "output_type": "stream",
     "text": [
      "/Users/tyomikjan/UNIVERSITY/PD1/PD/venv/lib/python3.11/site-packages/sklearn/linear_model/_coordinate_descent.py:678: ConvergenceWarning: Objective did not converge. You might want to increase the number of iterations, check the scale of the features or consider increasing regularisation. Duality gap: 5.202e+01, tolerance: 3.761e-01\n",
      "  model = cd_fast.enet_coordinate_descent(\n",
      "/Users/tyomikjan/UNIVERSITY/PD1/PD/venv/lib/python3.11/site-packages/sklearn/linear_model/_coordinate_descent.py:678: ConvergenceWarning: Objective did not converge. You might want to increase the number of iterations, check the scale of the features or consider increasing regularisation. Duality gap: 4.084e+01, tolerance: 3.791e-01\n",
      "  model = cd_fast.enet_coordinate_descent(\n",
      "/Users/tyomikjan/UNIVERSITY/PD1/PD/venv/lib/python3.11/site-packages/sklearn/linear_model/_coordinate_descent.py:678: ConvergenceWarning: Objective did not converge. You might want to increase the number of iterations, check the scale of the features or consider increasing regularisation. Duality gap: 5.652e+01, tolerance: 3.740e-01\n",
      "  model = cd_fast.enet_coordinate_descent(\n",
      "/Users/tyomikjan/UNIVERSITY/PD1/PD/venv/lib/python3.11/site-packages/sklearn/linear_model/_coordinate_descent.py:678: ConvergenceWarning: Objective did not converge. You might want to increase the number of iterations, check the scale of the features or consider increasing regularisation. Duality gap: 5.229e+01, tolerance: 3.834e-01\n",
      "  model = cd_fast.enet_coordinate_descent(\n",
      "/Users/tyomikjan/UNIVERSITY/PD1/PD/venv/lib/python3.11/site-packages/sklearn/linear_model/_coordinate_descent.py:678: ConvergenceWarning: Objective did not converge. You might want to increase the number of iterations, check the scale of the features or consider increasing regularisation. Duality gap: 4.827e+01, tolerance: 3.816e-01\n",
      "  model = cd_fast.enet_coordinate_descent(\n",
      "/Users/tyomikjan/UNIVERSITY/PD1/PD/venv/lib/python3.11/site-packages/sklearn/linear_model/_coordinate_descent.py:678: ConvergenceWarning: Objective did not converge. You might want to increase the number of iterations, check the scale of the features or consider increasing regularisation. Duality gap: 2.748e+00, tolerance: 3.761e-01\n",
      "  model = cd_fast.enet_coordinate_descent(\n",
      "/Users/tyomikjan/UNIVERSITY/PD1/PD/venv/lib/python3.11/site-packages/sklearn/linear_model/_coordinate_descent.py:678: ConvergenceWarning: Objective did not converge. You might want to increase the number of iterations, check the scale of the features or consider increasing regularisation. Duality gap: 6.037e-01, tolerance: 3.791e-01\n",
      "  model = cd_fast.enet_coordinate_descent(\n",
      "/Users/tyomikjan/UNIVERSITY/PD1/PD/venv/lib/python3.11/site-packages/sklearn/linear_model/_coordinate_descent.py:678: ConvergenceWarning: Objective did not converge. You might want to increase the number of iterations, check the scale of the features or consider increasing regularisation. Duality gap: 4.466e+00, tolerance: 3.740e-01\n",
      "  model = cd_fast.enet_coordinate_descent(\n",
      "/Users/tyomikjan/UNIVERSITY/PD1/PD/venv/lib/python3.11/site-packages/sklearn/linear_model/_coordinate_descent.py:678: ConvergenceWarning: Objective did not converge. You might want to increase the number of iterations, check the scale of the features or consider increasing regularisation. Duality gap: 1.867e+00, tolerance: 3.834e-01\n",
      "  model = cd_fast.enet_coordinate_descent(\n",
      "/Users/tyomikjan/UNIVERSITY/PD1/PD/venv/lib/python3.11/site-packages/sklearn/linear_model/_coordinate_descent.py:678: ConvergenceWarning: Objective did not converge. You might want to increase the number of iterations, check the scale of the features or consider increasing regularisation. Duality gap: 1.054e+00, tolerance: 3.816e-01\n",
      "  model = cd_fast.enet_coordinate_descent(\n",
      "/Users/tyomikjan/UNIVERSITY/PD1/PD/venv/lib/python3.11/site-packages/mlflow/types/utils.py:393: UserWarning: Hint: Inferred schema contains integer column(s). Integer columns in Python cannot represent missing values. If your input data contains missing values at inference time, it will be encoded as floats and will cause a schema enforcement error. The best way to avoid this problem is to infer the model schema based on a realistic data sample (training dataset) that includes missing values. Alternatively, you can declare integer columns as doubles (float64) whenever these columns may have missing values. See `Handling Integers With Missing Values <https://www.mlflow.org/docs/latest/models.html#handling-integers-with-missing-values>`_ for more details.\n",
      "  warnings.warn(\n"
     ]
    },
    {
     "name": "stdout",
     "output_type": "stream",
     "text": [
      "{'TEST_MAX_ERROR': 2.4730816980584507, 'TEST_ROOT_MEAN_SQ_ERROR': 0.4475179619726166, 'TEST_MEDIAN_ABS_ERROR': 0.2746365672251422, 'TEST_MEAN_ABS_ERROR': 0.34379586543548335, 'CV_TEST_RMSE': 0.47600330917623185, 'CV_TRAIN_RMSE': 0.4765748588598001}\n"
     ]
    },
    {
     "name": "stderr",
     "output_type": "stream",
     "text": [
      "/Users/tyomikjan/UNIVERSITY/PD1/PD/venv/lib/python3.11/site-packages/_distutils_hack/__init__.py:18: UserWarning: Distutils was imported before Setuptools, but importing Setuptools also replaces the `distutils` module in `sys.modules`. This may lead to undesirable behaviors or errors. To avoid these issues, avoid using distutils directly, ensure that setuptools is installed in the traditional way (e.g. not an editable install), and/or make sure that setuptools is always imported before distutils.\n",
      "  warnings.warn(\n",
      "/Users/tyomikjan/UNIVERSITY/PD1/PD/venv/lib/python3.11/site-packages/_distutils_hack/__init__.py:33: UserWarning: Setuptools is replacing distutils.\n",
      "  warnings.warn(\"Setuptools is replacing distutils.\")\n"
     ]
    }
   ],
   "source": [
    "flo = MLFlow(\"lasso-sin-regularizar\")\n",
    "\n",
    "lasSearch = GridSearchCV(Lasso(), params, cv=cv_folds(), return_train_score=True, scoring=\"neg_root_mean_squared_error\")\n",
    "lasSearch.fit(X_train, y_train)\n",
    "\n",
    "flo.persist_model_to_mlflow(X_train, lasSearch.best_estimator_, params, calcular_metricas_search(lasSearch, X_test, y_test), \"lasso-sin-regularizar\", \"Modelo lasso sin regularizar\")\n",
    "\n",
    "print(metricas)"
   ]
  },
  {
   "cell_type": "markdown",
   "id": "80936d40542e03a6",
   "metadata": {},
   "source": [
    "#### Modelo ELASTIC NET"
   ]
  },
  {
   "cell_type": "code",
   "execution_count": 10,
   "id": "0ebdfaa9-d359-461c-a9e6-c794cb208110",
   "metadata": {
    "ExecuteTime": {
     "end_time": "2024-04-15T21:26:00.704274Z",
     "start_time": "2024-04-15T21:25:31.015653Z"
    }
   },
   "outputs": [
    {
     "name": "stderr",
     "output_type": "stream",
     "text": [
      "/Users/tyomikjan/UNIVERSITY/PD1/PD/venv/lib/python3.11/site-packages/sklearn/linear_model/_coordinate_descent.py:678: ConvergenceWarning: Objective did not converge. You might want to increase the number of iterations, check the scale of the features or consider increasing regularisation. Duality gap: 1.299e+02, tolerance: 3.761e-01\n",
      "  model = cd_fast.enet_coordinate_descent(\n",
      "/Users/tyomikjan/UNIVERSITY/PD1/PD/venv/lib/python3.11/site-packages/sklearn/linear_model/_coordinate_descent.py:678: ConvergenceWarning: Objective did not converge. You might want to increase the number of iterations, check the scale of the features or consider increasing regularisation. Duality gap: 1.097e+02, tolerance: 3.791e-01\n",
      "  model = cd_fast.enet_coordinate_descent(\n",
      "/Users/tyomikjan/UNIVERSITY/PD1/PD/venv/lib/python3.11/site-packages/sklearn/linear_model/_coordinate_descent.py:678: ConvergenceWarning: Objective did not converge. You might want to increase the number of iterations, check the scale of the features or consider increasing regularisation. Duality gap: 1.314e+02, tolerance: 3.740e-01\n",
      "  model = cd_fast.enet_coordinate_descent(\n",
      "/Users/tyomikjan/UNIVERSITY/PD1/PD/venv/lib/python3.11/site-packages/sklearn/linear_model/_coordinate_descent.py:678: ConvergenceWarning: Objective did not converge. You might want to increase the number of iterations, check the scale of the features or consider increasing regularisation. Duality gap: 1.282e+02, tolerance: 3.834e-01\n",
      "  model = cd_fast.enet_coordinate_descent(\n",
      "/Users/tyomikjan/UNIVERSITY/PD1/PD/venv/lib/python3.11/site-packages/sklearn/linear_model/_coordinate_descent.py:678: ConvergenceWarning: Objective did not converge. You might want to increase the number of iterations, check the scale of the features or consider increasing regularisation. Duality gap: 1.193e+02, tolerance: 3.816e-01\n",
      "  model = cd_fast.enet_coordinate_descent(\n",
      "/Users/tyomikjan/UNIVERSITY/PD1/PD/venv/lib/python3.11/site-packages/sklearn/linear_model/_coordinate_descent.py:678: ConvergenceWarning: Objective did not converge. You might want to increase the number of iterations, check the scale of the features or consider increasing regularisation. Duality gap: 2.317e+01, tolerance: 3.761e-01\n",
      "  model = cd_fast.enet_coordinate_descent(\n",
      "/Users/tyomikjan/UNIVERSITY/PD1/PD/venv/lib/python3.11/site-packages/sklearn/linear_model/_coordinate_descent.py:678: ConvergenceWarning: Objective did not converge. You might want to increase the number of iterations, check the scale of the features or consider increasing regularisation. Duality gap: 1.548e+01, tolerance: 3.791e-01\n",
      "  model = cd_fast.enet_coordinate_descent(\n",
      "/Users/tyomikjan/UNIVERSITY/PD1/PD/venv/lib/python3.11/site-packages/sklearn/linear_model/_coordinate_descent.py:678: ConvergenceWarning: Objective did not converge. You might want to increase the number of iterations, check the scale of the features or consider increasing regularisation. Duality gap: 2.613e+01, tolerance: 3.740e-01\n",
      "  model = cd_fast.enet_coordinate_descent(\n",
      "/Users/tyomikjan/UNIVERSITY/PD1/PD/venv/lib/python3.11/site-packages/sklearn/linear_model/_coordinate_descent.py:678: ConvergenceWarning: Objective did not converge. You might want to increase the number of iterations, check the scale of the features or consider increasing regularisation. Duality gap: 2.237e+01, tolerance: 3.834e-01\n",
      "  model = cd_fast.enet_coordinate_descent(\n",
      "/Users/tyomikjan/UNIVERSITY/PD1/PD/venv/lib/python3.11/site-packages/sklearn/linear_model/_coordinate_descent.py:678: ConvergenceWarning: Objective did not converge. You might want to increase the number of iterations, check the scale of the features or consider increasing regularisation. Duality gap: 1.980e+01, tolerance: 3.816e-01\n",
      "  model = cd_fast.enet_coordinate_descent(\n",
      "/Users/tyomikjan/UNIVERSITY/PD1/PD/venv/lib/python3.11/site-packages/sklearn/linear_model/_coordinate_descent.py:678: ConvergenceWarning: Objective did not converge. You might want to increase the number of iterations, check the scale of the features or consider increasing regularisation. Duality gap: 4.588e+00, tolerance: 3.761e-01\n",
      "  model = cd_fast.enet_coordinate_descent(\n",
      "/Users/tyomikjan/UNIVERSITY/PD1/PD/venv/lib/python3.11/site-packages/sklearn/linear_model/_coordinate_descent.py:678: ConvergenceWarning: Objective did not converge. You might want to increase the number of iterations, check the scale of the features or consider increasing regularisation. Duality gap: 1.309e+00, tolerance: 3.791e-01\n",
      "  model = cd_fast.enet_coordinate_descent(\n",
      "/Users/tyomikjan/UNIVERSITY/PD1/PD/venv/lib/python3.11/site-packages/sklearn/linear_model/_coordinate_descent.py:678: ConvergenceWarning: Objective did not converge. You might want to increase the number of iterations, check the scale of the features or consider increasing regularisation. Duality gap: 7.723e+00, tolerance: 3.740e-01\n",
      "  model = cd_fast.enet_coordinate_descent(\n",
      "/Users/tyomikjan/UNIVERSITY/PD1/PD/venv/lib/python3.11/site-packages/sklearn/linear_model/_coordinate_descent.py:678: ConvergenceWarning: Objective did not converge. You might want to increase the number of iterations, check the scale of the features or consider increasing regularisation. Duality gap: 4.777e+00, tolerance: 3.834e-01\n",
      "  model = cd_fast.enet_coordinate_descent(\n",
      "/Users/tyomikjan/UNIVERSITY/PD1/PD/venv/lib/python3.11/site-packages/sklearn/linear_model/_coordinate_descent.py:678: ConvergenceWarning: Objective did not converge. You might want to increase the number of iterations, check the scale of the features or consider increasing regularisation. Duality gap: 3.297e+00, tolerance: 3.816e-01\n",
      "  model = cd_fast.enet_coordinate_descent(\n",
      "/Users/tyomikjan/UNIVERSITY/PD1/PD/venv/lib/python3.11/site-packages/sklearn/linear_model/_coordinate_descent.py:678: ConvergenceWarning: Objective did not converge. You might want to increase the number of iterations, check the scale of the features or consider increasing regularisation. Duality gap: 7.431e-01, tolerance: 3.761e-01\n",
      "  model = cd_fast.enet_coordinate_descent(\n",
      "/Users/tyomikjan/UNIVERSITY/PD1/PD/venv/lib/python3.11/site-packages/sklearn/linear_model/_coordinate_descent.py:678: ConvergenceWarning: Objective did not converge. You might want to increase the number of iterations, check the scale of the features or consider increasing regularisation. Duality gap: 2.069e+00, tolerance: 3.791e-01\n",
      "  model = cd_fast.enet_coordinate_descent(\n",
      "/Users/tyomikjan/UNIVERSITY/PD1/PD/venv/lib/python3.11/site-packages/sklearn/linear_model/_coordinate_descent.py:678: ConvergenceWarning: Objective did not converge. You might want to increase the number of iterations, check the scale of the features or consider increasing regularisation. Duality gap: 1.005e+00, tolerance: 3.834e-01\n",
      "  model = cd_fast.enet_coordinate_descent(\n",
      "/Users/tyomikjan/UNIVERSITY/PD1/PD/venv/lib/python3.11/site-packages/sklearn/linear_model/_coordinate_descent.py:678: ConvergenceWarning: Objective did not converge. You might want to increase the number of iterations, check the scale of the features or consider increasing regularisation. Duality gap: 4.761e-01, tolerance: 3.816e-01\n",
      "  model = cd_fast.enet_coordinate_descent(\n",
      "/Users/tyomikjan/UNIVERSITY/PD1/PD/venv/lib/python3.11/site-packages/mlflow/types/utils.py:393: UserWarning: Hint: Inferred schema contains integer column(s). Integer columns in Python cannot represent missing values. If your input data contains missing values at inference time, it will be encoded as floats and will cause a schema enforcement error. The best way to avoid this problem is to infer the model schema based on a realistic data sample (training dataset) that includes missing values. Alternatively, you can declare integer columns as doubles (float64) whenever these columns may have missing values. See `Handling Integers With Missing Values <https://www.mlflow.org/docs/latest/models.html#handling-integers-with-missing-values>`_ for more details.\n",
      "  warnings.warn(\n",
      "/Users/tyomikjan/UNIVERSITY/PD1/PD/venv/lib/python3.11/site-packages/_distutils_hack/__init__.py:18: UserWarning: Distutils was imported before Setuptools, but importing Setuptools also replaces the `distutils` module in `sys.modules`. This may lead to undesirable behaviors or errors. To avoid these issues, avoid using distutils directly, ensure that setuptools is installed in the traditional way (e.g. not an editable install), and/or make sure that setuptools is always imported before distutils.\n",
      "  warnings.warn(\n",
      "/Users/tyomikjan/UNIVERSITY/PD1/PD/venv/lib/python3.11/site-packages/_distutils_hack/__init__.py:33: UserWarning: Setuptools is replacing distutils.\n",
      "  warnings.warn(\"Setuptools is replacing distutils.\")\n"
     ]
    },
    {
     "name": "stdout",
     "output_type": "stream",
     "text": [
      "{'TEST_MAX_ERROR': 2.4730816980584507, 'TEST_ROOT_MEAN_SQ_ERROR': 0.4475179619726166, 'TEST_MEDIAN_ABS_ERROR': 0.2746365672251422, 'TEST_MEAN_ABS_ERROR': 0.34379586543548335, 'CV_TEST_RMSE': 0.47600330917623185, 'CV_TRAIN_RMSE': 0.4765748588598001}\n"
     ]
    }
   ],
   "source": [
    "flo = MLFlow(\"elastic-sin-regularizar\")\n",
    "\n",
    "elSearch = GridSearchCV(ElasticNet(), params, cv=cv_folds(), return_train_score=True, scoring=\"neg_root_mean_squared_error\")\n",
    "elSearch.fit(X_train, y_train)\n",
    "\n",
    "flo.persist_model_to_mlflow(X_train, elSearch.best_estimator_, params, calcular_metricas_search(elSearch, X_test, y_test), \"elastic-sin-regularizar\", \"Modelo elastic sin regularizar\")\n",
    "\n",
    "print(metricas)"
   ]
  },
  {
   "cell_type": "markdown",
   "id": "e3e26696-c598-44d0-91ce-5c3f5d6fc425",
   "metadata": {},
   "source": [
    "### Modelo usando selección de variables"
   ]
  },
  {
   "cell_type": "markdown",
   "id": "cc0d6f13-0524-4761-907f-7034c33440ca",
   "metadata": {},
   "source": [
    "#### Seleccion de variables"
   ]
  },
  {
   "cell_type": "code",
   "execution_count": null,
   "id": "619968f2-f2dc-4892-ab35-b8506e963a35",
   "metadata": {},
   "outputs": [],
   "source": [
    "cols = ['anio', 'mes', 'dia', 'moonphase', 'hora', 'temp', 'rh', 'pressure',\n",
    "       'vis', 'uv_index', 'wdir_E', 'wdir_ENE', 'wdir_ESE', 'wdir_N',\n",
    "       'wdir_NE', 'wdir_NNE', 'wdir_NNW', 'wdir_NW', 'wdir_S', 'wdir_SE',\n",
    "       'wdir_SSE', 'wdir_SSW', 'wdir_SW', 'wdir_VAR', 'wdir_W', 'wdir_WNW',\n",
    "       'wdir_WSW', 'Vviento', 'PeriodoOlas', 'Lluvia', 'Nubosidad']\n",
    "\n",
    "X_train = X_train[cols]\n",
    "X_test = X_test[cols]"
   ]
  },
  {
   "cell_type": "code",
   "execution_count": null,
   "id": "daa1cc1f-bc85-4363-98c2-08b47c0ed0c9",
   "metadata": {},
   "outputs": [],
   "source": [
    "params = {\n",
    "    \"random_state\": [RANDOM_STATE],\n",
    "    \"alpha\": [i/100 for i in range(1, 101, 2)],\n",
    "    \"max_iter\": [100, 500, 1000, 2000, 5000],\n",
    "}"
   ]
  },
  {
   "cell_type": "code",
   "execution_count": null,
   "id": "a63a3d71-ee38-4296-9197-fad511edaf9c",
   "metadata": {},
   "outputs": [],
   "source": [
    "lr = LinearRegression()\n",
    "lr.fit(X_train, y_train)\n",
    "calcular_metricas(y_test, lr.predict(X_test))"
   ]
  },
  {
   "cell_type": "code",
   "execution_count": null,
   "id": "97a1005d-873f-4888-a776-3089b105bc21",
   "metadata": {},
   "outputs": [],
   "source": [
    "rdg = Ridge()\n",
    "rdgSearch = GridSearchCV(rdg, params, cv=5)\n",
    "rdgSearch.fit(X_train, y_train)"
   ]
  },
  {
   "cell_type": "code",
   "execution_count": null,
   "id": "b22eb421-c087-4c5b-b262-f5418cfe103e",
   "metadata": {},
   "outputs": [],
   "source": [
    "rdgSearch.best_estimator_"
   ]
  },
  {
   "cell_type": "code",
   "execution_count": null,
   "id": "bfdaac10-8bdc-4a2b-84d3-fc501cdfe14d",
   "metadata": {},
   "outputs": [],
   "source": [
    "calcular_metricas(y_test, rdgSearch.best_estimator_.predict(X_test))"
   ]
  },
  {
   "cell_type": "code",
   "execution_count": null,
   "id": "822937ce-1b57-474a-bb20-fb60b25f084f",
   "metadata": {},
   "outputs": [],
   "source": [
    "las = Lasso()\n",
    "lasSearch = GridSearchCV(las, params, cv=5)\n",
    "lasSearch.fit(X_train, y_train)"
   ]
  },
  {
   "cell_type": "code",
   "execution_count": null,
   "id": "e0bcc427-cc34-43f3-ba36-84b372612f7a",
   "metadata": {},
   "outputs": [],
   "source": [
    "lasSearch.best_estimator_"
   ]
  },
  {
   "cell_type": "code",
   "execution_count": null,
   "id": "69b87721-9f16-4388-b220-98e7dfde64dc",
   "metadata": {},
   "outputs": [],
   "source": [
    "calcular_metricas(y_test, lasSearch.best_estimator_.predict(X_test))"
   ]
  },
  {
   "cell_type": "code",
   "execution_count": null,
   "id": "3b901fd7-f7f5-4db7-8277-4c847cfa4ece",
   "metadata": {},
   "outputs": [],
   "source": [
    "el = ElasticNet() # reemplazar alpha por l1_ratio...\n",
    "elSearch = GridSearchCV(el, params, cv=5)\n",
    "elSearch.fit(X_train, y_train)"
   ]
  },
  {
   "cell_type": "code",
   "execution_count": null,
   "id": "4f9b98d5-3415-421a-8660-31af82cec4f1",
   "metadata": {},
   "outputs": [],
   "source": [
    "elSearch.best_estimator_"
   ]
  },
  {
   "cell_type": "code",
   "execution_count": null,
   "id": "418e1a81-7817-4114-8192-b157c4f18299",
   "metadata": {},
   "outputs": [],
   "source": [
    "calcular_metricas(y_test, elSearch.best_estimator_.predict(X_test))"
   ]
  }
 ],
 "metadata": {
  "kernelspec": {
   "display_name": "Python 3 (ipykernel)",
   "language": "python",
   "name": "python3"
  },
  "language_info": {
   "codemirror_mode": {
    "name": "ipython",
    "version": 3
   },
   "file_extension": ".py",
   "mimetype": "text/x-python",
   "name": "python",
   "nbconvert_exporter": "python",
   "pygments_lexer": "ipython3",
   "version": "3.11.5"
  }
 },
 "nbformat": 4,
 "nbformat_minor": 5
}
