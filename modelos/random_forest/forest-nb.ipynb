{
 "cells": [
  {
   "cell_type": "code",
   "execution_count": null,
   "metadata": {
    "ExecuteTime": {
     "end_time": "2024-04-28T19:34:41.218200Z",
     "start_time": "2024-04-28T19:34:41.213618Z"
    }
   },
   "outputs": [],
   "source": [
    "import sys\n",
    "sys.path.append(\"../../\") "
   ]
  },
  {
   "cell_type": "code",
   "execution_count": null,
   "metadata": {
    "ExecuteTime": {
     "end_time": "2024-04-28T19:34:41.425661Z",
     "start_time": "2024-04-28T19:34:41.420919Z"
    }
   },
   "outputs": [],
   "source": [
    "import pandas as pd\n",
    "import numpy as np\n",
    "from sklearn.compose import ColumnTransformer\n",
    "from sklearn.preprocessing import StandardScaler\n",
    "from sklearn.ensemble import RandomForestRegressor\n",
    "from sklearn.model_selection import RandomizedSearchCV\n",
    "from sklearn.model_selection import GridSearchCV\n",
    "from sklearn.model_selection import cross_validate\n",
    "from sklearn.metrics import max_error, mean_squared_error, r2_score\n",
    "from modelos import *"
   ]
  },
  {
   "cell_type": "markdown",
   "metadata": {},
   "source": [
    "Preparado de datos"
   ]
  },
  {
   "cell_type": "code",
   "execution_count": null,
   "metadata": {
    "ExecuteTime": {
     "end_time": "2024-04-28T19:34:42.011337Z",
     "start_time": "2024-04-28T19:34:42.007131Z"
    }
   },
   "outputs": [],
   "source": [
    "paramsRandom = {\n",
    "    \"random_state\": [RANDOM_SEED],\n",
    "    'n_estimators': np.arange(1,602,100),\n",
    "    'max_depth': [None, 4, 8, 12, 16, 20, 24, 28],\n",
    "    'min_samples_split': [2, 4, 6],\n",
    "    'min_samples_leaf': [1, 2, 4, 6],\n",
    "    'bootstrap': [True, False]\n",
    "}\n",
    "paramsGrid = {\n",
    "    \"random_state\": [RANDOM_SEED],\n",
    "    'n_estimators': [100, 300, 600],\n",
    "    'max_depth': [None, 16, 28],\n",
    "    'min_samples_split': [2, 6],\n",
    "    'min_samples_leaf': [1, 2],\n",
    "    'bootstrap': [True, False]\n",
    "}"
   ]
  },
  {
   "cell_type": "code",
   "execution_count": null,
   "metadata": {
    "ExecuteTime": {
     "end_time": "2024-04-28T19:34:44.679721Z",
     "start_time": "2024-04-28T19:34:44.652516Z"
    }
   },
   "outputs": [],
   "source": [
    "# Para el modelo con todas las variables\n",
    "X_train, X_test, y_train, y_test = sep_train_test()\n",
    "# Eliminamos las columnas repetidas y las columnas temporales (visto en el notebook del analisis)\n",
    "X_train = X_train.drop(columns=[\"Temperatura\", 'wspd', 'anio', 'mes', 'dia', 'hora'])\n",
    "X_test = X_test.drop(columns=[\"Temperatura\", 'wspd', 'anio', 'mes', 'dia', 'hora'])"
   ]
  },
  {
   "cell_type": "markdown",
   "metadata": {},
   "source": [
    "Modelos"
   ]
  },
  {
   "cell_type": "code",
   "execution_count": null,
   "metadata": {
    "ExecuteTime": {
     "end_time": "2024-04-28T19:34:45.446641Z",
     "start_time": "2024-04-28T19:34:45.424128Z"
    }
   },
   "outputs": [],
   "source": [
    "# Para probar con datos escalados\n",
    "scaler = ColumnTransformer(\n",
    "    transformers=[\n",
    "        # no escalonamos las dummy de dirección de viento\n",
    "        (\"num\", StandardScaler(), [c for c in X_train.columns if not c.startswith('wdir_')]),\n",
    "    ],\n",
    "    remainder='passthrough'\n",
    ")\n",
    "scaler.fit(X_train)"
   ]
  },
  {
   "cell_type": "code",
   "execution_count": null,
   "metadata": {
    "ExecuteTime": {
     "end_time": "2024-04-28T19:13:58.917024Z",
     "start_time": "2024-04-28T19:13:58.910590Z"
    }
   },
   "outputs": [],
   "source": [
    "def random_forest(X_train, X_test, y_train, y_test, run_name, exp_info):\n",
    "    flo = MLFlow(\"random_forest\")\n",
    "\n",
    "    modelo_basico = RandomForestRegressor(max_depth=10, random_state=RANDOM_SEED)\n",
    "    cv_metrics = cross_validate(modelo_basico, X_train, y_train, cv=cv_folds(), scoring=\"neg_root_mean_squared_error\", return_train_score=True)\n",
    "    modelo_basico.fit(X_train, y_train)\n",
    "\n",
    "    #Predicciones\n",
    "    pred_modelo_basico = modelo_basico.predict(X_test)\n",
    "    #print(f\"Error cuadratico medio: {mean_squared_error(y_test, pred_modelo_basico)}.\\nr2: {r2_score(y_test, pred_modelo_basico)}\\nMaximo error {max_error(y_test, pred_modelo_basico)}\")\n",
    "\n",
    "    # metricas TEST\n",
    "    metricas = calcular_metricas(y_test, pred_modelo_basico)\n",
    "\n",
    "    # metricas CV\n",
    "    metricas[\"CV_TEST_RMSE\"] = -1 * cv_metrics['test_score'].mean()\n",
    "    metricas[\"CV_TRAIN_RMSE\"] = -1 * cv_metrics['train_score'].mean()\n",
    "    print(metricas)\n",
    "\n",
    "    flo.persist_model_to_mlflow(X_train, modelo_basico, {\"random_state\": RANDOM_SEED, \"max_depth\": 10}, metricas, run_name, exp_info)\n"
   ]
  },
  {
   "cell_type": "code",
   "execution_count": null,
   "metadata": {
    "ExecuteTime": {
     "end_time": "2024-04-28T19:14:01.511376Z",
     "start_time": "2024-04-28T19:14:01.504686Z"
    }
   },
   "outputs": [],
   "source": [
    "def random_search(X_train, X_test, y_train, y_test, run_name, exp_info):\n",
    "    flo = MLFlow(\"random_forest\")\n",
    "    modelo_random_search = RandomizedSearchCV(estimator=RandomForestRegressor(),param_distributions=paramsRandom,n_iter=10, scoring='neg_mean_squared_error', cv=cv_folds(), random_state=RANDOM_SEED, return_train_score=True, n_jobs=-1)\n",
    "    modelo_random_search.fit(X_train, y_train)\n",
    "    mejor_modelo_randomSearch = modelo_random_search.best_estimator_\n",
    "\n",
    "    #Predicciones\n",
    "    #pred_modelo_random_search = mejor_modelo_randomSearch.predict(X_test)\n",
    "    #print(f\"Error cuadratico medio: {mean_squared_error(y_test, pred_modelo_random_search)}.\\nr2: {r2_score(y_test, pred_modelo_random_search)}\\nMaximo error {max_error(y_test, pred_modelo_random_search)}\")\n",
    "\n",
    "    metricas = calcular_metricas_search(modelo_random_search, X_test, y_test)\n",
    "    print(metricas)\n",
    "\n",
    "    flo.persist_model_to_mlflow(X_train, mejor_modelo_randomSearch, modelo_random_search.best_params_, metricas, run_name, exp_info)"
   ]
  },
  {
   "cell_type": "code",
   "execution_count": null,
   "metadata": {
    "ExecuteTime": {
     "end_time": "2024-04-28T19:14:03.830228Z",
     "start_time": "2024-04-28T19:14:03.825991Z"
    }
   },
   "outputs": [],
   "source": [
    "def grid_search(X_train, X_test, y_train, y_test, run_name, exp_info):\n",
    "    flo = MLFlow(\"random_forest\")\n",
    "    modelo_grid_search = GridSearchCV(estimator=RandomForestRegressor(),param_grid=paramsGrid, scoring='neg_mean_squared_error', cv=cv_folds(), return_train_score=True, n_jobs=-1)\n",
    "    modelo_grid_search.fit(X_train, y_train)\n",
    "    mejor_modelo_gridSearch = modelo_grid_search.best_estimator_\n",
    "\n",
    "    #Predicciones\n",
    "    #pred_modelo_grid_search = mejor_modelo_gridSearch.predict(X_test)\n",
    "    #print(f\"Error cuadratico medio: {mean_squared_error(y_test, pred_modelo_grid_search)}.\\nr2: {r2_score(y_test, pred_modelo_grid_search)}\\nMaximo error {max_error(y_test, pred_modelo_grid_search)}\")\n",
    "    \n",
    "    metricas = calcular_metricas_search(modelo_grid_search, X_test, y_test)\n",
    "    print(metricas)\n",
    "    \n",
    "    flo.persist_model_to_mlflow(X_train, mejor_modelo_gridSearch, modelo_grid_search.best_params_, metricas, run_name, exp_info)\n",
    "\n"
   ]
  },
  {
   "cell_type": "markdown",
   "metadata": {},
   "source": [
    "RANDOM FOREST BÁSICO"
   ]
  },
  {
   "cell_type": "code",
   "execution_count": null,
   "metadata": {
    "ExecuteTime": {
     "end_time": "2024-04-28T19:13:02.324817Z",
     "start_time": "2024-04-28T19:12:41.527879Z"
    }
   },
   "outputs": [],
   "source": [
    "#Con las variables explicativas sin escalar\n",
    "random_forest(X_train, X_test, y_train, y_test, run_name=\"random_forest_basico\", exp_info=\"Random Forest con todos los hiperparámetros predeterminados y sin escalado de las variables explicativas\") "
   ]
  },
  {
   "cell_type": "code",
   "execution_count": null,
   "metadata": {
    "ExecuteTime": {
     "end_time": "2024-04-28T19:13:05.950400Z",
     "start_time": "2024-04-28T19:13:02.328698Z"
    }
   },
   "outputs": [],
   "source": [
    "#Con las variables explicativas escaladas\n",
    "random_forest(scaler.transform(X_train), scaler.transform(X_test), y_train, y_test, run_name=\"esc_random_forest_basico\", exp_info=\"Random Forest con todos los hiperparámetros predeterminados y con escalado de las variables explicativas\") "
   ]
  },
  {
   "cell_type": "markdown",
   "metadata": {},
   "source": [
    "RANDOM FOREST CON RANDOM SEARCH"
   ]
  },
  {
   "cell_type": "code",
   "execution_count": null,
   "metadata": {
    "ExecuteTime": {
     "end_time": "2024-04-16T16:28:12.024250Z",
     "start_time": "2024-04-16T16:26:56.078057Z"
    }
   },
   "outputs": [],
   "source": [
    "#Con las variables explicativas sin escalar\n",
    "random_search(X_train, X_test, y_train, y_test, run_name=\"rf_con_random_search\", exp_info=\"Random Forest donde los hiperparámetros se escogen mediante random search y sin escalado de las variables explicativas\")"
   ]
  },
  {
   "cell_type": "code",
   "execution_count": null,
   "metadata": {
    "ExecuteTime": {
     "end_time": "2024-04-16T16:29:30.489944Z",
     "start_time": "2024-04-16T16:28:12.027836Z"
    }
   },
   "outputs": [],
   "source": [
    "#Con las variables explicativas escaladas\n",
    "random_search(scaler.transform(X_train), scaler.transform(X_test), y_train, y_test, run_name=\"esc_rf_con_random_search\", exp_info=\"Random Forest donde los hiperparámetros se escogen mediante random search y con escalado de las variables explicativas\")"
   ]
  },
  {
   "cell_type": "markdown",
   "metadata": {},
   "source": [
    "RANDOM FOREST CON GRID SEARCH"
   ]
  },
  {
   "cell_type": "code",
   "execution_count": null,
   "metadata": {
    "ExecuteTime": {
     "start_time": "2024-04-28T19:34:49.068162Z"
    },
    "jupyter": {
     "is_executing": true
    }
   },
   "outputs": [],
   "source": [
    "#Con las variables explicativas sin escalar\n",
    "grid_search(X_train, X_test, y_train, y_test, run_name=\"rf_con_grid_search\", exp_info=\"Random Forest donde los hiperparámetros se escogen mediante gridsearch y sin escalado de las variables explicativas\")"
   ]
  },
  {
   "cell_type": "code",
   "execution_count": null,
   "metadata": {
    "ExecuteTime": {
     "end_time": "2024-04-28T19:34:20.714757Z",
     "start_time": "2024-04-28T19:34:20.714458Z"
    }
   },
   "outputs": [],
   "source": [
    "#Con las variables explicativas escaladas\n",
    "grid_search(scaler.transform(X_train), scaler.transform(X_test), y_train, y_test, run_name=\"esc_rf_con_grid_search\", exp_info=\"Random Forest donde los hiperparámetros se escogen mediante gridsearch y con escalado de las variables explicativas\")"
   ]
  }
 ],
 "metadata": {
  "kernelspec": {
   "display_name": "Python 3 (ipykernel)",
   "language": "python",
   "name": "python3"
  },
  "language_info": {
   "codemirror_mode": {
    "name": "ipython",
    "version": 3
   },
   "file_extension": ".py",
   "mimetype": "text/x-python",
   "name": "python",
   "nbconvert_exporter": "python",
   "pygments_lexer": "ipython3",
   "version": "3.10.7"
  }
 },
 "nbformat": 4,
 "nbformat_minor": 4
}
