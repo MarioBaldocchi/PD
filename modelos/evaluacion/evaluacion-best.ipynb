{
 "cells": [
  {
   "cell_type": "markdown",
   "id": "c1b61a205aca6ac3",
   "metadata": {},
   "source": [
    "### Evaluación de métricas y variables de los modelos lineales"
   ]
  },
  {
   "cell_type": "code",
   "id": "9f7b8989a79ec92a",
   "metadata": {
    "ExecuteTime": {
     "end_time": "2024-04-28T20:36:27.303382Z",
     "start_time": "2024-04-28T20:36:27.294524Z"
    }
   },
   "source": [
    "import sys\n",
    "sys.path.append(\"../../\") # go to parent dir"
   ],
   "outputs": [],
   "execution_count": 1
  },
  {
   "cell_type": "code",
   "id": "c9921c3856141d99",
   "metadata": {
    "ExecuteTime": {
     "end_time": "2024-04-28T20:36:30.621747Z",
     "start_time": "2024-04-28T20:36:27.308096Z"
    }
   },
   "source": [
    "from modelos import *\n",
    "import matplotlib.pyplot as plt\n",
    "from sklearn.compose import ColumnTransformer\n",
    "from sklearn.preprocessing import StandardScaler\n",
    "import numpy as np\n",
    "from matplotlib.colors import LinearSegmentedColormap\n",
    "import pandas as pd\n",
    "import calplot\n",
    "from pandas import DatetimeIndex"
   ],
   "outputs": [],
   "execution_count": 2
  },
  {
   "cell_type": "code",
   "id": "3bd9ffb510dfabc1",
   "metadata": {
    "ExecuteTime": {
     "end_time": "2024-04-28T20:36:30.626353Z",
     "start_time": "2024-04-28T20:36:30.623079Z"
    }
   },
   "source": [
    "pd.options.display.max_columns = 50 # para mostrar todas las columnas"
   ],
   "outputs": [],
   "execution_count": 3
  },
  {
   "cell_type": "markdown",
   "id": "753357edd35be18c",
   "metadata": {},
   "source": [
    "#### Cargamos los datos de las metricas de MLFlow para evaluar los modelos"
   ]
  },
  {
   "cell_type": "code",
   "id": "bda21e638e2f9741",
   "metadata": {
    "ExecuteTime": {
     "end_time": "2024-04-28T20:43:15.084089Z",
     "start_time": "2024-04-28T20:43:15.060058Z"
    }
   },
   "source": [
    "runs = pd.read_csv('runs/runs-best.csv')\n",
    "runs.head()"
   ],
   "outputs": [
    {
     "data": {
      "text/plain": [
       "            Start Time Duration                            Run ID  \\\n",
       "0  2024-04-28 21:29:27     6.0s  868cfe21feb841558a11f270a0a6392f   \n",
       "1  2024-04-27 20:11:37     2.4s  2231e88727014ff684d0763fcc8a6c8b   \n",
       "2  2024-04-28 22:16:58     6.7s  c00c7aaa3a614762bd8110fcb260e756   \n",
       "\n",
       "                                     Name Source Type  \\\n",
       "0                 esc-X-mlp-random-search       LOCAL   \n",
       "1  MANUAL-selection-ELASTIC_random_search       LOCAL   \n",
       "2                esc_rf_con_random_search       LOCAL   \n",
       "\n",
       "                                         Source Name       User    Status  \\\n",
       "0  C:\\Users\\dacoq\\AppData\\Roaming\\Python\\Python31...      dacoq  FINISHED   \n",
       "1  /Users/tyomikjan/UNIVERSITY/PD1/PD/venv/lib/py...  tyomikjan  FINISHED   \n",
       "2  C:\\Users\\dacoq\\AppData\\Roaming\\Python\\Python31...      dacoq  FINISHED   \n",
       "\n",
       "  activation   alpha  batch_size hidden_layer_sizes  random_state  \\\n",
       "0       relu  0.2801       556.0       (67, 93, 54)           NaN   \n",
       "1        NaN  0.0100         NaN                NaN         777.0   \n",
       "2        NaN     NaN         NaN                NaN         777.0   \n",
       "\n",
       "   CV_TEST_RMSE  CV_TRAIN_RMSE  RANDOM SEED  TEST_MAX_ERROR  \\\n",
       "0      0.263713       0.198438          777        2.512735   \n",
       "1      0.453762       0.452350          777        2.524999   \n",
       "2      0.061150       0.024747          777        2.614159   \n",
       "\n",
       "   TEST_MEAN_ABS_ERROR  TEST_MEDIAN_ABS_ERROR  TEST_ROOT_MEAN_SQ_ERROR  \\\n",
       "0             0.280249               0.197278                 0.398988   \n",
       "1             0.341155               0.274045                 0.444501   \n",
       "2             0.273048               0.188845                 0.388882   \n",
       "\n",
       "                                       Training Info   C  l1_ratio  loss  \\\n",
       "0  Mejor modelo conseguido con RandomizedSearchCV... NaN       NaN   NaN   \n",
       "1                                 Modelo elastic net NaN      0.15   NaN   \n",
       "2  Random Forest donde los hiperparámetros se esc... NaN       NaN   NaN   \n",
       "\n",
       "   max_iter  selection  solver bootstrap  max_depth  min_samples_leaf  \\\n",
       "0       NaN        NaN     NaN       NaN        NaN               NaN   \n",
       "1    1000.0        NaN     NaN       NaN        NaN               NaN   \n",
       "2       NaN        NaN     NaN      True       28.0               4.0   \n",
       "\n",
       "   min_samples_split  n_estimators  \n",
       "0                NaN           NaN  \n",
       "1                NaN           NaN  \n",
       "2                4.0         201.0  "
      ],
      "text/html": [
       "<div>\n",
       "<style scoped>\n",
       "    .dataframe tbody tr th:only-of-type {\n",
       "        vertical-align: middle;\n",
       "    }\n",
       "\n",
       "    .dataframe tbody tr th {\n",
       "        vertical-align: top;\n",
       "    }\n",
       "\n",
       "    .dataframe thead th {\n",
       "        text-align: right;\n",
       "    }\n",
       "</style>\n",
       "<table border=\"1\" class=\"dataframe\">\n",
       "  <thead>\n",
       "    <tr style=\"text-align: right;\">\n",
       "      <th></th>\n",
       "      <th>Start Time</th>\n",
       "      <th>Duration</th>\n",
       "      <th>Run ID</th>\n",
       "      <th>Name</th>\n",
       "      <th>Source Type</th>\n",
       "      <th>Source Name</th>\n",
       "      <th>User</th>\n",
       "      <th>Status</th>\n",
       "      <th>activation</th>\n",
       "      <th>alpha</th>\n",
       "      <th>batch_size</th>\n",
       "      <th>hidden_layer_sizes</th>\n",
       "      <th>random_state</th>\n",
       "      <th>CV_TEST_RMSE</th>\n",
       "      <th>CV_TRAIN_RMSE</th>\n",
       "      <th>RANDOM SEED</th>\n",
       "      <th>TEST_MAX_ERROR</th>\n",
       "      <th>TEST_MEAN_ABS_ERROR</th>\n",
       "      <th>TEST_MEDIAN_ABS_ERROR</th>\n",
       "      <th>TEST_ROOT_MEAN_SQ_ERROR</th>\n",
       "      <th>Training Info</th>\n",
       "      <th>C</th>\n",
       "      <th>l1_ratio</th>\n",
       "      <th>loss</th>\n",
       "      <th>max_iter</th>\n",
       "      <th>selection</th>\n",
       "      <th>solver</th>\n",
       "      <th>bootstrap</th>\n",
       "      <th>max_depth</th>\n",
       "      <th>min_samples_leaf</th>\n",
       "      <th>min_samples_split</th>\n",
       "      <th>n_estimators</th>\n",
       "    </tr>\n",
       "  </thead>\n",
       "  <tbody>\n",
       "    <tr>\n",
       "      <th>0</th>\n",
       "      <td>2024-04-28 21:29:27</td>\n",
       "      <td>6.0s</td>\n",
       "      <td>868cfe21feb841558a11f270a0a6392f</td>\n",
       "      <td>esc-X-mlp-random-search</td>\n",
       "      <td>LOCAL</td>\n",
       "      <td>C:\\Users\\dacoq\\AppData\\Roaming\\Python\\Python31...</td>\n",
       "      <td>dacoq</td>\n",
       "      <td>FINISHED</td>\n",
       "      <td>relu</td>\n",
       "      <td>0.2801</td>\n",
       "      <td>556.0</td>\n",
       "      <td>(67, 93, 54)</td>\n",
       "      <td>NaN</td>\n",
       "      <td>0.263713</td>\n",
       "      <td>0.198438</td>\n",
       "      <td>777</td>\n",
       "      <td>2.512735</td>\n",
       "      <td>0.280249</td>\n",
       "      <td>0.197278</td>\n",
       "      <td>0.398988</td>\n",
       "      <td>Mejor modelo conseguido con RandomizedSearchCV...</td>\n",
       "      <td>NaN</td>\n",
       "      <td>NaN</td>\n",
       "      <td>NaN</td>\n",
       "      <td>NaN</td>\n",
       "      <td>NaN</td>\n",
       "      <td>NaN</td>\n",
       "      <td>NaN</td>\n",
       "      <td>NaN</td>\n",
       "      <td>NaN</td>\n",
       "      <td>NaN</td>\n",
       "      <td>NaN</td>\n",
       "    </tr>\n",
       "    <tr>\n",
       "      <th>1</th>\n",
       "      <td>2024-04-27 20:11:37</td>\n",
       "      <td>2.4s</td>\n",
       "      <td>2231e88727014ff684d0763fcc8a6c8b</td>\n",
       "      <td>MANUAL-selection-ELASTIC_random_search</td>\n",
       "      <td>LOCAL</td>\n",
       "      <td>/Users/tyomikjan/UNIVERSITY/PD1/PD/venv/lib/py...</td>\n",
       "      <td>tyomikjan</td>\n",
       "      <td>FINISHED</td>\n",
       "      <td>NaN</td>\n",
       "      <td>0.0100</td>\n",
       "      <td>NaN</td>\n",
       "      <td>NaN</td>\n",
       "      <td>777.0</td>\n",
       "      <td>0.453762</td>\n",
       "      <td>0.452350</td>\n",
       "      <td>777</td>\n",
       "      <td>2.524999</td>\n",
       "      <td>0.341155</td>\n",
       "      <td>0.274045</td>\n",
       "      <td>0.444501</td>\n",
       "      <td>Modelo elastic net</td>\n",
       "      <td>NaN</td>\n",
       "      <td>0.15</td>\n",
       "      <td>NaN</td>\n",
       "      <td>1000.0</td>\n",
       "      <td>NaN</td>\n",
       "      <td>NaN</td>\n",
       "      <td>NaN</td>\n",
       "      <td>NaN</td>\n",
       "      <td>NaN</td>\n",
       "      <td>NaN</td>\n",
       "      <td>NaN</td>\n",
       "    </tr>\n",
       "    <tr>\n",
       "      <th>2</th>\n",
       "      <td>2024-04-28 22:16:58</td>\n",
       "      <td>6.7s</td>\n",
       "      <td>c00c7aaa3a614762bd8110fcb260e756</td>\n",
       "      <td>esc_rf_con_random_search</td>\n",
       "      <td>LOCAL</td>\n",
       "      <td>C:\\Users\\dacoq\\AppData\\Roaming\\Python\\Python31...</td>\n",
       "      <td>dacoq</td>\n",
       "      <td>FINISHED</td>\n",
       "      <td>NaN</td>\n",
       "      <td>NaN</td>\n",
       "      <td>NaN</td>\n",
       "      <td>NaN</td>\n",
       "      <td>777.0</td>\n",
       "      <td>0.061150</td>\n",
       "      <td>0.024747</td>\n",
       "      <td>777</td>\n",
       "      <td>2.614159</td>\n",
       "      <td>0.273048</td>\n",
       "      <td>0.188845</td>\n",
       "      <td>0.388882</td>\n",
       "      <td>Random Forest donde los hiperparámetros se esc...</td>\n",
       "      <td>NaN</td>\n",
       "      <td>NaN</td>\n",
       "      <td>NaN</td>\n",
       "      <td>NaN</td>\n",
       "      <td>NaN</td>\n",
       "      <td>NaN</td>\n",
       "      <td>True</td>\n",
       "      <td>28.0</td>\n",
       "      <td>4.0</td>\n",
       "      <td>4.0</td>\n",
       "      <td>201.0</td>\n",
       "    </tr>\n",
       "  </tbody>\n",
       "</table>\n",
       "</div>"
      ]
     },
     "execution_count": 23,
     "metadata": {},
     "output_type": "execute_result"
    }
   ],
   "execution_count": 23
  },
  {
   "cell_type": "markdown",
   "id": "2c96bfece83cc46f",
   "metadata": {},
   "source": [
    "### RAIZ DE ECM por SUBCONJUNTOS"
   ]
  },
  {
   "cell_type": "markdown",
   "id": "bfaae1963771a28",
   "metadata": {},
   "source": [
    "Pasamos a ver la diferencia entre el error (raiz del error cuadratico medio) de test de validación(CV_TEST_RMSE) con el error de train de validación (CV_TRAIN_RMSE) y el error sobre TEST (TEST_ROOT_MEAN_SQ_ERROR)"
   ]
  },
  {
   "cell_type": "code",
   "id": "30bb440dcd4d8a7a",
   "metadata": {
    "ExecuteTime": {
     "end_time": "2024-04-28T20:44:36.585217Z",
     "start_time": "2024-04-28T20:44:36.226478Z"
    }
   },
   "source": [
    "fig, ax = plt.subplots(figsize=(4,4))\n",
    "runs = runs.sort_values(by='TEST_ROOT_MEAN_SQ_ERROR')\n",
    "\n",
    "runs.plot(x = 'Name', y = ['TEST_ROOT_MEAN_SQ_ERROR', 'CV_TEST_RMSE', 'CV_TRAIN_RMSE' ], kind = 'barh', ax=ax)\n",
    "plt.legend(['TEST', 'VAL TEST', 'VAL TRAIN'], loc='upper left')\n",
    "ax.set_title('RAIZ DEL ECM por SUBCONJUNTOS')\n",
    "ax.set_ylabel('Modelo')\n",
    "ax.set_xlabel('metros')"
   ],
   "outputs": [
    {
     "data": {
      "text/plain": [
       "Text(0.5, 0, 'metros')"
      ]
     },
     "execution_count": 29,
     "metadata": {},
     "output_type": "execute_result"
    },
    {
     "data": {
      "text/plain": [
       "<Figure size 400x400 with 1 Axes>"
      ],
      "image/png": "[encoded data removed]"
     },
     "metadata": {},
     "output_type": "display_data"
    }
   ],
   "execution_count": 29
  },
  {
   "metadata": {},
   "cell_type": "markdown",
   "source": "#### Vemos que el overfitting no le afecta tanto al modelo de elasticnet. Sin embargo, en el caso de random forest si se ve una clara presencia de overfitting.",
   "id": "f8ba62f96f26f0b5"
  },
  {
   "cell_type": "markdown",
   "id": "4f362e6c92af49e0",
   "metadata": {},
   "source": [
    "### Otras métricas sobre el conjunto TEST"
   ]
  },
  {
   "metadata": {
    "ExecuteTime": {
     "end_time": "2024-04-28T20:46:21.430646Z",
     "start_time": "2024-04-28T20:46:21.424831Z"
    }
   },
   "cell_type": "code",
   "source": [
    "colors = ['gold', 'red', 'purple']\n",
    "dictCol = dict(zip(runs.Name.unique(), colors))\n",
    "runs['color'] = runs.Name.map(dictCol)"
   ],
   "id": "da3ae87273f58d40",
   "outputs": [],
   "execution_count": 31
  },
  {
   "cell_type": "markdown",
   "id": "1e86cd71536385d4",
   "metadata": {},
   "source": [
    "#### Error absoluto medio\n",
    "\n",
    "Al no usar cuadrados y raices es una métrica más precisa del error"
   ]
  },
  {
   "cell_type": "code",
   "id": "fc13488a558efc13",
   "metadata": {
    "ExecuteTime": {
     "end_time": "2024-04-28T20:48:00.825024Z",
     "start_time": "2024-04-28T20:48:00.663126Z"
    }
   },
   "source": [
    "fig, ax = plt.subplots(figsize=(4,4))\n",
    "runs = runs.sort_values(by='TEST_MEAN_ABS_ERROR')\n",
    "\n",
    "ax.barh(y = runs['Name'], width = runs['TEST_MEAN_ABS_ERROR'], color=runs.color)\n",
    "ax.set_title('ERROR ABSOLUTO MEDIO en TEST')\n",
    "ax.set_ylabel('Modelo')\n",
    "ax.set_xlabel('metros')"
   ],
   "outputs": [
    {
     "data": {
      "text/plain": [
       "Text(0.5, 0, 'metros')"
      ]
     },
     "execution_count": 39,
     "metadata": {},
     "output_type": "execute_result"
    },
    {
     "data": {
      "text/plain": [
       "<Figure size 400x400 with 1 Axes>"
      ],
      "image/png": "[encoded data removed]"
     },
     "metadata": {},
     "output_type": "display_data"
    }
   ],
   "execution_count": 39
  },
  {
   "cell_type": "markdown",
   "id": "215fb97f2cd74fe4",
   "metadata": {},
   "source": "En este caso vemos que varía bastante el rango de este error con respecto a la raiz de ECM, es menor (hasta 0,3 en vez de 0,4 para raiz de ECM)"
  },
  {
   "cell_type": "markdown",
   "id": "14b0c2dd7a94af81",
   "metadata": {},
   "source": [
    "#### Mediana del error absoluto\n",
    "\n",
    "En vez de usar la media, usamos la mediana para que no afecten tanto los errores extremos"
   ]
  },
  {
   "cell_type": "code",
   "id": "a7f634eee3261c97",
   "metadata": {
    "ExecuteTime": {
     "end_time": "2024-04-28T20:47:20.337439Z",
     "start_time": "2024-04-28T20:47:20.151736Z"
    }
   },
   "source": [
    "fig, ax = plt.subplots(figsize=(4,4))\n",
    "runs = runs.sort_values(by='TEST_MEDIAN_ABS_ERROR')\n",
    "\n",
    "ax.barh(y = runs['Name'], width = runs['TEST_MEDIAN_ABS_ERROR'], color=runs.color)\n",
    "ax.set_title('MEDIANA del ERROR ABSOLUTO en TEST')\n",
    "ax.set_ylabel('Modelo')\n",
    "ax.set_xlabel('metros')"
   ],
   "outputs": [
    {
     "data": {
      "text/plain": [
       "Text(0.5, 0, 'metros')"
      ]
     },
     "execution_count": 36,
     "metadata": {},
     "output_type": "execute_result"
    },
    {
     "data": {
      "text/plain": [
       "<Figure size 400x400 with 1 Axes>"
      ],
      "image/png": "[encoded data removed]"
     },
     "metadata": {},
     "output_type": "display_data"
    }
   ],
   "execution_count": 36
  },
  {
   "cell_type": "markdown",
   "id": "efd7d1639a77c98e",
   "metadata": {},
   "source": "En este caso también el rango baja respecto la anterior gráfica (no llega a 0,3 como en la anterior). Esto es lógico, pues en el anterior gráfico al coger la media se ve afectada por valores más extremos."
  },
  {
   "cell_type": "markdown",
   "id": "aecaa9b9726ff56c",
   "metadata": {},
   "source": [
    "#### Error máximo:\n",
    "Métrica importante y nos ayudará a tener en cuenta que modelos pueden funcionar mejor para predecir alturas de olas de todos los rangos"
   ]
  },
  {
   "cell_type": "code",
   "id": "a66c6491ed7974e9",
   "metadata": {
    "ExecuteTime": {
     "end_time": "2024-04-28T20:47:40.054125Z",
     "start_time": "2024-04-28T20:47:39.877069Z"
    }
   },
   "source": [
    "fig, ax = plt.subplots(figsize=(4,4))\n",
    "runs = runs.sort_values(by='TEST_MAX_ERROR')\n",
    "\n",
    "ax.barh(y = runs['Name'], width = runs['TEST_MAX_ERROR'], color=runs.color)\n",
    "ax.set_title('ERROR MAXIMO en TEST')\n",
    "ax.set_ylabel('Modelo')\n",
    "ax.set_xlabel('metros')"
   ],
   "outputs": [
    {
     "data": {
      "text/plain": [
       "Text(0.5, 0, 'metros')"
      ]
     },
     "execution_count": 37,
     "metadata": {},
     "output_type": "execute_result"
    },
    {
     "data": {
      "text/plain": [
       "<Figure size 400x400 with 1 Axes>"
      ],
      "image/png": "[encoded data removed]"
     },
     "metadata": {},
     "output_type": "display_data"
    }
   ],
   "execution_count": 37
  },
  {
   "metadata": {},
   "cell_type": "markdown",
   "source": "#### En general, los modelos son muy parecidos en las métricas, podríamos elegir el modelo de random forest, pues es lider en todas las métricas excepto el error máximo",
   "id": "75f8e4a49fd52b57"
  },
  {
   "cell_type": "markdown",
   "id": "ab99b854a65be89",
   "metadata": {},
   "source": [
    "### Análisis de gráficas de dispersión (Y_true vs Y_predicted) por segmentos (Alturas de olas)"
   ]
  },
  {
   "metadata": {
    "ExecuteTime": {
     "end_time": "2024-04-28T20:47:49.406230Z",
     "start_time": "2024-04-28T20:47:49.325725Z"
    }
   },
   "cell_type": "code",
   "source": [
    "# cargamos datos\n",
    "X_train, X_test, y_train, y_test = sep_train_test()"
   ],
   "id": "f26c2713-dd52-4166-bcf9-edb1c59cc50a",
   "outputs": [],
   "execution_count": 38
  },
  {
   "cell_type": "markdown",
   "id": "1cf6172fb14268e3",
   "metadata": {},
   "source": [
    "##### Separamos las olas en 4 grupos por rangos de altura:"
   ]
  },
  {
   "cell_type": "code",
   "id": "13dab5ace5df7ff6",
   "metadata": {},
   "source": [
    "def class_ola(ola):\n",
    "    if (ola < 1):\n",
    "        return \"x<1\"\n",
    "    if (ola < 2):\n",
    "        return \"1<x<2\"\n",
    "    if (ola < 3):\n",
    "        return \"2<x<3\"\n",
    "    else:\n",
    "        return \"x>3\""
   ],
   "outputs": [],
   "execution_count": null
  },
  {
   "cell_type": "code",
   "id": "3abd2d7df4071134",
   "metadata": {},
   "source": [
    "ola_clas = y_test.map(class_ola)\n",
    "ola_clas.value_counts().plot(kind='pie', label='', title='Segmentación de olas', colors=['gray', \"aqua\", \"yellow\", \"red\"])"
   ],
   "outputs": [],
   "execution_count": null
  },
  {
   "cell_type": "markdown",
   "id": "3a24e2fd15e2dc22",
   "metadata": {},
   "source": [
    "#### Funcion auxiliar para poder convertir el dataframe de test en uno lo que tiene que recibir el modelo como input"
   ]
  },
  {
   "cell_type": "code",
   "id": "19c87461ae03332d",
   "metadata": {},
   "source": [
    "# Devuelve df_test modificado para que lo acepte el modelo m para hacer predict\n",
    "def to_model_input(df_train, df_test, m):\n",
    "    # Eliminamos las columnas repetidas y las columnas temporales (visto en el notebook del analisis)\n",
    "    input_test = df_test.drop(columns=[\"Temperatura\", 'wspd', 'anio', 'mes', 'dia', 'hora'])\n",
    "    input_train = df_train.drop(columns=[\"Temperatura\", 'wspd', 'anio', 'mes', 'dia', 'hora'])\n",
    "    # if \"auto\" in m: no hay modelos automaticos, su rendimiento es muy bajo\n",
    "    if \"MANUAL\" in m: # quitamos columnas\n",
    "        cols = ['moonphase', 'temp', 'rh', 'pressure',\n",
    "       'vis', 'uv_index', 'wdir_E', 'wdir_ENE', 'wdir_ESE', 'wdir_N',\n",
    "       'wdir_NE', 'wdir_NNE', 'wdir_NNW', 'wdir_NW', 'wdir_S', 'wdir_SE',\n",
    "       'wdir_SSE', 'wdir_SSW', 'wdir_SW', 'wdir_VAR', 'wdir_W', 'wdir_WNW',\n",
    "       'wdir_WSW', 'Vviento', 'PeriodoOlas', 'Lluvia', 'Nubosidad']\n",
    "        input_test = input_test[cols]\n",
    "        input_train = input_train[cols]\n",
    "    if \"esc\" in m: # escalamos datos\n",
    "        scaler = ColumnTransformer(\n",
    "            transformers=[\n",
    "                # no escalonamos las dummy de dirección de viento\n",
    "                (\"num\", StandardScaler(), [c for c in input_train.columns if not c.startswith('wdir_')]),\n",
    "            ],\n",
    "            remainder='passthrough'\n",
    "        )\n",
    "        scaler.fit(input_train)\n",
    "        input_test = scaler.transform(input_test)\n",
    "    \n",
    "    return input_test"
   ],
   "outputs": [],
   "execution_count": null
  },
  {
   "cell_type": "markdown",
   "id": "a308e2d8929b98d8",
   "metadata": {},
   "source": [
    "#### Asignamos colores a los diferentes rangos para visualizar los segmentos en los graficos de dispersion"
   ]
  },
  {
   "cell_type": "code",
   "id": "ac35e8f9e5897c26",
   "metadata": {},
   "source": [
    "def ola_color(ola):\n",
    "    if (ola < 1):\n",
    "        return \"gray\"\n",
    "    if (ola < 2):\n",
    "        return \"aqua\"\n",
    "    if (ola < 3):\n",
    "        return \"yellow\"\n",
    "    else:\n",
    "        return \"red\" "
   ],
   "outputs": [],
   "execution_count": null
  },
  {
   "cell_type": "code",
   "id": "9c09c1c381428a1f",
   "metadata": {},
   "source": [
    "fig, axs = plt.subplots(3, 3, figsize=(17, 17))\n",
    "for i,m in enumerate(runs.Name):\n",
    "    ax = axs[i//3, i%3]\n",
    "    flo = MLFlow()\n",
    "    # cargamos el modelo\n",
    "    model = flo.get_saved_model(m)\n",
    "    y_pred = model.predict(to_model_input(X_train, X_test, m))\n",
    "    for cl in ola_clas.unique():\n",
    "        filter = ola_clas == cl\n",
    "        ax.scatter(y_test[filter], y_pred[filter], color=y_test[filter].map(ola_color), alpha=0.5)\n",
    "    \n",
    "    # nuestra recta - objetivo\n",
    "    ax.axline((0, 0), (7, 7), color=\"0\")\n",
    "    ax.legend([\"x>3\", \"2<x<3\", \"1<x<2\", \"x<1\"], loc='upper left')\n",
    "    ax.set_xlabel('TRUE (metros)')\n",
    "    ax.set_ylabel('PREDICTED (metros)')\n",
    "    ax.set_title(m, fontsize=10)\n",
    "    ax.set_xticks(np.linspace(-1, 7, 9))\n",
    "    ax.set_yticks(np.linspace(-1, 7, 9))\n",
    "axs[2,2].axis('off')\n",
    "fig.suptitle('Alturas de olas: PREDICTED vs TRUE', fontsize=16)"
   ],
   "outputs": [],
   "execution_count": null
  },
  {
   "cell_type": "markdown",
   "id": "c28c726cc66b3218",
   "metadata": {},
   "source": [
    "Vemos que nuestros modelos llegan a predecir olas negativas, lo cual se podria funcionar devolviendo el maximo entre la prediccion y el 0\n",
    "\n",
    "`return np.maximum(y_pred, 0)`\n",
    "\n",
    "Además, nunca devuelve una altura de olas superior a 5 metros, además los errores del grupo de olas más altas es el más disperso, lo cual indica que la técnica lineal puede no ser la mejor para resolver este problema a partir de los datos que tenemos\n",
    "\n",
    "Pero de resto, estos modelos, como en las anteriores evaluaciones, siguen siendo muy parecidos en los gráficos de disperción."
   ]
  },
  {
   "cell_type": "markdown",
   "id": "151a40f8476c4255",
   "metadata": {},
   "source": [
    "#### Analisis de errores por dias\n",
    "\n",
    "En esta sección analizaremos los errores viendolos como en un calendario\n",
    "\n",
    "Primero vemos las distribuciones de olas por dias en nuestro conjunto TEST"
   ]
  },
  {
   "cell_type": "markdown",
   "id": "f4f81195befb9e87",
   "metadata": {},
   "source": [
    "Para ello primero definimos una función auxiliar para mostrar los datos en formato calendario"
   ]
  },
  {
   "cell_type": "code",
   "id": "a5adb369f97d8236",
   "metadata": {
    "ExecuteTime": {
     "end_time": "2024-04-28T20:48:41.690946Z",
     "start_time": "2024-04-28T20:48:41.684872Z"
    }
   },
   "source": [
    "def plot_calendar(X_data, y_data, title, cmap = None, **kwargs):\n",
    "    # unimos las columnas temporales con la y\n",
    "    date_height_df = pd.concat([X_data[['anio', 'mes', 'dia', 'hora']].reset_index(drop=True), y_data.reset_index(drop=True)], axis=1)\n",
    "    # renombramos las columnas para que se pueda convertir a datetimeindex\n",
    "    date_height_df = date_height_df.rename({'anio': 'year', 'mes': 'month', 'dia': 'day', 'hora': 'hour'}, axis='columns')\n",
    "    \n",
    "    date_height_df.set_index(DatetimeIndex(pd.to_datetime(date_height_df[['year', 'month', 'day']])), inplace=True)\n",
    "    # ya no necesitamos esta informacion, la tenemos en el indice\n",
    "    date_height_df.drop(columns=['year', 'month', 'day'], inplace=True)\n",
    "    \n",
    "    # tenemos que agregar con la media porque son datos por hora y necesitamos los datos por dia\n",
    "    date_height_df = date_height_df.groupby(date_height_df.index).agg({'AlturaOlas': 'mean'})\n",
    "    if cmap is None:\n",
    "        # para los colores https://stackoverflow.com/questions/16834861/create-own-colormap-using-matplotlib-and-plot-color-scale\n",
    "        cvals  = [0, 1, 2, 3]\n",
    "        colors = ['gray', \"aqua\", \"yellow\", \"red\"]\n",
    "        \n",
    "        norm=plt.Normalize(min(cvals),max(cvals))\n",
    "        tuples = list(zip(map(norm,cvals), colors))\n",
    "        cmap = LinearSegmentedColormap.from_list(\"\", tuples)\n",
    "    # mostramos el grafico\n",
    "    calplot.calplot(date_height_df.AlturaOlas,\n",
    "                    suptitle = title,\n",
    "                    suptitle_kws = {'x': 0.4, 'y': 1.0, 'fontsize': 16},\n",
    "                    cmap=cmap,\n",
    "                    figsize=(15,4),\n",
    "                    **kwargs)"
   ],
   "outputs": [],
   "execution_count": 40
  },
  {
   "cell_type": "code",
   "id": "654709ec21148e52",
   "metadata": {
    "ExecuteTime": {
     "end_time": "2024-04-28T20:48:42.224869Z",
     "start_time": "2024-04-28T20:48:41.888737Z"
    }
   },
   "source": [
    "plot_calendar(X_test, y_test, 'Altura olas del conjunto TEST')"
   ],
   "outputs": [
    {
     "data": {
      "text/plain": [
       "<Figure size 1500x400 with 2 Axes>"
      ],
      "image/png": "[encoded data removed]"
     },
     "metadata": {},
     "output_type": "display_data"
    }
   ],
   "execution_count": 41
  },
  {
   "cell_type": "markdown",
   "id": "11086642b377c041",
   "metadata": {},
   "source": [
    "#### Vemos que las olas mayores de 3 metros se concentran principalmente en ENERO, MARZO y DICIEMBRE"
   ]
  },
  {
   "cell_type": "markdown",
   "id": "144e739b668bff9c",
   "metadata": {},
   "source": [
    "#### Ahora pasamos a ver los errores del modelo cometidos en formato de calendario"
   ]
  },
  {
   "cell_type": "markdown",
   "id": "f87cd803-caed-470d-b0c4-20596704e165",
   "metadata": {},
   "source": [
    "#### El color azul significa que hemos SOBREESTIMADO la ola (subimos expectativas) y el color rojo que la hemos SUBESTIMADO (supone mayor riesgo al cliente)\n",
    "\n",
    "##### Primero hacemos las graficas con colores que vayan del minimo al maximo para ver donde estan los mayores errores"
   ]
  },
  {
   "cell_type": "code",
   "id": "9e6237bfc6e59272",
   "metadata": {},
   "source": [
    "\n",
    "for i,m in enumerate(runs.Name):\n",
    "    flo = MLFlow()\n",
    "    # cargamos el modelo\n",
    "    model = flo.get_saved_model(m)\n",
    "    # pasamos numpy a Series\n",
    "    y_pred = model.predict(to_model_input(X_train, X_test, m))\n",
    "    \n",
    "    diff = y_pred - y_test\n",
    "    # para los colores https://stackoverflow.com/questions/16834861/create-own-colormap-using-matplotlib-and-plot-color-scale\n",
    "    cvals  = [-2.5, 0, 2.5]\n",
    "    colors = ['red', '1', 'blue']\n",
    "    \n",
    "    norm=plt.Normalize(min(cvals),max(cvals))\n",
    "    tuples = list(zip(map(norm,cvals), colors))\n",
    "    cmap = LinearSegmentedColormap.from_list(\"\", tuples)\n",
    "    plot_calendar(X_test, diff, 'ERROR = PREDICT - TRUE\\n' + m, cmap, vmin=-2.5, vmax=2.5)\n"
   ],
   "outputs": [],
   "execution_count": null
  },
  {
   "metadata": {},
   "cell_type": "markdown",
   "source": "#### Vemos la presencia de 4 fallos extremos, 1 de ellos se corresponde con una ola grande, otros con olas medianas.",
   "id": "d3bae54b-3734-4f37-be05-482baf678262"
  },
  {
   "cell_type": "markdown",
   "id": "65df53d5-a249-4b16-b560-cc4f56c09567",
   "metadata": {},
   "source": [
    "#### Ahora hacemos las graficas para tener una vision con limite de -1.5, 1.5 para que se vea mejor la diferencia entre los errores (los fallos extremos se notarán menos)"
   ]
  },
  {
   "cell_type": "code",
   "id": "e0e75ce4-3a6d-4471-8963-48b49045bc13",
   "metadata": {},
   "source": [
    "\n",
    "for i,m in enumerate(runs.Name):\n",
    "    flo = MLFlow()\n",
    "    # cargamos el modelo\n",
    "    model = flo.get_saved_model(m)\n",
    "    # pasamos numpy a Series\n",
    "    y_pred = model.predict(to_model_input(X_train, X_test, m))\n",
    "    \n",
    "    diff = y_pred - y_test\n",
    "    # para los colores https://stackoverflow.com/questions/16834861/create-own-colormap-using-matplotlib-and-plot-color-scale\n",
    "    cvals  = [-2.5, 0, 2.5]\n",
    "    colors = ['red', '1', 'blue']\n",
    "    \n",
    "    norm=plt.Normalize(min(cvals),max(cvals))\n",
    "    tuples = list(zip(map(norm,cvals), colors))\n",
    "    cmap = LinearSegmentedColormap.from_list(\"\", tuples)\n",
    "    plot_calendar(X_test, diff, 'ERROR = PREDICT - TRUE\\n' + m, cmap, vmin=-1.5, vmax=1.5)\n"
   ],
   "outputs": [],
   "execution_count": null
  },
  {
   "cell_type": "markdown",
   "id": "2adab6f7-1819-4534-872e-d6cf1b2dde19",
   "metadata": {},
   "source": [
    "#### En general, podemos decir que los modelos tienden a sobreestimar las olas en la epoca de otoño - invierno (agosto-diciembre). Esto realmente se podría explicar con que la cantidad de olas de menor altura es mucho mayor que la cantidad de olas de mayor altura.\n",
    "\n",
    "\n",
    "#### Además, hay muchos puntos rojos, indicando subestimación, algo muy importante pues no podemos poner en riesgo la salud de nuestros clientes, sobre todos niños pequeños, cuyos tutores legales podrían pensar que se trata de unas condiciones de calma, cuando realmente son olas peligrosas. Esto ocurre en ENERO sobre todo, donde, como vimos anteriormente, hay bastantes olas de gran altura."
   ]
  },
  {
   "cell_type": "markdown",
   "id": "02bd4207-6194-46a6-b426-5eba554818c2",
   "metadata": {},
   "source": [
    "### CONCLUSION"
   ]
  }
 ],
 "metadata": {
  "kernelspec": {
   "display_name": "Python 3 (ipykernel)",
   "language": "python",
   "name": "python3"
  },
  "language_info": {
   "codemirror_mode": {
    "name": "ipython",
    "version": 3
   },
   "file_extension": ".py",
   "mimetype": "text/x-python",
   "name": "python",
   "nbconvert_exporter": "python",
   "pygments_lexer": "ipython3",
   "version": "3.11.5"
  }
 },
 "nbformat": 4,
 "nbformat_minor": 5
}
