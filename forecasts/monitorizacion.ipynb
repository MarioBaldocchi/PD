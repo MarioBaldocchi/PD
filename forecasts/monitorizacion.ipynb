{
 "cells": [
  {
   "cell_type": "markdown",
   "id": "31b4be7b1a5adce1",
   "metadata": {},
   "source": [
    "### Monitorización de la deriva\n",
    "\n",
    "Realizaremos la monitorización sobre las observaciones de 2024, pues los datos recopilados de las predicciones son muy escasos"
   ]
  },
  {
   "cell_type": "markdown",
   "id": "4f977ca8fcf3b68e",
   "metadata": {},
   "source": [
    "#### Importamos librerías necesarias"
   ]
  },
  {
   "metadata": {
    "ExecuteTime": {
     "end_time": "2024-05-07T23:02:09.533940Z",
     "start_time": "2024-05-07T23:02:09.531036Z"
    }
   },
   "cell_type": "code",
   "source": [
    "import sys\n",
    "sys.path.append(\"../\")"
   ],
   "id": "cd421c3ac25cebe5",
   "outputs": [],
   "execution_count": 131
  },
  {
   "cell_type": "code",
   "id": "3b53b700eba4c24f",
   "metadata": {
    "ExecuteTime": {
     "end_time": "2024-05-07T23:02:09.914226Z",
     "start_time": "2024-05-07T23:02:09.910503Z"
    }
   },
   "source": [
    "import pickle\n",
    "\n",
    "import matplotlib.pyplot as plt\n",
    "import numpy as np\n",
    "from sklearn.preprocessing import StandardScaler\n",
    "from sklearn.compose import ColumnTransformer\n",
    "import pandas as pd"
   ],
   "outputs": [],
   "execution_count": 132
  },
  {
   "cell_type": "markdown",
   "id": "cc2907a9cb58c319",
   "metadata": {},
   "source": [
    "Cargamos los datos de forecast y las observaciones que hemos usado para entrenamiento"
   ]
  },
  {
   "cell_type": "code",
   "id": "66c0baeee9f68009",
   "metadata": {
    "ExecuteTime": {
     "end_time": "2024-05-07T23:02:11.036925Z",
     "start_time": "2024-05-07T23:02:11.010861Z"
    }
   },
   "source": [
    "df_train = pd.read_parquet(\"../clean/df_definitivo.parquet\")\n",
    "\n",
    "df_new = pd.read_parquet(\"../clean/df_merged_2024.parquet\")\n",
    "\n",
    "# eliminamos repetidas, columnas que no participan en el modelo\n",
    "df_train.drop(columns=['Temperatura', 'wspd'], inplace=True) \n",
    "\n",
    "df_new.drop(columns=['Temperatura', 'wspd'], inplace=True) "
   ],
   "outputs": [],
   "execution_count": 133
  },
  {
   "cell_type": "markdown",
   "id": "6cee66ee8611de73",
   "metadata": {},
   "source": [
    "##### Diferencia en tamaño"
   ]
  },
  {
   "metadata": {
    "ExecuteTime": {
     "end_time": "2024-05-07T21:33:04.994601Z",
     "start_time": "2024-05-07T21:33:04.988757Z"
    }
   },
   "cell_type": "code",
   "source": "df_train.shape, df_new.shape",
   "id": "dc9d1b8e64aedfdf",
   "outputs": [
    {
     "data": {
      "text/plain": [
       "((12810, 36), (1400, 36))"
      ]
     },
     "execution_count": 4,
     "metadata": {},
     "output_type": "execute_result"
    }
   ],
   "execution_count": 4
  },
  {
   "cell_type": "markdown",
   "id": "3371c8a3c4394764",
   "metadata": {},
   "source": "Al haber una gran diferencia del tamaño, vamos a escoger los mismos meses del año que están en el df_new para que el tamaño del conjunto train no sea 10 veces más grande"
  },
  {
   "metadata": {
    "ExecuteTime": {
     "end_time": "2024-05-07T21:35:58.446065Z",
     "start_time": "2024-05-07T21:35:58.441155Z"
    }
   },
   "cell_type": "code",
   "source": "df_train = df_train[df_train.mes.isin(df_new.mes.unique())]",
   "id": "7bed00b6aed375a2",
   "outputs": [],
   "execution_count": 7
  },
  {
   "metadata": {
    "ExecuteTime": {
     "end_time": "2024-05-07T21:36:00.961763Z",
     "start_time": "2024-05-07T21:36:00.957980Z"
    }
   },
   "cell_type": "code",
   "source": "df_train.shape, df_new.shape",
   "id": "1a3f1ae75f99d8c1",
   "outputs": [
    {
     "data": {
      "text/plain": [
       "((4716, 36), (1400, 36))"
      ]
     },
     "execution_count": 8,
     "metadata": {},
     "output_type": "execute_result"
    }
   ],
   "execution_count": 8
  },
  {
   "metadata": {},
   "cell_type": "markdown",
   "source": "Hemos podido reducir la diferencia en cantidad bastante, además ahora son condiciones más igualadas al trabajar con los mismos meses",
   "id": "35a12be199963ed3"
  },
  {
   "cell_type": "markdown",
   "id": "ac5973951c1979ec",
   "metadata": {},
   "source": [
    "## Distribución las variables explicativas más importantes\n",
    "Nos fijaremos en las importancias de las variables del bosque"
   ]
  },
  {
   "metadata": {},
   "cell_type": "markdown",
   "source": [
    "Vamos a tener que recuperar el scaler para poder conseguir el orden correcto de las columnas\n",
    "(ColumnTransformer cambia de orden las columnas asi que no son lo mismo las columnas de df SIN escalar y df CON escaldo)"
   ],
   "id": "b616524334b1f5b4"
  },
  {
   "metadata": {
    "ExecuteTime": {
     "end_time": "2024-05-07T21:51:51.412803Z",
     "start_time": "2024-05-07T21:51:51.398447Z"
    }
   },
   "cell_type": "code",
   "source": [
    "X_train, y_train = df_train.drop(columns=['AlturaOlas', 'anio', 'mes', 'dia', 'hora']), df_train['AlturaOlas']\n",
    "\n",
    "scaler = ColumnTransformer(\n",
    "    transformers=[\n",
    "        # no escalonamos las dummy de dirección de viento\n",
    "        (\"num\", StandardScaler(), [c for c in X_train.columns if not c.startswith('wdir_')]),\n",
    "    ],\n",
    "    remainder='passthrough',\n",
    "    verbose_feature_names_out=False\n",
    ").set_output(transform='pandas')\n",
    "cols_order = scaler.fit_transform(X_train).columns\n",
    "cols_order"
   ],
   "id": "7f9cc55578abecd6",
   "outputs": [
    {
     "data": {
      "text/plain": [
       "Index(['moonphase', 'temp', 'dewPt', 'heat_index', 'rh', 'pressure', 'vis',\n",
       "       'wc', 'feels_like', 'uv_index', 'Vviento', 'PeriodoOlas', 'Lluvia',\n",
       "       'Nubosidad', 'wdir_E', 'wdir_ENE', 'wdir_ESE', 'wdir_N', 'wdir_NE',\n",
       "       'wdir_NNE', 'wdir_NNW', 'wdir_NW', 'wdir_S', 'wdir_SE', 'wdir_SSE',\n",
       "       'wdir_SSW', 'wdir_SW', 'wdir_VAR', 'wdir_W', 'wdir_WNW', 'wdir_WSW'],\n",
       "      dtype='object')"
      ]
     },
     "execution_count": 19,
     "metadata": {},
     "output_type": "execute_result"
    }
   ],
   "execution_count": 19
  },
  {
   "cell_type": "markdown",
   "id": "2711b5465b1ad44b",
   "metadata": {},
   "source": [
    "Cargamos el modelo que hemos seleccionado como el mejor"
   ]
  },
  {
   "cell_type": "code",
   "id": "f52ed9b9b1368107",
   "metadata": {
    "ExecuteTime": {
     "end_time": "2024-05-07T21:51:58.255956Z",
     "start_time": "2024-05-07T21:51:58.210448Z"
    }
   },
   "source": [
    "filename = '../modelos/modelo_definitivo/modelo_rf_def.pkl'\n",
    "\n",
    "with open(filename, 'rb') as file:\n",
    "    model = pickle.load(file)\n"
   ],
   "outputs": [
    {
     "name": "stderr",
     "output_type": "stream",
     "text": [
      "/Users/tyomikjan/UNIVERSITY/PD1/PD/venv/lib/python3.11/site-packages/sklearn/base.py:376: InconsistentVersionWarning: Trying to unpickle estimator DecisionTreeRegressor from version 1.4.2 when using version 1.4.1.post1. This might lead to breaking code or invalid results. Use at your own risk. For more info please refer to:\n",
      "https://scikit-learn.org/stable/model_persistence.html#security-maintainability-limitations\n",
      "  warnings.warn(\n",
      "/Users/tyomikjan/UNIVERSITY/PD1/PD/venv/lib/python3.11/site-packages/sklearn/base.py:376: InconsistentVersionWarning: Trying to unpickle estimator RandomForestRegressor from version 1.4.2 when using version 1.4.1.post1. This might lead to breaking code or invalid results. Use at your own risk. For more info please refer to:\n",
      "https://scikit-learn.org/stable/model_persistence.html#security-maintainability-limitations\n",
      "  warnings.warn(\n"
     ]
    }
   ],
   "execution_count": 20
  },
  {
   "cell_type": "markdown",
   "id": "a198b7697635bf0a",
   "metadata": {},
   "source": [
    "Mostramos las importancias de las variables del modelo"
   ]
  },
  {
   "cell_type": "code",
   "id": "bd25a4e1dd492e0c",
   "metadata": {
    "ExecuteTime": {
     "end_time": "2024-05-07T21:52:15.477887Z",
     "start_time": "2024-05-07T21:52:15.118550Z"
    }
   },
   "source": [
    "plt.figure(figsize=(5,7))\n",
    "importancias = pd.DataFrame({'value': model.feature_importances_,'name': cols_order})\n",
    "importancias = importancias.sort_values(by='value')\n",
    "plt.barh(y=importancias.name, width=importancias.value)\n",
    "plt.title('Importancias de variables de modelo')"
   ],
   "outputs": [
    {
     "data": {
      "text/plain": [
       "Text(0.5, 1.0, 'Importancias de variables de modelo')"
      ]
     },
     "execution_count": 21,
     "metadata": {},
     "output_type": "execute_result"
    },
    {
     "data": {
      "text/plain": [
       "<Figure size 500x700 with 1 Axes>"
      ],
      "image/png": "[encoded data removed]"
     },
     "metadata": {},
     "output_type": "display_data"
    }
   ],
   "execution_count": 21
  },
  {
   "metadata": {},
   "cell_type": "markdown",
   "source": "Según el gráfico, vemos que las tres variables con mayor importancia (con diferencia, además) son la velocidad del viento (Vviento), el período de las olas (PeriodoOlas) y la presión atmosférica (pressure). ",
   "id": "631f6537bd711451"
  },
  {
   "metadata": {
    "ExecuteTime": {
     "end_time": "2024-05-07T22:11:47.190582Z",
     "start_time": "2024-05-07T22:11:47.187790Z"
    }
   },
   "cell_type": "code",
   "source": "imp_cols = ['Vviento', 'PeriodoOlas', 'pressure']",
   "id": "975835d977c77105",
   "outputs": [],
   "execution_count": 51
  },
  {
   "metadata": {},
   "cell_type": "markdown",
   "source": "#### Usando métricas agregadas para evaluar las diferencias",
   "id": "e7dc8fc68a40059a"
  },
  {
   "cell_type": "markdown",
   "id": "229ea11a16cd13fb",
   "metadata": {},
   "source": [
    "### 1. VViento\n",
    "(nudos)"
   ]
  },
  {
   "cell_type": "code",
   "id": "e0c94b015e46eaf",
   "metadata": {
    "ExecuteTime": {
     "end_time": "2024-05-07T22:13:38.842103Z",
     "start_time": "2024-05-07T22:13:38.838771Z"
    }
   },
   "source": [
    "var = 'Vviento'"
   ],
   "outputs": [],
   "execution_count": 60
  },
  {
   "cell_type": "markdown",
   "id": "59839cddc13f331b",
   "metadata": {},
   "source": "Analisis por distintos valores estadísticos"
  },
  {
   "cell_type": "code",
   "id": "ef5156d2659c28b3",
   "metadata": {
    "ExecuteTime": {
     "end_time": "2024-05-07T22:15:37.767902Z",
     "start_time": "2024-05-07T22:15:37.758104Z"
    }
   },
   "source": [
    "df = pd.concat([df_train[var].describe(), df_new[var].describe()], axis=1)\n",
    "df.columns = ['OLD ' + var, 'NEW ' + var]\n",
    "df"
   ],
   "outputs": [
    {
     "data": {
      "text/plain": [
       "       OLD Vviento  NEW Vviento\n",
       "count  4716.000000  1400.000000\n",
       "mean     10.723919    12.931429\n",
       "std       5.516975     6.381566\n",
       "min       0.000000     1.000000\n",
       "25%       7.000000     8.000000\n",
       "50%      10.000000    12.000000\n",
       "75%      14.000000    17.000000\n",
       "max      36.000000    42.000000"
      ],
      "text/html": [
       "<div>\n",
       "<style scoped>\n",
       "    .dataframe tbody tr th:only-of-type {\n",
       "        vertical-align: middle;\n",
       "    }\n",
       "\n",
       "    .dataframe tbody tr th {\n",
       "        vertical-align: top;\n",
       "    }\n",
       "\n",
       "    .dataframe thead th {\n",
       "        text-align: right;\n",
       "    }\n",
       "</style>\n",
       "<table border=\"1\" class=\"dataframe\">\n",
       "  <thead>\n",
       "    <tr style=\"text-align: right;\">\n",
       "      <th></th>\n",
       "      <th>OLD Vviento</th>\n",
       "      <th>NEW Vviento</th>\n",
       "    </tr>\n",
       "  </thead>\n",
       "  <tbody>\n",
       "    <tr>\n",
       "      <th>count</th>\n",
       "      <td>4716.000000</td>\n",
       "      <td>1400.000000</td>\n",
       "    </tr>\n",
       "    <tr>\n",
       "      <th>mean</th>\n",
       "      <td>10.723919</td>\n",
       "      <td>12.931429</td>\n",
       "    </tr>\n",
       "    <tr>\n",
       "      <th>std</th>\n",
       "      <td>5.516975</td>\n",
       "      <td>6.381566</td>\n",
       "    </tr>\n",
       "    <tr>\n",
       "      <th>min</th>\n",
       "      <td>0.000000</td>\n",
       "      <td>1.000000</td>\n",
       "    </tr>\n",
       "    <tr>\n",
       "      <th>25%</th>\n",
       "      <td>7.000000</td>\n",
       "      <td>8.000000</td>\n",
       "    </tr>\n",
       "    <tr>\n",
       "      <th>50%</th>\n",
       "      <td>10.000000</td>\n",
       "      <td>12.000000</td>\n",
       "    </tr>\n",
       "    <tr>\n",
       "      <th>75%</th>\n",
       "      <td>14.000000</td>\n",
       "      <td>17.000000</td>\n",
       "    </tr>\n",
       "    <tr>\n",
       "      <th>max</th>\n",
       "      <td>36.000000</td>\n",
       "      <td>42.000000</td>\n",
       "    </tr>\n",
       "  </tbody>\n",
       "</table>\n",
       "</div>"
      ]
     },
     "execution_count": 67,
     "metadata": {},
     "output_type": "execute_result"
    }
   ],
   "execution_count": 67
  },
  {
   "cell_type": "markdown",
   "id": "7b9e112afdc1f54c",
   "metadata": {},
   "source": [
    "### 2. PeriodoOlas\n",
    "(segundos)"
   ]
  },
  {
   "cell_type": "code",
   "id": "5e6c9510dd90d339",
   "metadata": {
    "ExecuteTime": {
     "end_time": "2024-05-07T22:15:56.340150Z",
     "start_time": "2024-05-07T22:15:56.337252Z"
    }
   },
   "source": [
    "var = 'PeriodoOlas'"
   ],
   "outputs": [],
   "execution_count": 68
  },
  {
   "metadata": {},
   "cell_type": "markdown",
   "source": "Analisis por distintos valores estadísticos",
   "id": "e49266844fd5a6a1"
  },
  {
   "metadata": {
    "ExecuteTime": {
     "end_time": "2024-05-07T22:15:56.714203Z",
     "start_time": "2024-05-07T22:15:56.701959Z"
    }
   },
   "cell_type": "code",
   "source": [
    "df = pd.concat([df_train[var].describe(), df_new[var].describe()], axis=1)\n",
    "df.columns = ['OLD ' + var, 'NEW ' + var]\n",
    "df"
   ],
   "id": "bf739317e735ba59",
   "outputs": [
    {
     "data": {
      "text/plain": [
       "       OLD PeriodoOlas  NEW PeriodoOlas\n",
       "count      4716.000000      1400.000000\n",
       "mean          8.332061         7.729286\n",
       "std           3.165629         2.715797\n",
       "min           0.000000         1.000000\n",
       "25%           6.000000         6.000000\n",
       "50%           8.000000         8.000000\n",
       "75%          10.000000        10.000000\n",
       "max          19.000000        15.000000"
      ],
      "text/html": [
       "<div>\n",
       "<style scoped>\n",
       "    .dataframe tbody tr th:only-of-type {\n",
       "        vertical-align: middle;\n",
       "    }\n",
       "\n",
       "    .dataframe tbody tr th {\n",
       "        vertical-align: top;\n",
       "    }\n",
       "\n",
       "    .dataframe thead th {\n",
       "        text-align: right;\n",
       "    }\n",
       "</style>\n",
       "<table border=\"1\" class=\"dataframe\">\n",
       "  <thead>\n",
       "    <tr style=\"text-align: right;\">\n",
       "      <th></th>\n",
       "      <th>OLD PeriodoOlas</th>\n",
       "      <th>NEW PeriodoOlas</th>\n",
       "    </tr>\n",
       "  </thead>\n",
       "  <tbody>\n",
       "    <tr>\n",
       "      <th>count</th>\n",
       "      <td>4716.000000</td>\n",
       "      <td>1400.000000</td>\n",
       "    </tr>\n",
       "    <tr>\n",
       "      <th>mean</th>\n",
       "      <td>8.332061</td>\n",
       "      <td>7.729286</td>\n",
       "    </tr>\n",
       "    <tr>\n",
       "      <th>std</th>\n",
       "      <td>3.165629</td>\n",
       "      <td>2.715797</td>\n",
       "    </tr>\n",
       "    <tr>\n",
       "      <th>min</th>\n",
       "      <td>0.000000</td>\n",
       "      <td>1.000000</td>\n",
       "    </tr>\n",
       "    <tr>\n",
       "      <th>25%</th>\n",
       "      <td>6.000000</td>\n",
       "      <td>6.000000</td>\n",
       "    </tr>\n",
       "    <tr>\n",
       "      <th>50%</th>\n",
       "      <td>8.000000</td>\n",
       "      <td>8.000000</td>\n",
       "    </tr>\n",
       "    <tr>\n",
       "      <th>75%</th>\n",
       "      <td>10.000000</td>\n",
       "      <td>10.000000</td>\n",
       "    </tr>\n",
       "    <tr>\n",
       "      <th>max</th>\n",
       "      <td>19.000000</td>\n",
       "      <td>15.000000</td>\n",
       "    </tr>\n",
       "  </tbody>\n",
       "</table>\n",
       "</div>"
      ]
     },
     "execution_count": 69,
     "metadata": {},
     "output_type": "execute_result"
    }
   ],
   "execution_count": 69
  },
  {
   "cell_type": "markdown",
   "id": "e41b2d8b3b2618a1",
   "metadata": {},
   "source": [
    "### 3. PRESION\n",
    "(inHg, pulgadas de mercurio)"
   ]
  },
  {
   "cell_type": "code",
   "id": "791be78cd14d6e29",
   "metadata": {
    "ExecuteTime": {
     "end_time": "2024-05-07T22:15:58.878717Z",
     "start_time": "2024-05-07T22:15:58.876463Z"
    }
   },
   "source": [
    "var = 'pressure'"
   ],
   "outputs": [],
   "execution_count": 70
  },
  {
   "metadata": {},
   "cell_type": "markdown",
   "source": "Analisis por distintos valores estadísticos",
   "id": "1f7113ef68b9e80b"
  },
  {
   "metadata": {
    "ExecuteTime": {
     "end_time": "2024-05-07T22:16:00.027466Z",
     "start_time": "2024-05-07T22:16:00.013908Z"
    }
   },
   "cell_type": "code",
   "source": [
    "df = pd.concat([df_train[var].describe(), df_new[var].describe()], axis=1)\n",
    "df.columns = ['OLD ' + var, 'NEW ' + var]\n",
    "df"
   ],
   "id": "8898582f1f455cf5",
   "outputs": [
    {
     "data": {
      "text/plain": [
       "       OLD pressure  NEW pressure\n",
       "count   4716.000000   1400.000000\n",
       "mean      29.927596     29.701582\n",
       "std        0.371725      0.452594\n",
       "min       28.730000     28.460000\n",
       "25%       29.685000     29.415000\n",
       "50%       29.960000     29.715000\n",
       "75%       30.230000     30.050000\n",
       "max       30.790000     30.610000"
      ],
      "text/html": [
       "<div>\n",
       "<style scoped>\n",
       "    .dataframe tbody tr th:only-of-type {\n",
       "        vertical-align: middle;\n",
       "    }\n",
       "\n",
       "    .dataframe tbody tr th {\n",
       "        vertical-align: top;\n",
       "    }\n",
       "\n",
       "    .dataframe thead th {\n",
       "        text-align: right;\n",
       "    }\n",
       "</style>\n",
       "<table border=\"1\" class=\"dataframe\">\n",
       "  <thead>\n",
       "    <tr style=\"text-align: right;\">\n",
       "      <th></th>\n",
       "      <th>OLD pressure</th>\n",
       "      <th>NEW pressure</th>\n",
       "    </tr>\n",
       "  </thead>\n",
       "  <tbody>\n",
       "    <tr>\n",
       "      <th>count</th>\n",
       "      <td>4716.000000</td>\n",
       "      <td>1400.000000</td>\n",
       "    </tr>\n",
       "    <tr>\n",
       "      <th>mean</th>\n",
       "      <td>29.927596</td>\n",
       "      <td>29.701582</td>\n",
       "    </tr>\n",
       "    <tr>\n",
       "      <th>std</th>\n",
       "      <td>0.371725</td>\n",
       "      <td>0.452594</td>\n",
       "    </tr>\n",
       "    <tr>\n",
       "      <th>min</th>\n",
       "      <td>28.730000</td>\n",
       "      <td>28.460000</td>\n",
       "    </tr>\n",
       "    <tr>\n",
       "      <th>25%</th>\n",
       "      <td>29.685000</td>\n",
       "      <td>29.415000</td>\n",
       "    </tr>\n",
       "    <tr>\n",
       "      <th>50%</th>\n",
       "      <td>29.960000</td>\n",
       "      <td>29.715000</td>\n",
       "    </tr>\n",
       "    <tr>\n",
       "      <th>75%</th>\n",
       "      <td>30.230000</td>\n",
       "      <td>30.050000</td>\n",
       "    </tr>\n",
       "    <tr>\n",
       "      <th>max</th>\n",
       "      <td>30.790000</td>\n",
       "      <td>30.610000</td>\n",
       "    </tr>\n",
       "  </tbody>\n",
       "</table>\n",
       "</div>"
      ]
     },
     "execution_count": 71,
     "metadata": {},
     "output_type": "execute_result"
    }
   ],
   "execution_count": 71
  },
  {
   "cell_type": "markdown",
   "id": "74976dd973cbe0d1",
   "metadata": {},
   "source": [
    "## Distribución las alturas de las olas"
   ]
  },
  {
   "metadata": {},
   "cell_type": "markdown",
   "source": "Empezamos con los histogramas",
   "id": "546bebdcc497444a"
  },
  {
   "metadata": {
    "ExecuteTime": {
     "end_time": "2024-05-07T22:59:15.720750Z",
     "start_time": "2024-05-07T22:59:15.196530Z"
    }
   },
   "cell_type": "code",
   "source": [
    "fig, axs = plt.subplots(2,2, figsize=(7,7))\n",
    "for i, year in enumerate(df_train.anio.unique()):\n",
    "    axs[i//2, i%2].hist(df_train[df_train.anio == year]['AlturaOlas'], density=True, alpha=0.5)\n",
    "    axs[i//2, i%2].set_title(year)\n",
    "    axs[i//2, i%2].set_xticks([i for i in range(0,9,1)])\n",
    "    axs[i//2, i%2].set_yticks([i/10 for i in range(0,8,1)])\n",
    "\n",
    "axs[1,1].hist(df_new['AlturaOlas'], density=True, alpha=0.5, label='NEW (2024)', color='red')\n",
    "axs[1,1].set_title('NEW (2024)')\n",
    "axs[1,1].set_xticks([i for i in range(0,9,1)])\n",
    "axs[1,1].set_yticks([i/10 for i in range(0,8,1)])\n"
   ],
   "id": "99c397440b5acde4",
   "outputs": [
    {
     "data": {
      "text/plain": [
       "[<matplotlib.axis.YTick at 0x143ed6990>,\n",
       " <matplotlib.axis.YTick at 0x14435f890>,\n",
       " <matplotlib.axis.YTick at 0x1444cb810>,\n",
       " <matplotlib.axis.YTick at 0x1444ce1d0>,\n",
       " <matplotlib.axis.YTick at 0x1444d9950>,\n",
       " <matplotlib.axis.YTick at 0x1444db950>,\n",
       " <matplotlib.axis.YTick at 0x1444e19d0>,\n",
       " <matplotlib.axis.YTick at 0x1444e3910>]"
      ]
     },
     "execution_count": 130,
     "metadata": {},
     "output_type": "execute_result"
    },
    {
     "data": {
      "text/plain": [
       "<Figure size 700x700 with 4 Axes>"
      ],
      "image/png": "[encoded data removed]"
     },
     "metadata": {},
     "output_type": "display_data"
    }
   ],
   "execution_count": 130
  },
  {
   "cell_type": "code",
   "id": "bd85ed876bffb67d",
   "metadata": {
    "ExecuteTime": {
     "end_time": "2024-05-07T22:23:17.928882Z",
     "start_time": "2024-05-07T22:23:17.924662Z"
    }
   },
   "source": [
    "def class_ola(ola):\n",
    "    if (ola < 1):\n",
    "        return \"x<1\"\n",
    "    if (ola < 2):\n",
    "        return \"1<x<2\"\n",
    "    if (ola < 3):\n",
    "        return \"2<x<3\"\n",
    "    else:\n",
    "        return \"x>3\""
   ],
   "outputs": [],
   "execution_count": 74
  },
  {
   "metadata": {
    "ExecuteTime": {
     "end_time": "2024-05-07T22:41:53.079734Z",
     "start_time": "2024-05-07T22:41:53.075240Z"
    }
   },
   "cell_type": "code",
   "source": [
    "segmentos_train = df_train.AlturaOlas.map(class_ola)\n",
    "segmentos_new = df_new.AlturaOlas.map(class_ola)"
   ],
   "id": "9d1b491523361f61",
   "outputs": [
    {
     "data": {
      "text/plain": [
       "array([2021, 2022, 2023])"
      ]
     },
     "execution_count": 103,
     "metadata": {},
     "output_type": "execute_result"
    }
   ],
   "execution_count": 103
  },
  {
   "metadata": {},
   "cell_type": "markdown",
   "source": "A parte de analizarlo con el conjunto total, lo analizaremos por años",
   "id": "5e16b26afb1a5f9c"
  },
  {
   "metadata": {},
   "cell_type": "code",
   "outputs": [],
   "execution_count": null,
   "source": "df_train.anio.unique()",
   "id": "967bdcdd3c914425"
  },
  {
   "metadata": {
    "ExecuteTime": {
     "end_time": "2024-05-07T22:42:43.358087Z",
     "start_time": "2024-05-07T22:42:43.351557Z"
    }
   },
   "cell_type": "code",
   "source": [
    "segmentos_train_2021 = df_train[df_train.anio == 2021].AlturaOlas.map(class_ola)\n",
    "segmentos_train_2022 = df_train[df_train.anio == 2022].AlturaOlas.map(class_ola)\n",
    "segmentos_train_2023 = df_train[df_train.anio == 2023].AlturaOlas.map(class_ola)"
   ],
   "id": "b7cc328004c20984",
   "outputs": [],
   "execution_count": 104
  },
  {
   "cell_type": "code",
   "id": "877900726af8ea3d",
   "metadata": {
    "ExecuteTime": {
     "end_time": "2024-05-07T22:42:45.280284Z",
     "start_time": "2024-05-07T22:42:45.118710Z"
    }
   },
   "source": [
    "fig, axs = plt.subplots(1,2, figsize=(10,5))\n",
    "fig.suptitle('Segmentación de olas')\n",
    "segmentos_train.value_counts().plot(ax=axs[0], kind='pie', label='', title='OLD', colors=['gray', \"aqua\", \"yellow\", \"red\"])\n",
    "\n",
    "segmentos_new.value_counts().plot(ax=axs[1], kind='pie', label='', title='NEW', colors=['gray', \"aqua\", \"yellow\", \"red\"])"
   ],
   "outputs": [
    {
     "data": {
      "text/plain": [
       "<Axes: title={'center': 'NEW'}>"
      ]
     },
     "execution_count": 105,
     "metadata": {},
     "output_type": "execute_result"
    },
    {
     "data": {
      "text/plain": [
       "<Figure size 1000x500 with 2 Axes>"
      ],
      "image/png": "[encoded data removed]"
     },
     "metadata": {},
     "output_type": "display_data"
    }
   ],
   "execution_count": 105
  },
  {
   "metadata": {
    "ExecuteTime": {
     "end_time": "2024-05-07T22:43:33.095869Z",
     "start_time": "2024-05-07T22:43:32.925440Z"
    }
   },
   "cell_type": "code",
   "source": [
    "df = pd.DataFrame({\n",
    "    '2021':  segmentos_train_2021.value_counts(),\n",
    "    '2022':  segmentos_train_2022.value_counts(),\n",
    "    '2023':  segmentos_train_2023.value_counts(),\n",
    "    'NEW (2024)': segmentos_new.value_counts()\n",
    "})\n",
    "\n",
    "df.plot(kind='bar', stacked=False)\n",
    "plt.ylabel('Cantidad')"
   ],
   "id": "a3e784e1b20522db",
   "outputs": [
    {
     "data": {
      "text/plain": [
       "Text(0, 0.5, 'Cantidad')"
      ]
     },
     "execution_count": 106,
     "metadata": {},
     "output_type": "execute_result"
    },
    {
     "data": {
      "text/plain": [
       "<Figure size 640x480 with 1 Axes>"
      ],
      "image/png": "[encoded data removed]"
     },
     "metadata": {},
     "output_type": "display_data"
    }
   ],
   "execution_count": 106
  }
 ],
 "metadata": {
  "kernelspec": {
   "display_name": "Python 3 (ipykernel)",
   "language": "python",
   "name": "python3"
  },
  "language_info": {
   "codemirror_mode": {
    "name": "ipython",
    "version": 3
   },
   "file_extension": ".py",
   "mimetype": "text/x-python",
   "name": "python",
   "nbconvert_exporter": "python",
   "pygments_lexer": "ipython3",
   "version": "3.11.5"
  }
 },
 "nbformat": 4,
 "nbformat_minor": 5
}
