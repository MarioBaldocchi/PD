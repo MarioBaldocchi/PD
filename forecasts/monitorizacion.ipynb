{
 "cells": [
  {
   "cell_type": "markdown",
   "id": "31b4be7b1a5adce1",
   "metadata": {},
   "source": [
    "### Monitorización de la deriva\n",
    "\n",
    "En este notebook se refleja el análisis del dataset de las predicciones"
   ]
  },
  {
   "cell_type": "markdown",
   "id": "4f977ca8fcf3b68e",
   "metadata": {},
   "source": [
    "#### Importamos librerías necesarias"
   ]
  },
  {
   "cell_type": "code",
   "id": "3b53b700eba4c24f",
   "metadata": {
    "ExecuteTime": {
     "end_time": "2024-05-06T16:00:37.398738Z",
     "start_time": "2024-05-06T16:00:36.083995Z"
    }
   },
   "source": [
    "import pickle\n",
    "\n",
    "import matplotlib.pyplot as plt\n",
    "import numpy as np\n",
    "import pandas as pd"
   ],
   "outputs": [],
   "execution_count": 1
  },
  {
   "cell_type": "markdown",
   "id": "cc2907a9cb58c319",
   "metadata": {},
   "source": [
    "Cargamos los datos de forecast y las observaciones que hemos usado para entrenamiento"
   ]
  },
  {
   "cell_type": "code",
   "id": "66c0baeee9f68009",
   "metadata": {
    "ExecuteTime": {
     "end_time": "2024-05-06T16:20:30.580788Z",
     "start_time": "2024-05-06T16:20:30.524171Z"
    }
   },
   "source": [
    "from sklearn.preprocessing import StandardScaler\n",
    "from sklearn.compose import ColumnTransformer, make_column_selector\n",
    "\n",
    "df_observ = pd.read_parquet(\"../clean/df_definitivo.parquet\")\n",
    "\n",
    "# eliminamos repetidas, columnas que no participan en el modelo\n",
    "df_observ.drop(columns=['Temperatura', 'wspd'], inplace=True) \n",
    "\n",
    "ct = ColumnTransformer([\n",
    "    ('pass', 'passthrough', make_column_selector(dtype_include=object)),\n",
    "    ('std_scaler', StandardScaler(), make_column_selector(dtype_include=np.number))\n",
    "])\n",
    "\n",
    "pd.DataFrame(ct.fit_transform(df_observ.drop(columns='AlturaOlas')), columns=ct.get_feature_names_out())\n",
    "#df_forecast.drop_duplicates(['anio', 'mes', 'dia', 'hora'], inplace=True)"
   ],
   "outputs": [
    {
     "data": {
      "text/plain": [
       "       std_scaler__anio  std_scaler__mes  std_scaler__dia  \\\n",
       "0             -1.326562        -1.488899         1.175737   \n",
       "1             -1.326562        -1.488899         1.175737   \n",
       "2             -1.326562        -1.488899         1.175737   \n",
       "3             -1.326562        -1.488899         1.175737   \n",
       "4             -1.326562        -1.488899         1.175737   \n",
       "...                 ...              ...              ...   \n",
       "12805          1.189653         1.562406         1.745813   \n",
       "12806          1.189653         1.562406         1.745813   \n",
       "12807          1.189653         1.562406         1.745813   \n",
       "12808          1.189653         1.562406         1.745813   \n",
       "12809          1.189653         1.562406         1.745813   \n",
       "\n",
       "       std_scaler__moonphase  std_scaler__hora  std_scaler__temp  \\\n",
       "0                  -0.020054          0.606309         -0.701378   \n",
       "1                  -0.020054          0.858144         -0.943285   \n",
       "2                  -0.020054          1.109978         -1.064238   \n",
       "3                  -0.020054          1.361812         -1.064238   \n",
       "4                  -0.020054          1.613647         -1.185191   \n",
       "...                      ...               ...               ...   \n",
       "12805               0.568025          0.606309         -1.003761   \n",
       "12806               0.568025          0.858144         -1.003761   \n",
       "12807               0.568025          1.109978         -1.185191   \n",
       "12808               0.568025          1.361812         -1.064238   \n",
       "12809               0.568025          1.613647         -1.003761   \n",
       "\n",
       "       std_scaler__dewPt  std_scaler__heat_index  std_scaler__rh  \\\n",
       "0              -0.679281               -0.700901       -0.083657   \n",
       "1              -0.679281               -0.942484        0.326840   \n",
       "2              -0.679281               -1.063275        0.819435   \n",
       "3              -0.804679               -1.063275        0.573138   \n",
       "4              -0.930078               -1.184067        0.573138   \n",
       "...                  ...                     ...             ...   \n",
       "12805          -1.055476               -1.002880       -0.165756   \n",
       "12806          -1.055476               -1.002880       -0.165756   \n",
       "12807          -1.306273               -1.184067       -0.165756   \n",
       "12808          -1.431671               -1.063275       -0.576252   \n",
       "12809          -1.306273               -1.002880       -0.576252   \n",
       "\n",
       "       std_scaler__pressure  ...  std_scaler__wdir_SSW  std_scaler__wdir_SW  \\\n",
       "0                  1.753365  ...             -0.340373             2.095029   \n",
       "1                  1.753365  ...             -0.340373             2.095029   \n",
       "2                  1.837057  ...             -0.340373             2.095029   \n",
       "3                  1.837057  ...             -0.340373             2.095029   \n",
       "4                  1.920748  ...             -0.340373             2.095029   \n",
       "...                     ...  ...                   ...                  ...   \n",
       "12805             -2.138282  ...             -0.340373            -0.477320   \n",
       "12806             -2.054591  ...             -0.340373            -0.477320   \n",
       "12807             -1.887208  ...             -0.340373            -0.477320   \n",
       "12808             -1.761671  ...             -0.340373            -0.477320   \n",
       "12809             -1.719826  ...             -0.340373            -0.477320   \n",
       "\n",
       "       std_scaler__wdir_VAR  std_scaler__wdir_W  std_scaler__wdir_WNW  \\\n",
       "0                 -0.303433           -0.343079             -0.237136   \n",
       "1                 -0.303433           -0.343079             -0.237136   \n",
       "2                 -0.303433           -0.343079             -0.237136   \n",
       "3                 -0.303433           -0.343079             -0.237136   \n",
       "4                 -0.303433           -0.343079             -0.237136   \n",
       "...                     ...                 ...                   ...   \n",
       "12805             -0.303433           -0.343079              4.216988   \n",
       "12806             -0.303433            2.914777             -0.237136   \n",
       "12807             -0.303433           -0.343079              4.216988   \n",
       "12808             -0.303433           -0.343079              4.216988   \n",
       "12809             -0.303433           -0.343079              4.216988   \n",
       "\n",
       "       std_scaler__wdir_WSW  std_scaler__Vviento  std_scaler__PeriodoOlas  \\\n",
       "0                  -0.42873             0.583398                -0.075623   \n",
       "1                  -0.42873             0.224965                -0.075623   \n",
       "2                  -0.42873            -0.133468                 0.229585   \n",
       "3                  -0.42873            -0.312684                 0.229585   \n",
       "4                  -0.42873            -0.312684                -0.075623   \n",
       "...                     ...                  ...                      ...   \n",
       "12805              -0.42873             2.196345                 0.534793   \n",
       "12806              -0.42873             2.196345                 0.534793   \n",
       "12807              -0.42873             1.658696                 0.534793   \n",
       "12808              -0.42873             1.658696                 0.534793   \n",
       "12809              -0.42873             1.837913                 0.534793   \n",
       "\n",
       "       std_scaler__Lluvia  std_scaler__Nubosidad  \n",
       "0               -0.263243              -1.595046  \n",
       "1               -0.263243              -0.038476  \n",
       "2               -0.263243               0.739809  \n",
       "3               -0.263243               0.463643  \n",
       "4               -0.263243               0.739809  \n",
       "...                   ...                    ...  \n",
       "12805            0.193873               0.739809  \n",
       "12806           -0.034685               0.739809  \n",
       "12807           -0.034685               0.739809  \n",
       "12808           -0.034685               0.739809  \n",
       "12809           -0.034685               0.739809  \n",
       "\n",
       "[12810 rows x 35 columns]"
      ],
      "text/html": [
       "<div>\n",
       "<style scoped>\n",
       "    .dataframe tbody tr th:only-of-type {\n",
       "        vertical-align: middle;\n",
       "    }\n",
       "\n",
       "    .dataframe tbody tr th {\n",
       "        vertical-align: top;\n",
       "    }\n",
       "\n",
       "    .dataframe thead th {\n",
       "        text-align: right;\n",
       "    }\n",
       "</style>\n",
       "<table border=\"1\" class=\"dataframe\">\n",
       "  <thead>\n",
       "    <tr style=\"text-align: right;\">\n",
       "      <th></th>\n",
       "      <th>std_scaler__anio</th>\n",
       "      <th>std_scaler__mes</th>\n",
       "      <th>std_scaler__dia</th>\n",
       "      <th>std_scaler__moonphase</th>\n",
       "      <th>std_scaler__hora</th>\n",
       "      <th>std_scaler__temp</th>\n",
       "      <th>std_scaler__dewPt</th>\n",
       "      <th>std_scaler__heat_index</th>\n",
       "      <th>std_scaler__rh</th>\n",
       "      <th>std_scaler__pressure</th>\n",
       "      <th>...</th>\n",
       "      <th>std_scaler__wdir_SSW</th>\n",
       "      <th>std_scaler__wdir_SW</th>\n",
       "      <th>std_scaler__wdir_VAR</th>\n",
       "      <th>std_scaler__wdir_W</th>\n",
       "      <th>std_scaler__wdir_WNW</th>\n",
       "      <th>std_scaler__wdir_WSW</th>\n",
       "      <th>std_scaler__Vviento</th>\n",
       "      <th>std_scaler__PeriodoOlas</th>\n",
       "      <th>std_scaler__Lluvia</th>\n",
       "      <th>std_scaler__Nubosidad</th>\n",
       "    </tr>\n",
       "  </thead>\n",
       "  <tbody>\n",
       "    <tr>\n",
       "      <th>0</th>\n",
       "      <td>-1.326562</td>\n",
       "      <td>-1.488899</td>\n",
       "      <td>1.175737</td>\n",
       "      <td>-0.020054</td>\n",
       "      <td>0.606309</td>\n",
       "      <td>-0.701378</td>\n",
       "      <td>-0.679281</td>\n",
       "      <td>-0.700901</td>\n",
       "      <td>-0.083657</td>\n",
       "      <td>1.753365</td>\n",
       "      <td>...</td>\n",
       "      <td>-0.340373</td>\n",
       "      <td>2.095029</td>\n",
       "      <td>-0.303433</td>\n",
       "      <td>-0.343079</td>\n",
       "      <td>-0.237136</td>\n",
       "      <td>-0.42873</td>\n",
       "      <td>0.583398</td>\n",
       "      <td>-0.075623</td>\n",
       "      <td>-0.263243</td>\n",
       "      <td>-1.595046</td>\n",
       "    </tr>\n",
       "    <tr>\n",
       "      <th>1</th>\n",
       "      <td>-1.326562</td>\n",
       "      <td>-1.488899</td>\n",
       "      <td>1.175737</td>\n",
       "      <td>-0.020054</td>\n",
       "      <td>0.858144</td>\n",
       "      <td>-0.943285</td>\n",
       "      <td>-0.679281</td>\n",
       "      <td>-0.942484</td>\n",
       "      <td>0.326840</td>\n",
       "      <td>1.753365</td>\n",
       "      <td>...</td>\n",
       "      <td>-0.340373</td>\n",
       "      <td>2.095029</td>\n",
       "      <td>-0.303433</td>\n",
       "      <td>-0.343079</td>\n",
       "      <td>-0.237136</td>\n",
       "      <td>-0.42873</td>\n",
       "      <td>0.224965</td>\n",
       "      <td>-0.075623</td>\n",
       "      <td>-0.263243</td>\n",
       "      <td>-0.038476</td>\n",
       "    </tr>\n",
       "    <tr>\n",
       "      <th>2</th>\n",
       "      <td>-1.326562</td>\n",
       "      <td>-1.488899</td>\n",
       "      <td>1.175737</td>\n",
       "      <td>-0.020054</td>\n",
       "      <td>1.109978</td>\n",
       "      <td>-1.064238</td>\n",
       "      <td>-0.679281</td>\n",
       "      <td>-1.063275</td>\n",
       "      <td>0.819435</td>\n",
       "      <td>1.837057</td>\n",
       "      <td>...</td>\n",
       "      <td>-0.340373</td>\n",
       "      <td>2.095029</td>\n",
       "      <td>-0.303433</td>\n",
       "      <td>-0.343079</td>\n",
       "      <td>-0.237136</td>\n",
       "      <td>-0.42873</td>\n",
       "      <td>-0.133468</td>\n",
       "      <td>0.229585</td>\n",
       "      <td>-0.263243</td>\n",
       "      <td>0.739809</td>\n",
       "    </tr>\n",
       "    <tr>\n",
       "      <th>3</th>\n",
       "      <td>-1.326562</td>\n",
       "      <td>-1.488899</td>\n",
       "      <td>1.175737</td>\n",
       "      <td>-0.020054</td>\n",
       "      <td>1.361812</td>\n",
       "      <td>-1.064238</td>\n",
       "      <td>-0.804679</td>\n",
       "      <td>-1.063275</td>\n",
       "      <td>0.573138</td>\n",
       "      <td>1.837057</td>\n",
       "      <td>...</td>\n",
       "      <td>-0.340373</td>\n",
       "      <td>2.095029</td>\n",
       "      <td>-0.303433</td>\n",
       "      <td>-0.343079</td>\n",
       "      <td>-0.237136</td>\n",
       "      <td>-0.42873</td>\n",
       "      <td>-0.312684</td>\n",
       "      <td>0.229585</td>\n",
       "      <td>-0.263243</td>\n",
       "      <td>0.463643</td>\n",
       "    </tr>\n",
       "    <tr>\n",
       "      <th>4</th>\n",
       "      <td>-1.326562</td>\n",
       "      <td>-1.488899</td>\n",
       "      <td>1.175737</td>\n",
       "      <td>-0.020054</td>\n",
       "      <td>1.613647</td>\n",
       "      <td>-1.185191</td>\n",
       "      <td>-0.930078</td>\n",
       "      <td>-1.184067</td>\n",
       "      <td>0.573138</td>\n",
       "      <td>1.920748</td>\n",
       "      <td>...</td>\n",
       "      <td>-0.340373</td>\n",
       "      <td>2.095029</td>\n",
       "      <td>-0.303433</td>\n",
       "      <td>-0.343079</td>\n",
       "      <td>-0.237136</td>\n",
       "      <td>-0.42873</td>\n",
       "      <td>-0.312684</td>\n",
       "      <td>-0.075623</td>\n",
       "      <td>-0.263243</td>\n",
       "      <td>0.739809</td>\n",
       "    </tr>\n",
       "    <tr>\n",
       "      <th>...</th>\n",
       "      <td>...</td>\n",
       "      <td>...</td>\n",
       "      <td>...</td>\n",
       "      <td>...</td>\n",
       "      <td>...</td>\n",
       "      <td>...</td>\n",
       "      <td>...</td>\n",
       "      <td>...</td>\n",
       "      <td>...</td>\n",
       "      <td>...</td>\n",
       "      <td>...</td>\n",
       "      <td>...</td>\n",
       "      <td>...</td>\n",
       "      <td>...</td>\n",
       "      <td>...</td>\n",
       "      <td>...</td>\n",
       "      <td>...</td>\n",
       "      <td>...</td>\n",
       "      <td>...</td>\n",
       "      <td>...</td>\n",
       "      <td>...</td>\n",
       "    </tr>\n",
       "    <tr>\n",
       "      <th>12805</th>\n",
       "      <td>1.189653</td>\n",
       "      <td>1.562406</td>\n",
       "      <td>1.745813</td>\n",
       "      <td>0.568025</td>\n",
       "      <td>0.606309</td>\n",
       "      <td>-1.003761</td>\n",
       "      <td>-1.055476</td>\n",
       "      <td>-1.002880</td>\n",
       "      <td>-0.165756</td>\n",
       "      <td>-2.138282</td>\n",
       "      <td>...</td>\n",
       "      <td>-0.340373</td>\n",
       "      <td>-0.477320</td>\n",
       "      <td>-0.303433</td>\n",
       "      <td>-0.343079</td>\n",
       "      <td>4.216988</td>\n",
       "      <td>-0.42873</td>\n",
       "      <td>2.196345</td>\n",
       "      <td>0.534793</td>\n",
       "      <td>0.193873</td>\n",
       "      <td>0.739809</td>\n",
       "    </tr>\n",
       "    <tr>\n",
       "      <th>12806</th>\n",
       "      <td>1.189653</td>\n",
       "      <td>1.562406</td>\n",
       "      <td>1.745813</td>\n",
       "      <td>0.568025</td>\n",
       "      <td>0.858144</td>\n",
       "      <td>-1.003761</td>\n",
       "      <td>-1.055476</td>\n",
       "      <td>-1.002880</td>\n",
       "      <td>-0.165756</td>\n",
       "      <td>-2.054591</td>\n",
       "      <td>...</td>\n",
       "      <td>-0.340373</td>\n",
       "      <td>-0.477320</td>\n",
       "      <td>-0.303433</td>\n",
       "      <td>2.914777</td>\n",
       "      <td>-0.237136</td>\n",
       "      <td>-0.42873</td>\n",
       "      <td>2.196345</td>\n",
       "      <td>0.534793</td>\n",
       "      <td>-0.034685</td>\n",
       "      <td>0.739809</td>\n",
       "    </tr>\n",
       "    <tr>\n",
       "      <th>12807</th>\n",
       "      <td>1.189653</td>\n",
       "      <td>1.562406</td>\n",
       "      <td>1.745813</td>\n",
       "      <td>0.568025</td>\n",
       "      <td>1.109978</td>\n",
       "      <td>-1.185191</td>\n",
       "      <td>-1.306273</td>\n",
       "      <td>-1.184067</td>\n",
       "      <td>-0.165756</td>\n",
       "      <td>-1.887208</td>\n",
       "      <td>...</td>\n",
       "      <td>-0.340373</td>\n",
       "      <td>-0.477320</td>\n",
       "      <td>-0.303433</td>\n",
       "      <td>-0.343079</td>\n",
       "      <td>4.216988</td>\n",
       "      <td>-0.42873</td>\n",
       "      <td>1.658696</td>\n",
       "      <td>0.534793</td>\n",
       "      <td>-0.034685</td>\n",
       "      <td>0.739809</td>\n",
       "    </tr>\n",
       "    <tr>\n",
       "      <th>12808</th>\n",
       "      <td>1.189653</td>\n",
       "      <td>1.562406</td>\n",
       "      <td>1.745813</td>\n",
       "      <td>0.568025</td>\n",
       "      <td>1.361812</td>\n",
       "      <td>-1.064238</td>\n",
       "      <td>-1.431671</td>\n",
       "      <td>-1.063275</td>\n",
       "      <td>-0.576252</td>\n",
       "      <td>-1.761671</td>\n",
       "      <td>...</td>\n",
       "      <td>-0.340373</td>\n",
       "      <td>-0.477320</td>\n",
       "      <td>-0.303433</td>\n",
       "      <td>-0.343079</td>\n",
       "      <td>4.216988</td>\n",
       "      <td>-0.42873</td>\n",
       "      <td>1.658696</td>\n",
       "      <td>0.534793</td>\n",
       "      <td>-0.034685</td>\n",
       "      <td>0.739809</td>\n",
       "    </tr>\n",
       "    <tr>\n",
       "      <th>12809</th>\n",
       "      <td>1.189653</td>\n",
       "      <td>1.562406</td>\n",
       "      <td>1.745813</td>\n",
       "      <td>0.568025</td>\n",
       "      <td>1.613647</td>\n",
       "      <td>-1.003761</td>\n",
       "      <td>-1.306273</td>\n",
       "      <td>-1.002880</td>\n",
       "      <td>-0.576252</td>\n",
       "      <td>-1.719826</td>\n",
       "      <td>...</td>\n",
       "      <td>-0.340373</td>\n",
       "      <td>-0.477320</td>\n",
       "      <td>-0.303433</td>\n",
       "      <td>-0.343079</td>\n",
       "      <td>4.216988</td>\n",
       "      <td>-0.42873</td>\n",
       "      <td>1.837913</td>\n",
       "      <td>0.534793</td>\n",
       "      <td>-0.034685</td>\n",
       "      <td>0.739809</td>\n",
       "    </tr>\n",
       "  </tbody>\n",
       "</table>\n",
       "<p>12810 rows × 35 columns</p>\n",
       "</div>"
      ]
     },
     "execution_count": 24,
     "metadata": {},
     "output_type": "execute_result"
    }
   ],
   "execution_count": 24
  },
  {
   "cell_type": "markdown",
   "id": "6cee66ee8611de73",
   "metadata": {},
   "source": [
    "##### Diferencia en tamaño"
   ]
  },
  {
   "cell_type": "code",
   "id": "dc9d1b8e64aedfdf",
   "metadata": {
    "ExecuteTime": {
     "end_time": "2024-05-06T16:03:56.893329Z",
     "start_time": "2024-05-06T16:03:56.889294Z"
    }
   },
   "source": "df_observ.shape, df_forecast.shape",
   "outputs": [
    {
     "data": {
      "text/plain": [
       "Index(['anio', 'mes', 'dia', 'moonphase', 'hora', 'temp', 'dewPt',\n",
       "       'heat_index', 'rh', 'pressure', 'vis', 'wc', 'feels_like', 'uv_index',\n",
       "       'wdir_E', 'wdir_ENE', 'wdir_ESE', 'wdir_N', 'wdir_NE', 'wdir_NNE',\n",
       "       'wdir_NNW', 'wdir_NW', 'wdir_S', 'wdir_SE', 'wdir_SSE', 'wdir_SSW',\n",
       "       'wdir_SW', 'wdir_VAR', 'wdir_W', 'wdir_WNW', 'wdir_WSW', 'Vviento',\n",
       "       'AlturaOlas', 'PeriodoOlas', 'Lluvia', 'Nubosidad'],\n",
       "      dtype='object')"
      ]
     },
     "execution_count": 18,
     "metadata": {},
     "output_type": "execute_result"
    }
   ],
   "execution_count": 18
  },
  {
   "cell_type": "markdown",
   "id": "3371c8a3c4394764",
   "metadata": {},
   "source": [
    "Vemos que la diferencia entre los dos conjuntos es de más de 6 veces. \n",
    "\n",
    "Cogemos una muestra del mismo tamaño que los datos forecast para tener condiciones un poco más igualadas,\n",
    "\n",
    "LA USAREMOS EN ALGUNOS APARTADOS\n"
   ]
  },
  {
   "cell_type": "code",
   "id": "1ecf7ed3a9f53e03",
   "metadata": {
    "ExecuteTime": {
     "end_time": "2024-05-06T16:00:38.595365Z",
     "start_time": "2024-05-06T16:00:38.590049Z"
    }
   },
   "source": [
    "df_observ_mini = df_observ.sample(n=df_forecast.shape[0], random_state=777) # fijamos semilla\n",
    "df_observ_mini.shape"
   ],
   "outputs": [
    {
     "data": {
      "text/plain": [
       "(1834, 36)"
      ]
     },
     "execution_count": 4,
     "metadata": {},
     "output_type": "execute_result"
    }
   ],
   "execution_count": 4
  },
  {
   "cell_type": "markdown",
   "id": "ac5973951c1979ec",
   "metadata": {},
   "source": [
    "## Distribución las variables explicativas más importantes\n",
    "Nos fijaremos en las importancias de las variables del bosque"
   ]
  },
  {
   "cell_type": "markdown",
   "id": "2711b5465b1ad44b",
   "metadata": {},
   "source": [
    "Cargamos el modelo que hemos seleccionado como el mejor"
   ]
  },
  {
   "cell_type": "code",
   "id": "f52ed9b9b1368107",
   "metadata": {
    "ExecuteTime": {
     "end_time": "2024-05-06T16:00:41.717227Z",
     "start_time": "2024-05-06T16:00:40.548518Z"
    }
   },
   "source": [
    "filename = '../modelos/modelo_definitivo/modelo_rf_def.pkl'\n",
    "\n",
    "with open(filename, 'rb') as file:\n",
    "    model = pickle.load(file)"
   ],
   "outputs": [
    {
     "name": "stderr",
     "output_type": "stream",
     "text": [
      "/Users/tyomikjan/UNIVERSITY/PD1/PD/venv/lib/python3.11/site-packages/sklearn/base.py:376: InconsistentVersionWarning: Trying to unpickle estimator DecisionTreeRegressor from version 1.4.2 when using version 1.4.1.post1. This might lead to breaking code or invalid results. Use at your own risk. For more info please refer to:\n",
      "https://scikit-learn.org/stable/model_persistence.html#security-maintainability-limitations\n",
      "  warnings.warn(\n",
      "/Users/tyomikjan/UNIVERSITY/PD1/PD/venv/lib/python3.11/site-packages/sklearn/base.py:376: InconsistentVersionWarning: Trying to unpickle estimator RandomForestRegressor from version 1.4.2 when using version 1.4.1.post1. This might lead to breaking code or invalid results. Use at your own risk. For more info please refer to:\n",
      "https://scikit-learn.org/stable/model_persistence.html#security-maintainability-limitations\n",
      "  warnings.warn(\n"
     ]
    }
   ],
   "execution_count": 5
  },
  {
   "cell_type": "markdown",
   "id": "a198b7697635bf0a",
   "metadata": {},
   "source": [
    "Mostramos las importancias de las variables del modelo"
   ]
  },
  {
   "cell_type": "code",
   "id": "bd25a4e1dd492e0c",
   "metadata": {
    "ExecuteTime": {
     "end_time": "2024-05-06T16:11:51.933569Z",
     "start_time": "2024-05-06T16:11:51.572730Z"
    }
   },
   "source": [
    "plt.figure(figsize=(5,7))\n",
    "importancias = pd.DataFrame({'value': model.feature_importances_,'name': df_observ.drop(columns=['anio', 'mes', 'dia', 'hora', 'AlturaOlas']).columns})\n",
    "importancias = importancias.sort_values(by='value')\n",
    "plt.barh(y=importancias.name, width=importancias.value)\n",
    "plt.title('Importancias de variables de modelo')"
   ],
   "outputs": [
    {
     "data": {
      "text/plain": [
       "Text(0.5, 1.0, 'Importancias de variables de modelo')"
      ]
     },
     "execution_count": 21,
     "metadata": {},
     "output_type": "execute_result"
    },
    {
     "data": {
      "text/plain": [
       "<Figure size 500x700 with 1 Axes>"
      ],
      "image/png": "[encoded data removed]"
     },
     "metadata": {},
     "output_type": "display_data"
    }
   ],
   "execution_count": 21
  },
  {
   "cell_type": "markdown",
   "id": "f4f451a762fcf5db",
   "metadata": {},
   "source": [
    "funcion auxiliar para ver los rangos de las variables"
   ]
  },
  {
   "cell_type": "code",
   "id": "7174cc13737e91b1",
   "metadata": {
    "ExecuteTime": {
     "end_time": "2024-05-06T16:01:10.643487Z",
     "start_time": "2024-05-06T16:01:10.639743Z"
    }
   },
   "source": [
    "def range_eval(var):\n",
    "    print(var)\n",
    "    print('\\t\\t ', 'max', '  min')\n",
    "    print('OBS\\t\\t ', df_observ[var].max(), '  ', df_observ[var].min())\n",
    "    print('mini OBS ', df_observ_mini[var].max(), '  ', df_observ_mini[var].min())\n",
    "    print('FORECAST ', df_forecast[var].max(), '  ', df_forecast[var].min())"
   ],
   "outputs": [],
   "execution_count": 11
  },
  {
   "cell_type": "markdown",
   "id": "229ea11a16cd13fb",
   "metadata": {},
   "source": [
    "### 1. VViento\n",
    "(nudos)"
   ]
  },
  {
   "cell_type": "code",
   "id": "e0c94b015e46eaf",
   "metadata": {
    "ExecuteTime": {
     "end_time": "2024-05-06T16:01:11.128726Z",
     "start_time": "2024-05-06T16:01:11.125546Z"
    }
   },
   "source": [
    "var = 'Vviento'"
   ],
   "outputs": [],
   "execution_count": 12
  },
  {
   "cell_type": "markdown",
   "id": "59839cddc13f331b",
   "metadata": {},
   "source": [
    "Primero veremos el rango de la variable(max y min)"
   ]
  },
  {
   "cell_type": "code",
   "id": "ef5156d2659c28b3",
   "metadata": {
    "ExecuteTime": {
     "end_time": "2024-05-06T16:01:11.651263Z",
     "start_time": "2024-05-06T16:01:11.647763Z"
    }
   },
   "source": [
    "range_eval(var)"
   ],
   "outputs": [
    {
     "name": "stdout",
     "output_type": "stream",
     "text": [
      "Vviento\n",
      "\t\t  max   min\n",
      "OBS\t\t  39    0\n",
      "mini OBS  39    1\n",
      "FORECAST  18    1\n"
     ]
    }
   ],
   "execution_count": 13
  },
  {
   "cell_type": "markdown",
   "id": "7b9e112afdc1f54c",
   "metadata": {},
   "source": [
    "### 2. PeriodoOlas\n",
    "(segundos)"
   ]
  },
  {
   "cell_type": "code",
   "id": "5e6c9510dd90d339",
   "metadata": {
    "ExecuteTime": {
     "end_time": "2024-05-06T16:01:14.513498Z",
     "start_time": "2024-05-06T16:01:14.509923Z"
    }
   },
   "source": [
    "var = 'PeriodoOlas'"
   ],
   "outputs": [],
   "execution_count": 14
  },
  {
   "cell_type": "markdown",
   "id": "b030e0ebecc8967",
   "metadata": {},
   "source": [
    "Primero veremos el rango de la variable(max y min)"
   ]
  },
  {
   "cell_type": "code",
   "id": "87abe68493aa5db",
   "metadata": {
    "ExecuteTime": {
     "end_time": "2024-05-06T16:01:15.446512Z",
     "start_time": "2024-05-06T16:01:15.442005Z"
    }
   },
   "source": [
    "range_eval(var)"
   ],
   "outputs": [
    {
     "name": "stdout",
     "output_type": "stream",
     "text": [
      "PeriodoOlas\n",
      "\t\t  max   min\n",
      "OBS\t\t  22    0\n",
      "mini OBS  22    0\n",
      "FORECAST  11    2\n"
     ]
    }
   ],
   "execution_count": 15
  },
  {
   "cell_type": "markdown",
   "id": "e41b2d8b3b2618a1",
   "metadata": {},
   "source": [
    "### 3. PRESION\n",
    "(inHg, pulgadas de mercurio)"
   ]
  },
  {
   "cell_type": "code",
   "id": "791be78cd14d6e29",
   "metadata": {
    "ExecuteTime": {
     "end_time": "2024-05-06T16:01:21.581761Z",
     "start_time": "2024-05-06T16:01:21.579182Z"
    }
   },
   "source": [
    "var = 'pressure'"
   ],
   "outputs": [],
   "execution_count": 16
  },
  {
   "cell_type": "markdown",
   "id": "a1664551df1ed36d",
   "metadata": {},
   "source": [
    "Primero veremos el rango de la variable(max y min)"
   ]
  },
  {
   "cell_type": "code",
   "id": "d56ab72389b85e26",
   "metadata": {
    "ExecuteTime": {
     "end_time": "2024-05-06T16:01:22.215403Z",
     "start_time": "2024-05-06T16:01:22.209216Z"
    }
   },
   "source": [
    "range_eval(var)"
   ],
   "outputs": [
    {
     "name": "stdout",
     "output_type": "stream",
     "text": [
      "pressure\n",
      "\t\t  max   min\n",
      "OBS\t\t  30.79    28.32\n",
      "mini OBS  30.76    28.655\n",
      "FORECAST  30.36    29.66\n"
     ]
    }
   ],
   "execution_count": 17
  },
  {
   "cell_type": "markdown",
   "id": "74976dd973cbe0d1",
   "metadata": {},
   "source": [
    "## Distribución las alturas de las olas"
   ]
  },
  {
   "cell_type": "markdown",
   "id": "fede0a16725d91af",
   "metadata": {},
   "source": [
    "Al tener predicciones del futuro (momentos posteriores a la fecha de elaboración de este código) nos quedaremos con las filas que tengan el valor real de la variable objetivo, AlturaOlas."
   ]
  },
  {
   "cell_type": "code",
   "execution_count": 14,
   "id": "234dd7b7b5a983a2",
   "metadata": {
    "ExecuteTime": {
     "end_time": "2024-05-06T11:20:26.737968Z",
     "start_time": "2024-05-06T11:20:26.734516Z"
    }
   },
   "outputs": [],
   "source": [
    "df_forecast_con_olas = df_forecast[~df_forecast.AlturaOlas.isna()]"
   ]
  },
  {
   "cell_type": "markdown",
   "id": "6f8d8f5b43f53a24",
   "metadata": {},
   "source": [
    "Como tenemos datos de horas repetidas, las eliminamos para quedarnos con solo datos unicos(observaciones)"
   ]
  },
  {
   "cell_type": "code",
   "execution_count": 15,
   "id": "2fe8a80b651e53f6",
   "metadata": {
    "ExecuteTime": {
     "end_time": "2024-05-06T11:20:26.744420Z",
     "start_time": "2024-05-06T11:20:26.739158Z"
    }
   },
   "outputs": [],
   "source": [
    "alturasObservaciones = df_forecast_con_olas.drop_duplicates(['anio', 'mes', 'dia', 'hora'])[['anio', 'mes', 'dia', 'hora', 'AlturaOlas']]"
   ]
  },
  {
   "cell_type": "markdown",
   "id": "43e3770fcd57589e",
   "metadata": {},
   "source": [
    "Vemos que hay relativamente muy pocas observaciones"
   ]
  },
  {
   "cell_type": "code",
   "execution_count": 16,
   "id": "1528e2e0b41df13d",
   "metadata": {
    "ExecuteTime": {
     "end_time": "2024-05-06T11:20:26.750022Z",
     "start_time": "2024-05-06T11:20:26.746179Z"
    }
   },
   "outputs": [
    {
     "data": {
      "text/plain": [
       "(104, 5)"
      ]
     },
     "execution_count": 16,
     "metadata": {},
     "output_type": "execute_result"
    }
   ],
   "source": [
    "alturasObservaciones.shape"
   ]
  },
  {
   "cell_type": "code",
   "execution_count": 17,
   "id": "bd85ed876bffb67d",
   "metadata": {
    "ExecuteTime": {
     "end_time": "2024-05-06T11:20:26.754997Z",
     "start_time": "2024-05-06T11:20:26.751955Z"
    }
   },
   "outputs": [],
   "source": [
    "def class_ola(ola):\n",
    "    if (ola < 1):\n",
    "        return \"x<1\"\n",
    "    if (ola < 2):\n",
    "        return \"1<x<2\"\n",
    "    if (ola < 3):\n",
    "        return \"2<x<3\"\n",
    "    else:\n",
    "        return \"x>3\""
   ]
  },
  {
   "cell_type": "code",
   "execution_count": 18,
   "id": "877900726af8ea3d",
   "metadata": {
    "ExecuteTime": {
     "end_time": "2024-05-06T11:20:26.834256Z",
     "start_time": "2024-05-06T11:20:26.756078Z"
    }
   },
   "outputs": [
    {
     "data": {
      "text/plain": [
       "<Axes: title={'center': 'Segmentación de olas'}>"
      ]
     },
     "execution_count": 18,
     "metadata": {},
     "output_type": "execute_result"
    },
    {
     "data": {
      "image/png": "[encoded data removed]",
      "text/plain": [
       "<Figure size 640x480 with 1 Axes>"
      ]
     },
     "metadata": {},
     "output_type": "display_data"
    }
   ],
   "source": [
    "ola_clas = alturasObservaciones.AlturaOlas.map(class_ola)\n",
    "ola_clas.value_counts().plot(kind='pie', label='', title='Segmentación de olas', colors=['gray', \"aqua\", \"yellow\", \"red\"])"
   ]
  },
  {
   "cell_type": "markdown",
   "id": "c5312bfb2e2c72ee",
   "metadata": {},
   "source": [
    "En este caso las olas son de altura medianamente baja"
   ]
  },
  {
   "cell_type": "code",
   "execution_count": null,
   "id": "39f734bc-1d19-4aa4-b3c6-dc7e8cc844ee",
   "metadata": {},
   "outputs": [],
   "source": []
  }
 ],
 "metadata": {
  "kernelspec": {
   "display_name": "Python 3 (ipykernel)",
   "language": "python",
   "name": "python3"
  },
  "language_info": {
   "codemirror_mode": {
    "name": "ipython",
    "version": 3
   },
   "file_extension": ".py",
   "mimetype": "text/x-python",
   "name": "python",
   "nbconvert_exporter": "python",
   "pygments_lexer": "ipython3",
   "version": "3.11.5"
  }
 },
 "nbformat": 4,
 "nbformat_minor": 5
}
