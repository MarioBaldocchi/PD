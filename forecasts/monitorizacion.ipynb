{
 "cells": [
  {
   "metadata": {},
   "cell_type": "markdown",
   "source": [
    "### Monitorización de la deriva\n",
    "\n",
    "En este notebook se refleja el análisis del dataset de las predicciones"
   ],
   "id": "31b4be7b1a5adce1"
  },
  {
   "metadata": {},
   "cell_type": "markdown",
   "source": "#### Importamos librerías necesarias",
   "id": "4f977ca8fcf3b68e"
  },
  {
   "metadata": {
    "ExecuteTime": {
     "end_time": "2024-05-05T21:37:27.046142Z",
     "start_time": "2024-05-05T21:37:27.041992Z"
    }
   },
   "cell_type": "code",
   "source": [
    "import matplotlib.pyplot as plt\n",
    "import numpy as np\n",
    "import pandas as pd"
   ],
   "id": "3b53b700eba4c24f",
   "outputs": [],
   "execution_count": 33
  },
  {
   "metadata": {},
   "cell_type": "markdown",
   "source": "Cargamos los datos de forecast y las observaciones que hemos usado para entrenamiento",
   "id": "cc2907a9cb58c319"
  },
  {
   "metadata": {
    "ExecuteTime": {
     "end_time": "2024-05-05T21:43:32.516529Z",
     "start_time": "2024-05-05T21:43:32.497716Z"
    }
   },
   "cell_type": "code",
   "source": [
    "df_observ = pd.read_parquet(\"../clean/df_definitivo.parquet\")\n",
    "\n",
    "# eliminamos repetidas, columnas que no participan en el modelo\n",
    "df_observ.drop(columns=['Temperatura', 'wspd'], inplace=True) \n",
    "\n",
    "df_forecast = pd.read_csv('./clean/forecast_merged.csv')\n",
    "#df_forecast.drop_duplicates(['anio', 'mes', 'dia', 'hora'], inplace=True)"
   ],
   "id": "66c0baeee9f68009",
   "outputs": [],
   "execution_count": 47
  },
  {
   "metadata": {},
   "cell_type": "markdown",
   "source": "##### Diferencia en tamaño",
   "id": "6cee66ee8611de73"
  },
  {
   "metadata": {
    "ExecuteTime": {
     "end_time": "2024-05-05T21:43:33.055411Z",
     "start_time": "2024-05-05T21:43:33.050227Z"
    }
   },
   "cell_type": "code",
   "source": "df_observ.shape, df_forecast.shape",
   "id": "dc9d1b8e64aedfdf",
   "outputs": [
    {
     "data": {
      "text/plain": [
       "((12810, 36), (76, 37))"
      ]
     },
     "execution_count": 48,
     "metadata": {},
     "output_type": "execute_result"
    }
   ],
   "execution_count": 48
  },
  {
   "metadata": {},
   "cell_type": "markdown",
   "source": "Vemos que la diferencia entre los dos conjuntos es de más de 30 veces. Cogemos una muestra del mismo tamaño que los datos forecast para tener condiciones un poco más igualadas\n",
   "id": "3371c8a3c4394764"
  },
  {
   "metadata": {
    "ExecuteTime": {
     "end_time": "2024-05-05T21:43:34.287170Z",
     "start_time": "2024-05-05T21:43:34.281703Z"
    }
   },
   "cell_type": "code",
   "source": [
    "df_observ_mini = df_observ.sample(n=df_forecast.shape[0])\n",
    "df_observ_mini.shape"
   ],
   "id": "1ecf7ed3a9f53e03",
   "outputs": [
    {
     "data": {
      "text/plain": [
       "(76, 36)"
      ]
     },
     "execution_count": 49,
     "metadata": {},
     "output_type": "execute_result"
    }
   ],
   "execution_count": 49
  },
  {
   "metadata": {},
   "cell_type": "markdown",
   "source": [
    "## Distribución las variables explicativas más importantes\n",
    "Nos fijaremos en las importancias sacadas del notebook de evaluacion de modelos arborescentes"
   ],
   "id": "ac5973951c1979ec"
  },
  {
   "metadata": {},
   "cell_type": "code",
   "outputs": [],
   "execution_count": null,
   "source": "",
   "id": "7f4cfa08467adb30"
  }
 ],
 "metadata": {
  "kernelspec": {
   "display_name": "Python 3",
   "language": "python",
   "name": "python3"
  },
  "language_info": {
   "codemirror_mode": {
    "name": "ipython",
    "version": 2
   },
   "file_extension": ".py",
   "mimetype": "text/x-python",
   "name": "python",
   "nbconvert_exporter": "python",
   "pygments_lexer": "ipython2",
   "version": "2.7.6"
  }
 },
 "nbformat": 4,
 "nbformat_minor": 5
}
