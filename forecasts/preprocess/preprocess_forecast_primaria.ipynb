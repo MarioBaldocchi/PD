{
 "cells": [
  {
   "cell_type": "markdown",
   "id": "78fb4587-3cd7-4dd2-9d67-ef1f3436fe70",
   "metadata": {},
   "source": [
    "#### Archivo de preprocesamiento de datos de la boya (fuente principal)\n",
    "\n",
    "https://www.windguru.cz/47761"
   ]
  },
  {
   "cell_type": "markdown",
   "id": "43b1f705-0962-49f0-af7d-47be368b7670",
   "metadata": {},
   "source": [
    "Importamos librerías necesarias"
   ]
  },
  {
   "cell_type": "code",
   "id": "8242d9b4-b891-49a2-848b-2962baa20325",
   "metadata": {
    "ExecuteTime": {
     "end_time": "2024-05-04T12:59:14.352228Z",
     "start_time": "2024-05-04T12:59:13.940216Z"
    }
   },
   "source": [
    "import pandas as pd\n",
    "from datetime import datetime\n",
    "import os"
   ],
   "outputs": [],
   "execution_count": 1
  },
  {
   "cell_type": "markdown",
   "id": "e0a2656b-14e1-4c14-bfaf-635a66d1b8b4",
   "metadata": {},
   "source": [
    "Esta función se encarga de averiguar para que fecha se predice a partir de la fecha en la que se consulto, la hora y el dia. La devuelve en formateo datetime para calcular facilmente la antelacion posteriormente"
   ]
  },
  {
   "cell_type": "code",
   "id": "2167bc79-5dc1-4acb-a37d-ff19febaa7b3",
   "metadata": {
    "ExecuteTime": {
     "end_time": "2024-05-04T12:59:22.997154Z",
     "start_time": "2024-05-04T12:59:22.991Z"
    }
   },
   "source": [
    "def sacar_fecha_target(valor, fecha_pred):    \n",
    "    # sacamos dia y hora del valor\n",
    "    hora = int(valor[-3:-1])\n",
    "    dia = int(valor[2:-4])\n",
    "\n",
    "    fecha = fecha_pred\n",
    "    fecha = fecha.replace(hour=hora, day=dia)\n",
    "    if (dia < fecha_pred.day):\n",
    "        # estan en meses o anios diferentes, ej 31 -> 1\n",
    "        if (fecha_pred.month == 12): # si es diciembre -> cambiamos de anio\n",
    "            fecha.replace(month=1, year=fecha_pred.year + 1)\n",
    "        else:\n",
    "            fecha.replace(month=fecha_pred.month + 1)\n",
    "\n",
    "    return fecha        "
   ],
   "outputs": [],
   "execution_count": 2
  },
  {
   "cell_type": "markdown",
   "id": "7479c613-525f-44a7-9364-b2cbc5f90fbc",
   "metadata": {},
   "source": [
    "Esta funcion realiza el preprocesado(renombra columnas, calcula antelacion y elimina filas pasadas)"
   ]
  },
  {
   "cell_type": "code",
   "id": "eaf1c614-8e57-4a7e-88e7-25ee63951a29",
   "metadata": {
    "ExecuteTime": {
     "end_time": "2024-05-03T22:42:29.365896Z",
     "start_time": "2024-05-03T22:42:29.360609Z"
    }
   },
   "source": [
    "def preprocess_df(df, fecha_pred):\n",
    "    # transponemos la matriz\n",
    "    df = df.T\n",
    "    df.columns = ['Vviento', 'AlturaOlas', 'PeriodoOlas', 'Temperatura', 'Nubosidad', 'Lluvia']\n",
    "    df['fecha'] = df.index.map(lambda x: sacar_fecha_target(x, fecha_pred))\n",
    "    # nos quedamos con predicciones (descartamos pasado)\n",
    "    df = df[df['fecha'] >= fecha_pred]\n",
    "    # calculamos antelacion (en horas)\n",
    "    df['antelacion'] = (pd.to_datetime(df['fecha']) - fecha_pred).dt.total_seconds() // 3600\n",
    "    df['hora'] = df.fecha.dt.hour\n",
    "    df['dia'] = df.fecha.dt.day\n",
    "    df['anio'] = df.fecha.dt.year\n",
    "    df['mes'] = df.fecha.dt.month\n",
    "\n",
    "    df = df.drop(columns='fecha')\n",
    "    df = df.reset_index(drop=True)\n",
    "    # no hay na's al ser predicciones\n",
    "    #df = df.fillna(0)\n",
    "    #df = df[~df.map(lambda x: x == '-').any(axis=1)]\n",
    "    return df"
   ],
   "outputs": [],
   "execution_count": 3
  },
  {
   "cell_type": "markdown",
   "id": "fd9df7c2-b355-4f3f-b32e-6beaf4f29d48",
   "metadata": {},
   "source": [
    "Los archivos tienen datos de predicciones. Además por alguna razón se mezclan con datos reales(sigue apareciendo una hora, cuando ya ha pasado)\n",
    "\n",
    "Asumimos que el formato del archivo es 10h_03_05_2024.csv, donde:\n",
    "- 10 - hora\n",
    "- 03 - dia\n",
    "- 05 - mes\n",
    "- 2024 - anio"
   ]
  },
  {
   "cell_type": "code",
   "id": "a2797e53-c993-4e23-987f-d6d2551df0e4",
   "metadata": {
    "ExecuteTime": {
     "end_time": "2024-05-03T22:42:36.086432Z",
     "start_time": "2024-05-03T22:42:36.009665Z"
    }
   },
   "source": [
    "dirName = 'primaria-raw'\n",
    "directory = os.fsencode(dirName)\n",
    "dfs = []\n",
    "# recorremos todos los datos sacados y los guardamos de forma preprocesada\n",
    "for file in os.listdir(directory):\n",
    "    filename = os.fsdecode(file)\n",
    "    if filename.endswith(\".csv\"):\n",
    "        # sacamos los datos de fecha en la que se guardaron las predicciones\n",
    "        # para poder calcular con cuanta antelación (en horas) se hizo la predicción\n",
    "        fecha = datetime.strptime(filename.replace('h', ''), '%H_%d_%m_%Y.csv')\n",
    "        df = pd.read_csv(dirName + \"/\" + filename)\n",
    "        df = preprocess_df(df, fecha)\n",
    "        df['filename'] = filename\n",
    "        dfs.append(df)"
   ],
   "outputs": [],
   "execution_count": 6
  },
  {
   "cell_type": "markdown",
   "id": "c9923b9c-7ef0-411c-ad3c-98e1d94cede6",
   "metadata": {},
   "source": [
    "Creamos directorio de salida si no existe"
   ]
  },
  {
   "cell_type": "code",
   "id": "2b5f92dc-954f-4238-84ca-aca541f00859",
   "metadata": {
    "ExecuteTime": {
     "end_time": "2024-05-03T22:42:36.907967Z",
     "start_time": "2024-05-03T22:42:36.905382Z"
    }
   },
   "source": [
    "outDir = 'preprocessed'\n",
    "if not os.path.exists(outDir):\n",
    "    os.makedirs(outDir)"
   ],
   "outputs": [],
   "execution_count": 7
  },
  {
   "cell_type": "markdown",
   "id": "9ac83dee-ef4c-47fb-b135-41bfa2b171ac",
   "metadata": {},
   "source": [
    "Guardamos el dataframe concatenando todos los archivos en uno"
   ]
  },
  {
   "cell_type": "code",
   "id": "963e29ad-47e6-49ef-9d9d-7f3a4bba9fb1",
   "metadata": {
    "ExecuteTime": {
     "end_time": "2024-05-03T22:42:37.826095Z",
     "start_time": "2024-05-03T22:42:37.817436Z"
    }
   },
   "source": [
    "# juntamos los df's y los guardamos\n",
    "pd.concat(dfs).to_csv(outDir+'/forecast_principal.csv', index=False)"
   ],
   "outputs": [],
   "execution_count": 8
  },
  {
   "cell_type": "code",
   "id": "a7b42c35-73e8-43e0-afc2-75280e5c0415",
   "metadata": {
    "ExecuteTime": {
     "end_time": "2024-05-03T22:42:38.273571Z",
     "start_time": "2024-05-03T22:42:38.247014Z"
    }
   },
   "source": [
    "# revisa que se guardó bien\n",
    "df = pd.read_csv(outDir+'/forecast_principal.csv')\n",
    "df"
   ],
   "outputs": [
    {
     "data": {
      "text/plain": [
       "     Vviento  AlturaOlas  PeriodoOlas  Temperatura  Nubosidad Lluvia  \\\n",
       "0        7.0         0.9          4.0         10.0      100.0    1.5   \n",
       "1        7.0         0.9          4.0         10.0      100.0    1.3   \n",
       "2        6.0         0.8          4.0         10.0      100.0    0.7   \n",
       "3        5.0         0.8          4.0         10.0      100.0    0.2   \n",
       "4        5.0         0.8          5.0         10.0      100.0          \n",
       "..       ...         ...          ...          ...        ...    ...   \n",
       "443      6.0         1.0          9.0         13.0       79.0          \n",
       "444      7.0         1.0          9.0         14.0       72.0          \n",
       "445      7.0         1.0          9.0         14.0       82.0          \n",
       "446      7.0         1.0          9.0         14.0       96.0          \n",
       "447      6.0         1.0          9.0         14.0       97.0          \n",
       "\n",
       "     antelacion  hora  dia  anio  mes            filename  \n",
       "0           0.0    14    2  2024    5  14h_02_05_2024.csv  \n",
       "1           1.0    15    2  2024    5  14h_02_05_2024.csv  \n",
       "2           2.0    16    2  2024    5  14h_02_05_2024.csv  \n",
       "3           3.0    17    2  2024    5  14h_02_05_2024.csv  \n",
       "4           4.0    18    2  2024    5  14h_02_05_2024.csv  \n",
       "..          ...   ...  ...   ...  ...                 ...  \n",
       "443        40.0    12    5  2024    5  20h_03_05_2024.csv  \n",
       "444        41.0    13    5  2024    5  20h_03_05_2024.csv  \n",
       "445        42.0    14    5  2024    5  20h_03_05_2024.csv  \n",
       "446        43.0    15    5  2024    5  20h_03_05_2024.csv  \n",
       "447        44.0    16    5  2024    5  20h_03_05_2024.csv  \n",
       "\n",
       "[448 rows x 12 columns]"
      ],
      "text/html": [
       "<div>\n",
       "<style scoped>\n",
       "    .dataframe tbody tr th:only-of-type {\n",
       "        vertical-align: middle;\n",
       "    }\n",
       "\n",
       "    .dataframe tbody tr th {\n",
       "        vertical-align: top;\n",
       "    }\n",
       "\n",
       "    .dataframe thead th {\n",
       "        text-align: right;\n",
       "    }\n",
       "</style>\n",
       "<table border=\"1\" class=\"dataframe\">\n",
       "  <thead>\n",
       "    <tr style=\"text-align: right;\">\n",
       "      <th></th>\n",
       "      <th>Vviento</th>\n",
       "      <th>AlturaOlas</th>\n",
       "      <th>PeriodoOlas</th>\n",
       "      <th>Temperatura</th>\n",
       "      <th>Nubosidad</th>\n",
       "      <th>Lluvia</th>\n",
       "      <th>antelacion</th>\n",
       "      <th>hora</th>\n",
       "      <th>dia</th>\n",
       "      <th>anio</th>\n",
       "      <th>mes</th>\n",
       "      <th>filename</th>\n",
       "    </tr>\n",
       "  </thead>\n",
       "  <tbody>\n",
       "    <tr>\n",
       "      <th>0</th>\n",
       "      <td>7.0</td>\n",
       "      <td>0.9</td>\n",
       "      <td>4.0</td>\n",
       "      <td>10.0</td>\n",
       "      <td>100.0</td>\n",
       "      <td>1.5</td>\n",
       "      <td>0.0</td>\n",
       "      <td>14</td>\n",
       "      <td>2</td>\n",
       "      <td>2024</td>\n",
       "      <td>5</td>\n",
       "      <td>14h_02_05_2024.csv</td>\n",
       "    </tr>\n",
       "    <tr>\n",
       "      <th>1</th>\n",
       "      <td>7.0</td>\n",
       "      <td>0.9</td>\n",
       "      <td>4.0</td>\n",
       "      <td>10.0</td>\n",
       "      <td>100.0</td>\n",
       "      <td>1.3</td>\n",
       "      <td>1.0</td>\n",
       "      <td>15</td>\n",
       "      <td>2</td>\n",
       "      <td>2024</td>\n",
       "      <td>5</td>\n",
       "      <td>14h_02_05_2024.csv</td>\n",
       "    </tr>\n",
       "    <tr>\n",
       "      <th>2</th>\n",
       "      <td>6.0</td>\n",
       "      <td>0.8</td>\n",
       "      <td>4.0</td>\n",
       "      <td>10.0</td>\n",
       "      <td>100.0</td>\n",
       "      <td>0.7</td>\n",
       "      <td>2.0</td>\n",
       "      <td>16</td>\n",
       "      <td>2</td>\n",
       "      <td>2024</td>\n",
       "      <td>5</td>\n",
       "      <td>14h_02_05_2024.csv</td>\n",
       "    </tr>\n",
       "    <tr>\n",
       "      <th>3</th>\n",
       "      <td>5.0</td>\n",
       "      <td>0.8</td>\n",
       "      <td>4.0</td>\n",
       "      <td>10.0</td>\n",
       "      <td>100.0</td>\n",
       "      <td>0.2</td>\n",
       "      <td>3.0</td>\n",
       "      <td>17</td>\n",
       "      <td>2</td>\n",
       "      <td>2024</td>\n",
       "      <td>5</td>\n",
       "      <td>14h_02_05_2024.csv</td>\n",
       "    </tr>\n",
       "    <tr>\n",
       "      <th>4</th>\n",
       "      <td>5.0</td>\n",
       "      <td>0.8</td>\n",
       "      <td>5.0</td>\n",
       "      <td>10.0</td>\n",
       "      <td>100.0</td>\n",
       "      <td></td>\n",
       "      <td>4.0</td>\n",
       "      <td>18</td>\n",
       "      <td>2</td>\n",
       "      <td>2024</td>\n",
       "      <td>5</td>\n",
       "      <td>14h_02_05_2024.csv</td>\n",
       "    </tr>\n",
       "    <tr>\n",
       "      <th>...</th>\n",
       "      <td>...</td>\n",
       "      <td>...</td>\n",
       "      <td>...</td>\n",
       "      <td>...</td>\n",
       "      <td>...</td>\n",
       "      <td>...</td>\n",
       "      <td>...</td>\n",
       "      <td>...</td>\n",
       "      <td>...</td>\n",
       "      <td>...</td>\n",
       "      <td>...</td>\n",
       "      <td>...</td>\n",
       "    </tr>\n",
       "    <tr>\n",
       "      <th>443</th>\n",
       "      <td>6.0</td>\n",
       "      <td>1.0</td>\n",
       "      <td>9.0</td>\n",
       "      <td>13.0</td>\n",
       "      <td>79.0</td>\n",
       "      <td></td>\n",
       "      <td>40.0</td>\n",
       "      <td>12</td>\n",
       "      <td>5</td>\n",
       "      <td>2024</td>\n",
       "      <td>5</td>\n",
       "      <td>20h_03_05_2024.csv</td>\n",
       "    </tr>\n",
       "    <tr>\n",
       "      <th>444</th>\n",
       "      <td>7.0</td>\n",
       "      <td>1.0</td>\n",
       "      <td>9.0</td>\n",
       "      <td>14.0</td>\n",
       "      <td>72.0</td>\n",
       "      <td></td>\n",
       "      <td>41.0</td>\n",
       "      <td>13</td>\n",
       "      <td>5</td>\n",
       "      <td>2024</td>\n",
       "      <td>5</td>\n",
       "      <td>20h_03_05_2024.csv</td>\n",
       "    </tr>\n",
       "    <tr>\n",
       "      <th>445</th>\n",
       "      <td>7.0</td>\n",
       "      <td>1.0</td>\n",
       "      <td>9.0</td>\n",
       "      <td>14.0</td>\n",
       "      <td>82.0</td>\n",
       "      <td></td>\n",
       "      <td>42.0</td>\n",
       "      <td>14</td>\n",
       "      <td>5</td>\n",
       "      <td>2024</td>\n",
       "      <td>5</td>\n",
       "      <td>20h_03_05_2024.csv</td>\n",
       "    </tr>\n",
       "    <tr>\n",
       "      <th>446</th>\n",
       "      <td>7.0</td>\n",
       "      <td>1.0</td>\n",
       "      <td>9.0</td>\n",
       "      <td>14.0</td>\n",
       "      <td>96.0</td>\n",
       "      <td></td>\n",
       "      <td>43.0</td>\n",
       "      <td>15</td>\n",
       "      <td>5</td>\n",
       "      <td>2024</td>\n",
       "      <td>5</td>\n",
       "      <td>20h_03_05_2024.csv</td>\n",
       "    </tr>\n",
       "    <tr>\n",
       "      <th>447</th>\n",
       "      <td>6.0</td>\n",
       "      <td>1.0</td>\n",
       "      <td>9.0</td>\n",
       "      <td>14.0</td>\n",
       "      <td>97.0</td>\n",
       "      <td></td>\n",
       "      <td>44.0</td>\n",
       "      <td>16</td>\n",
       "      <td>5</td>\n",
       "      <td>2024</td>\n",
       "      <td>5</td>\n",
       "      <td>20h_03_05_2024.csv</td>\n",
       "    </tr>\n",
       "  </tbody>\n",
       "</table>\n",
       "<p>448 rows × 12 columns</p>\n",
       "</div>"
      ]
     },
     "execution_count": 9,
     "metadata": {},
     "output_type": "execute_result"
    }
   ],
   "execution_count": 9
  }
 ],
 "metadata": {
  "kernelspec": {
   "display_name": "Python 3 (ipykernel)",
   "language": "python",
   "name": "python3"
  },
  "language_info": {
   "codemirror_mode": {
    "name": "ipython",
    "version": 3
   },
   "file_extension": ".py",
   "mimetype": "text/x-python",
   "name": "python",
   "nbconvert_exporter": "python",
   "pygments_lexer": "ipython3",
   "version": "3.11.5"
  }
 },
 "nbformat": 4,
 "nbformat_minor": 5
}
