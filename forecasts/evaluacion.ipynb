{
 "cells": [
  {
   "cell_type": "markdown",
   "id": "908f289e92f5313a",
   "metadata": {},
   "source": [
    "### Evaluación del modelo en condiciones aproximadas a producción\n",
    "(estimación de rentabilidad del sistema)"
   ]
  },
  {
   "cell_type": "markdown",
   "id": "ed4d73a8f95ca5ad",
   "metadata": {},
   "source": [
    "#### Importamos librerías necesarias"
   ]
  },
  {
   "cell_type": "code",
   "id": "0b60bed2-9536-4f5b-a63d-d41d7856842a",
   "metadata": {
    "ExecuteTime": {
     "end_time": "2024-05-08T02:50:25.023417Z",
     "start_time": "2024-05-08T02:50:25.016346Z"
    }
   },
   "source": [
    "import sys\n",
    "sys.path.append(\"../\") # go to parent dir\n",
    "sys.path.append(\"../../\") # go to parent dir"
   ],
   "outputs": [],
   "execution_count": 1
  },
  {
   "cell_type": "code",
   "id": "40e7516d69d117db",
   "metadata": {
    "ExecuteTime": {
     "end_time": "2024-05-08T02:50:27.922841Z",
     "start_time": "2024-05-08T02:50:25.275775Z"
    }
   },
   "source": [
    "import pickle\n",
    "from modelos import *\n",
    "import matplotlib.pyplot as plt\n",
    "import numpy as np\n",
    "import pandas as pd"
   ],
   "outputs": [],
   "execution_count": 2
  },
  {
   "metadata": {},
   "cell_type": "code",
   "source": [
    "df_2024 = pd.read_parquet(\"../clean/df_2024.parquet\")\n",
    "df_2024[(df_2024.dia == 7) & (df_2024.mes == 5)]"
   ],
   "id": "325d14e9-66bf-4b0a-ba0a-c259d42fa62f",
   "outputs": [],
   "execution_count": null
  },
  {
   "cell_type": "markdown",
   "id": "4697a03ac963b852",
   "metadata": {},
   "source": "Cargamos los datos de forecast"
  },
  {
   "metadata": {
    "ExecuteTime": {
     "end_time": "2024-05-08T02:51:11.975895Z",
     "start_time": "2024-05-08T02:51:11.960784Z"
    }
   },
   "cell_type": "code",
   "source": "df_forecast = pd.read_csv('../clean/forecast_merged.csv')",
   "id": "52fd8c3ec0c1ffb8",
   "outputs": [],
   "execution_count": 5
  },
  {
   "cell_type": "code",
   "id": "358a5d09-eb4d-4e20-b59a-b721c25174a7",
   "metadata": {
    "ExecuteTime": {
     "end_time": "2024-05-08T02:51:12.642889Z",
     "start_time": "2024-05-08T02:51:12.635648Z"
    }
   },
   "source": [
    "df_forecast.columns"
   ],
   "outputs": [
    {
     "data": {
      "text/plain": [
       "Index(['Vviento', 'PeriodoOlas', 'Nubosidad', 'Lluvia', 'antelacion', 'hora',\n",
       "       'dia', 'anio', 'mes', 'temp', 'dewPt', 'heat_index', 'rh', 'pressure',\n",
       "       'vis', 'wc', 'feels_like', 'uv_index', 'wdir_E', 'wdir_ENE', 'wdir_ESE',\n",
       "       'wdir_N', 'wdir_NE', 'wdir_NNE', 'wdir_NNW', 'wdir_NW', 'wdir_S',\n",
       "       'wdir_SE', 'wdir_SSE', 'wdir_SSW', 'wdir_SW', 'wdir_VAR', 'wdir_W',\n",
       "       'wdir_WNW', 'wdir_WSW', 'moonphase', 'AlturaOlas'],\n",
       "      dtype='object')"
      ]
     },
     "execution_count": 6,
     "metadata": {},
     "output_type": "execute_result"
    }
   ],
   "execution_count": 6
  },
  {
   "cell_type": "code",
   "id": "a3d0959d6ee959ca",
   "metadata": {
    "ExecuteTime": {
     "end_time": "2024-05-08T02:51:15.596331Z",
     "start_time": "2024-05-08T02:51:15.593444Z"
    }
   },
   "source": "antelaciones = df_forecast['antelacion'] # guardamos para evaluar posteriormente",
   "outputs": [],
   "execution_count": 7
  },
  {
   "cell_type": "markdown",
   "id": "d1252608465f0f22",
   "metadata": {},
   "source": [
    "#### Separamos en explicativas y respuesta"
   ]
  },
  {
   "cell_type": "code",
   "id": "54d6e29a7da468d7",
   "metadata": {
    "ExecuteTime": {
     "end_time": "2024-05-08T02:51:17.097597Z",
     "start_time": "2024-05-08T02:51:17.093343Z"
    }
   },
   "source": [
    "X, y = df_forecast.drop(columns=['AlturaOlas', 'anio', 'mes', 'dia', 'hora']), df_forecast['AlturaOlas']"
   ],
   "outputs": [],
   "execution_count": 8
  },
  {
   "cell_type": "markdown",
   "id": "288dcb2d274c8551",
   "metadata": {},
   "source": [
    "#### Cargamos el modelo definitivo"
   ]
  },
  {
   "cell_type": "code",
   "id": "df1a96fe87ce5f56",
   "metadata": {
    "ExecuteTime": {
     "end_time": "2024-05-08T02:51:19.153462Z",
     "start_time": "2024-05-08T02:51:18.930555Z"
    }
   },
   "source": [
    "filename = '../modelos/modelo_definitivo/modelo_rf_def.pkl'\n",
    "\n",
    "with open(filename, 'rb') as file:\n",
    "    model = pickle.load(file)\n",
    "\n",
    "model"
   ],
   "outputs": [
    {
     "name": "stderr",
     "output_type": "stream",
     "text": [
      "/Users/tyomikjan/UNIVERSITY/PD1/PD/venv/lib/python3.11/site-packages/sklearn/base.py:376: InconsistentVersionWarning: Trying to unpickle estimator DecisionTreeRegressor from version 1.4.2 when using version 1.4.1.post1. This might lead to breaking code or invalid results. Use at your own risk. For more info please refer to:\n",
      "https://scikit-learn.org/stable/model_persistence.html#security-maintainability-limitations\n",
      "  warnings.warn(\n",
      "/Users/tyomikjan/UNIVERSITY/PD1/PD/venv/lib/python3.11/site-packages/sklearn/base.py:376: InconsistentVersionWarning: Trying to unpickle estimator RandomForestRegressor from version 1.4.2 when using version 1.4.1.post1. This might lead to breaking code or invalid results. Use at your own risk. For more info please refer to:\n",
      "https://scikit-learn.org/stable/model_persistence.html#security-maintainability-limitations\n",
      "  warnings.warn(\n"
     ]
    },
    {
     "data": {
      "text/plain": [
       "RandomForestRegressor(max_depth=28, min_samples_leaf=4, min_samples_split=4,\n",
       "                      n_estimators=201, random_state=777)"
      ],
      "text/html": [
       "<style>#sk-container-id-1 {\n",
       "  /* Definition of color scheme common for light and dark mode */\n",
       "  --sklearn-color-text: black;\n",
       "  --sklearn-color-line: gray;\n",
       "  /* Definition of color scheme for unfitted estimators */\n",
       "  --sklearn-color-unfitted-level-0: #fff5e6;\n",
       "  --sklearn-color-unfitted-level-1: #f6e4d2;\n",
       "  --sklearn-color-unfitted-level-2: #ffe0b3;\n",
       "  --sklearn-color-unfitted-level-3: chocolate;\n",
       "  /* Definition of color scheme for fitted estimators */\n",
       "  --sklearn-color-fitted-level-0: #f0f8ff;\n",
       "  --sklearn-color-fitted-level-1: #d4ebff;\n",
       "  --sklearn-color-fitted-level-2: #b3dbfd;\n",
       "  --sklearn-color-fitted-level-3: cornflowerblue;\n",
       "\n",
       "  /* Specific color for light theme */\n",
       "  --sklearn-color-text-on-default-background: var(--sg-text-color, var(--theme-code-foreground, var(--jp-content-font-color1, black)));\n",
       "  --sklearn-color-background: var(--sg-background-color, var(--theme-background, var(--jp-layout-color0, white)));\n",
       "  --sklearn-color-border-box: var(--sg-text-color, var(--theme-code-foreground, var(--jp-content-font-color1, black)));\n",
       "  --sklearn-color-icon: #696969;\n",
       "\n",
       "  @media (prefers-color-scheme: dark) {\n",
       "    /* Redefinition of color scheme for dark theme */\n",
       "    --sklearn-color-text-on-default-background: var(--sg-text-color, var(--theme-code-foreground, var(--jp-content-font-color1, white)));\n",
       "    --sklearn-color-background: var(--sg-background-color, var(--theme-background, var(--jp-layout-color0, #111)));\n",
       "    --sklearn-color-border-box: var(--sg-text-color, var(--theme-code-foreground, var(--jp-content-font-color1, white)));\n",
       "    --sklearn-color-icon: #878787;\n",
       "  }\n",
       "}\n",
       "\n",
       "#sk-container-id-1 {\n",
       "  color: var(--sklearn-color-text);\n",
       "}\n",
       "\n",
       "#sk-container-id-1 pre {\n",
       "  padding: 0;\n",
       "}\n",
       "\n",
       "#sk-container-id-1 input.sk-hidden--visually {\n",
       "  border: 0;\n",
       "  clip: rect(1px 1px 1px 1px);\n",
       "  clip: rect(1px, 1px, 1px, 1px);\n",
       "  height: 1px;\n",
       "  margin: -1px;\n",
       "  overflow: hidden;\n",
       "  padding: 0;\n",
       "  position: absolute;\n",
       "  width: 1px;\n",
       "}\n",
       "\n",
       "#sk-container-id-1 div.sk-dashed-wrapped {\n",
       "  border: 1px dashed var(--sklearn-color-line);\n",
       "  margin: 0 0.4em 0.5em 0.4em;\n",
       "  box-sizing: border-box;\n",
       "  padding-bottom: 0.4em;\n",
       "  background-color: var(--sklearn-color-background);\n",
       "}\n",
       "\n",
       "#sk-container-id-1 div.sk-container {\n",
       "  /* jupyter's `normalize.less` sets `[hidden] { display: none; }`\n",
       "     but bootstrap.min.css set `[hidden] { display: none !important; }`\n",
       "     so we also need the `!important` here to be able to override the\n",
       "     default hidden behavior on the sphinx rendered scikit-learn.org.\n",
       "     See: https://github.com/scikit-learn/scikit-learn/issues/21755 */\n",
       "  display: inline-block !important;\n",
       "  position: relative;\n",
       "}\n",
       "\n",
       "#sk-container-id-1 div.sk-text-repr-fallback {\n",
       "  display: none;\n",
       "}\n",
       "\n",
       "div.sk-parallel-item,\n",
       "div.sk-serial,\n",
       "div.sk-item {\n",
       "  /* draw centered vertical line to link estimators */\n",
       "  background-image: linear-gradient(var(--sklearn-color-text-on-default-background), var(--sklearn-color-text-on-default-background));\n",
       "  background-size: 2px 100%;\n",
       "  background-repeat: no-repeat;\n",
       "  background-position: center center;\n",
       "}\n",
       "\n",
       "/* Parallel-specific style estimator block */\n",
       "\n",
       "#sk-container-id-1 div.sk-parallel-item::after {\n",
       "  content: \"\";\n",
       "  width: 100%;\n",
       "  border-bottom: 2px solid var(--sklearn-color-text-on-default-background);\n",
       "  flex-grow: 1;\n",
       "}\n",
       "\n",
       "#sk-container-id-1 div.sk-parallel {\n",
       "  display: flex;\n",
       "  align-items: stretch;\n",
       "  justify-content: center;\n",
       "  background-color: var(--sklearn-color-background);\n",
       "  position: relative;\n",
       "}\n",
       "\n",
       "#sk-container-id-1 div.sk-parallel-item {\n",
       "  display: flex;\n",
       "  flex-direction: column;\n",
       "}\n",
       "\n",
       "#sk-container-id-1 div.sk-parallel-item:first-child::after {\n",
       "  align-self: flex-end;\n",
       "  width: 50%;\n",
       "}\n",
       "\n",
       "#sk-container-id-1 div.sk-parallel-item:last-child::after {\n",
       "  align-self: flex-start;\n",
       "  width: 50%;\n",
       "}\n",
       "\n",
       "#sk-container-id-1 div.sk-parallel-item:only-child::after {\n",
       "  width: 0;\n",
       "}\n",
       "\n",
       "/* Serial-specific style estimator block */\n",
       "\n",
       "#sk-container-id-1 div.sk-serial {\n",
       "  display: flex;\n",
       "  flex-direction: column;\n",
       "  align-items: center;\n",
       "  background-color: var(--sklearn-color-background);\n",
       "  padding-right: 1em;\n",
       "  padding-left: 1em;\n",
       "}\n",
       "\n",
       "\n",
       "/* Toggleable style: style used for estimator/Pipeline/ColumnTransformer box that is\n",
       "clickable and can be expanded/collapsed.\n",
       "- Pipeline and ColumnTransformer use this feature and define the default style\n",
       "- Estimators will overwrite some part of the style using the `sk-estimator` class\n",
       "*/\n",
       "\n",
       "/* Pipeline and ColumnTransformer style (default) */\n",
       "\n",
       "#sk-container-id-1 div.sk-toggleable {\n",
       "  /* Default theme specific background. It is overwritten whether we have a\n",
       "  specific estimator or a Pipeline/ColumnTransformer */\n",
       "  background-color: var(--sklearn-color-background);\n",
       "}\n",
       "\n",
       "/* Toggleable label */\n",
       "#sk-container-id-1 label.sk-toggleable__label {\n",
       "  cursor: pointer;\n",
       "  display: block;\n",
       "  width: 100%;\n",
       "  margin-bottom: 0;\n",
       "  padding: 0.5em;\n",
       "  box-sizing: border-box;\n",
       "  text-align: center;\n",
       "}\n",
       "\n",
       "#sk-container-id-1 label.sk-toggleable__label-arrow:before {\n",
       "  /* Arrow on the left of the label */\n",
       "  content: \"▸\";\n",
       "  float: left;\n",
       "  margin-right: 0.25em;\n",
       "  color: var(--sklearn-color-icon);\n",
       "}\n",
       "\n",
       "#sk-container-id-1 label.sk-toggleable__label-arrow:hover:before {\n",
       "  color: var(--sklearn-color-text);\n",
       "}\n",
       "\n",
       "/* Toggleable content - dropdown */\n",
       "\n",
       "#sk-container-id-1 div.sk-toggleable__content {\n",
       "  max-height: 0;\n",
       "  max-width: 0;\n",
       "  overflow: hidden;\n",
       "  text-align: left;\n",
       "  /* unfitted */\n",
       "  background-color: var(--sklearn-color-unfitted-level-0);\n",
       "}\n",
       "\n",
       "#sk-container-id-1 div.sk-toggleable__content.fitted {\n",
       "  /* fitted */\n",
       "  background-color: var(--sklearn-color-fitted-level-0);\n",
       "}\n",
       "\n",
       "#sk-container-id-1 div.sk-toggleable__content pre {\n",
       "  margin: 0.2em;\n",
       "  border-radius: 0.25em;\n",
       "  color: var(--sklearn-color-text);\n",
       "  /* unfitted */\n",
       "  background-color: var(--sklearn-color-unfitted-level-0);\n",
       "}\n",
       "\n",
       "#sk-container-id-1 div.sk-toggleable__content.fitted pre {\n",
       "  /* unfitted */\n",
       "  background-color: var(--sklearn-color-fitted-level-0);\n",
       "}\n",
       "\n",
       "#sk-container-id-1 input.sk-toggleable__control:checked~div.sk-toggleable__content {\n",
       "  /* Expand drop-down */\n",
       "  max-height: 200px;\n",
       "  max-width: 100%;\n",
       "  overflow: auto;\n",
       "}\n",
       "\n",
       "#sk-container-id-1 input.sk-toggleable__control:checked~label.sk-toggleable__label-arrow:before {\n",
       "  content: \"▾\";\n",
       "}\n",
       "\n",
       "/* Pipeline/ColumnTransformer-specific style */\n",
       "\n",
       "#sk-container-id-1 div.sk-label input.sk-toggleable__control:checked~label.sk-toggleable__label {\n",
       "  color: var(--sklearn-color-text);\n",
       "  background-color: var(--sklearn-color-unfitted-level-2);\n",
       "}\n",
       "\n",
       "#sk-container-id-1 div.sk-label.fitted input.sk-toggleable__control:checked~label.sk-toggleable__label {\n",
       "  background-color: var(--sklearn-color-fitted-level-2);\n",
       "}\n",
       "\n",
       "/* Estimator-specific style */\n",
       "\n",
       "/* Colorize estimator box */\n",
       "#sk-container-id-1 div.sk-estimator input.sk-toggleable__control:checked~label.sk-toggleable__label {\n",
       "  /* unfitted */\n",
       "  background-color: var(--sklearn-color-unfitted-level-2);\n",
       "}\n",
       "\n",
       "#sk-container-id-1 div.sk-estimator.fitted input.sk-toggleable__control:checked~label.sk-toggleable__label {\n",
       "  /* fitted */\n",
       "  background-color: var(--sklearn-color-fitted-level-2);\n",
       "}\n",
       "\n",
       "#sk-container-id-1 div.sk-label label.sk-toggleable__label,\n",
       "#sk-container-id-1 div.sk-label label {\n",
       "  /* The background is the default theme color */\n",
       "  color: var(--sklearn-color-text-on-default-background);\n",
       "}\n",
       "\n",
       "/* On hover, darken the color of the background */\n",
       "#sk-container-id-1 div.sk-label:hover label.sk-toggleable__label {\n",
       "  color: var(--sklearn-color-text);\n",
       "  background-color: var(--sklearn-color-unfitted-level-2);\n",
       "}\n",
       "\n",
       "/* Label box, darken color on hover, fitted */\n",
       "#sk-container-id-1 div.sk-label.fitted:hover label.sk-toggleable__label.fitted {\n",
       "  color: var(--sklearn-color-text);\n",
       "  background-color: var(--sklearn-color-fitted-level-2);\n",
       "}\n",
       "\n",
       "/* Estimator label */\n",
       "\n",
       "#sk-container-id-1 div.sk-label label {\n",
       "  font-family: monospace;\n",
       "  font-weight: bold;\n",
       "  display: inline-block;\n",
       "  line-height: 1.2em;\n",
       "}\n",
       "\n",
       "#sk-container-id-1 div.sk-label-container {\n",
       "  text-align: center;\n",
       "}\n",
       "\n",
       "/* Estimator-specific */\n",
       "#sk-container-id-1 div.sk-estimator {\n",
       "  font-family: monospace;\n",
       "  border: 1px dotted var(--sklearn-color-border-box);\n",
       "  border-radius: 0.25em;\n",
       "  box-sizing: border-box;\n",
       "  margin-bottom: 0.5em;\n",
       "  /* unfitted */\n",
       "  background-color: var(--sklearn-color-unfitted-level-0);\n",
       "}\n",
       "\n",
       "#sk-container-id-1 div.sk-estimator.fitted {\n",
       "  /* fitted */\n",
       "  background-color: var(--sklearn-color-fitted-level-0);\n",
       "}\n",
       "\n",
       "/* on hover */\n",
       "#sk-container-id-1 div.sk-estimator:hover {\n",
       "  /* unfitted */\n",
       "  background-color: var(--sklearn-color-unfitted-level-2);\n",
       "}\n",
       "\n",
       "#sk-container-id-1 div.sk-estimator.fitted:hover {\n",
       "  /* fitted */\n",
       "  background-color: var(--sklearn-color-fitted-level-2);\n",
       "}\n",
       "\n",
       "/* Specification for estimator info (e.g. \"i\" and \"?\") */\n",
       "\n",
       "/* Common style for \"i\" and \"?\" */\n",
       "\n",
       ".sk-estimator-doc-link,\n",
       "a:link.sk-estimator-doc-link,\n",
       "a:visited.sk-estimator-doc-link {\n",
       "  float: right;\n",
       "  font-size: smaller;\n",
       "  line-height: 1em;\n",
       "  font-family: monospace;\n",
       "  background-color: var(--sklearn-color-background);\n",
       "  border-radius: 1em;\n",
       "  height: 1em;\n",
       "  width: 1em;\n",
       "  text-decoration: none !important;\n",
       "  margin-left: 1ex;\n",
       "  /* unfitted */\n",
       "  border: var(--sklearn-color-unfitted-level-1) 1pt solid;\n",
       "  color: var(--sklearn-color-unfitted-level-1);\n",
       "}\n",
       "\n",
       ".sk-estimator-doc-link.fitted,\n",
       "a:link.sk-estimator-doc-link.fitted,\n",
       "a:visited.sk-estimator-doc-link.fitted {\n",
       "  /* fitted */\n",
       "  border: var(--sklearn-color-fitted-level-1) 1pt solid;\n",
       "  color: var(--sklearn-color-fitted-level-1);\n",
       "}\n",
       "\n",
       "/* On hover */\n",
       "div.sk-estimator:hover .sk-estimator-doc-link:hover,\n",
       ".sk-estimator-doc-link:hover,\n",
       "div.sk-label-container:hover .sk-estimator-doc-link:hover,\n",
       ".sk-estimator-doc-link:hover {\n",
       "  /* unfitted */\n",
       "  background-color: var(--sklearn-color-unfitted-level-3);\n",
       "  color: var(--sklearn-color-background);\n",
       "  text-decoration: none;\n",
       "}\n",
       "\n",
       "div.sk-estimator.fitted:hover .sk-estimator-doc-link.fitted:hover,\n",
       ".sk-estimator-doc-link.fitted:hover,\n",
       "div.sk-label-container:hover .sk-estimator-doc-link.fitted:hover,\n",
       ".sk-estimator-doc-link.fitted:hover {\n",
       "  /* fitted */\n",
       "  background-color: var(--sklearn-color-fitted-level-3);\n",
       "  color: var(--sklearn-color-background);\n",
       "  text-decoration: none;\n",
       "}\n",
       "\n",
       "/* Span, style for the box shown on hovering the info icon */\n",
       ".sk-estimator-doc-link span {\n",
       "  display: none;\n",
       "  z-index: 9999;\n",
       "  position: relative;\n",
       "  font-weight: normal;\n",
       "  right: .2ex;\n",
       "  padding: .5ex;\n",
       "  margin: .5ex;\n",
       "  width: min-content;\n",
       "  min-width: 20ex;\n",
       "  max-width: 50ex;\n",
       "  color: var(--sklearn-color-text);\n",
       "  box-shadow: 2pt 2pt 4pt #999;\n",
       "  /* unfitted */\n",
       "  background: var(--sklearn-color-unfitted-level-0);\n",
       "  border: .5pt solid var(--sklearn-color-unfitted-level-3);\n",
       "}\n",
       "\n",
       ".sk-estimator-doc-link.fitted span {\n",
       "  /* fitted */\n",
       "  background: var(--sklearn-color-fitted-level-0);\n",
       "  border: var(--sklearn-color-fitted-level-3);\n",
       "}\n",
       "\n",
       ".sk-estimator-doc-link:hover span {\n",
       "  display: block;\n",
       "}\n",
       "\n",
       "/* \"?\"-specific style due to the `<a>` HTML tag */\n",
       "\n",
       "#sk-container-id-1 a.estimator_doc_link {\n",
       "  float: right;\n",
       "  font-size: 1rem;\n",
       "  line-height: 1em;\n",
       "  font-family: monospace;\n",
       "  background-color: var(--sklearn-color-background);\n",
       "  border-radius: 1rem;\n",
       "  height: 1rem;\n",
       "  width: 1rem;\n",
       "  text-decoration: none;\n",
       "  /* unfitted */\n",
       "  color: var(--sklearn-color-unfitted-level-1);\n",
       "  border: var(--sklearn-color-unfitted-level-1) 1pt solid;\n",
       "}\n",
       "\n",
       "#sk-container-id-1 a.estimator_doc_link.fitted {\n",
       "  /* fitted */\n",
       "  border: var(--sklearn-color-fitted-level-1) 1pt solid;\n",
       "  color: var(--sklearn-color-fitted-level-1);\n",
       "}\n",
       "\n",
       "/* On hover */\n",
       "#sk-container-id-1 a.estimator_doc_link:hover {\n",
       "  /* unfitted */\n",
       "  background-color: var(--sklearn-color-unfitted-level-3);\n",
       "  color: var(--sklearn-color-background);\n",
       "  text-decoration: none;\n",
       "}\n",
       "\n",
       "#sk-container-id-1 a.estimator_doc_link.fitted:hover {\n",
       "  /* fitted */\n",
       "  background-color: var(--sklearn-color-fitted-level-3);\n",
       "}\n",
       "</style><div id=\"sk-container-id-1\" class=\"sk-top-container\"><div class=\"sk-text-repr-fallback\"><pre>RandomForestRegressor(max_depth=28, min_samples_leaf=4, min_samples_split=4,\n",
       "                      n_estimators=201, random_state=777)</pre><b>In a Jupyter environment, please rerun this cell to show the HTML representation or trust the notebook. <br />On GitHub, the HTML representation is unable to render, please try loading this page with nbviewer.org.</b></div><div class=\"sk-container\" hidden><div class=\"sk-item\"><div class=\"sk-estimator fitted sk-toggleable\"><input class=\"sk-toggleable__control sk-hidden--visually\" id=\"sk-estimator-id-1\" type=\"checkbox\" checked><label for=\"sk-estimator-id-1\" class=\"sk-toggleable__label fitted sk-toggleable__label-arrow fitted\">&nbsp;&nbsp;RandomForestRegressor<a class=\"sk-estimator-doc-link fitted\" rel=\"noreferrer\" target=\"_blank\" href=\"https://scikit-learn.org/1.4/modules/generated/sklearn.ensemble.RandomForestRegressor.html\">?<span>Documentation for RandomForestRegressor</span></a><span class=\"sk-estimator-doc-link fitted\">i<span>Fitted</span></span></label><div class=\"sk-toggleable__content fitted\"><pre>RandomForestRegressor(max_depth=28, min_samples_leaf=4, min_samples_split=4,\n",
       "                      n_estimators=201, random_state=777)</pre></div> </div></div></div></div>"
      ]
     },
     "execution_count": 9,
     "metadata": {},
     "output_type": "execute_result"
    }
   ],
   "execution_count": 9
  },
  {
   "cell_type": "markdown",
   "id": "78e6866a-45cc-4d31-981d-c93d34144595",
   "metadata": {},
   "source": [
    "Obtenemos la escala de los datos de entrenamiento"
   ]
  },
  {
   "cell_type": "code",
   "id": "777d0362-085e-48c2-a219-1a00c6aa9999",
   "metadata": {
    "ExecuteTime": {
     "end_time": "2024-05-08T02:51:21.388485Z",
     "start_time": "2024-05-08T02:51:21.376820Z"
    }
   },
   "source": [
    "filename = '../modelos/modelo_definitivo/scaler.pkl'\n",
    "\n",
    "with open(filename, 'rb') as file:\n",
    "    scaler = pickle.load(file)\n",
    "\n",
    "\n",
    "scaler"
   ],
   "outputs": [
    {
     "name": "stderr",
     "output_type": "stream",
     "text": [
      "/Users/tyomikjan/UNIVERSITY/PD1/PD/venv/lib/python3.11/site-packages/sklearn/base.py:376: InconsistentVersionWarning: Trying to unpickle estimator StandardScaler from version 1.4.2 when using version 1.4.1.post1. This might lead to breaking code or invalid results. Use at your own risk. For more info please refer to:\n",
      "https://scikit-learn.org/stable/model_persistence.html#security-maintainability-limitations\n",
      "  warnings.warn(\n",
      "/Users/tyomikjan/UNIVERSITY/PD1/PD/venv/lib/python3.11/site-packages/sklearn/base.py:376: InconsistentVersionWarning: Trying to unpickle estimator FunctionTransformer from version 1.4.2 when using version 1.4.1.post1. This might lead to breaking code or invalid results. Use at your own risk. For more info please refer to:\n",
      "https://scikit-learn.org/stable/model_persistence.html#security-maintainability-limitations\n",
      "  warnings.warn(\n",
      "/Users/tyomikjan/UNIVERSITY/PD1/PD/venv/lib/python3.11/site-packages/sklearn/base.py:376: InconsistentVersionWarning: Trying to unpickle estimator ColumnTransformer from version 1.4.2 when using version 1.4.1.post1. This might lead to breaking code or invalid results. Use at your own risk. For more info please refer to:\n",
      "https://scikit-learn.org/stable/model_persistence.html#security-maintainability-limitations\n",
      "  warnings.warn(\n"
     ]
    },
    {
     "data": {
      "text/plain": [
       "ColumnTransformer(remainder='passthrough',\n",
       "                  transformers=[('num', StandardScaler(),\n",
       "                                 ['moonphase', 'temp', 'dewPt', 'heat_index',\n",
       "                                  'rh', 'pressure', 'vis', 'wc', 'feels_like',\n",
       "                                  'uv_index', 'Vviento', 'PeriodoOlas',\n",
       "                                  'Lluvia', 'Nubosidad'])])"
      ],
      "text/html": [
       "<style>#sk-container-id-2 {\n",
       "  /* Definition of color scheme common for light and dark mode */\n",
       "  --sklearn-color-text: black;\n",
       "  --sklearn-color-line: gray;\n",
       "  /* Definition of color scheme for unfitted estimators */\n",
       "  --sklearn-color-unfitted-level-0: #fff5e6;\n",
       "  --sklearn-color-unfitted-level-1: #f6e4d2;\n",
       "  --sklearn-color-unfitted-level-2: #ffe0b3;\n",
       "  --sklearn-color-unfitted-level-3: chocolate;\n",
       "  /* Definition of color scheme for fitted estimators */\n",
       "  --sklearn-color-fitted-level-0: #f0f8ff;\n",
       "  --sklearn-color-fitted-level-1: #d4ebff;\n",
       "  --sklearn-color-fitted-level-2: #b3dbfd;\n",
       "  --sklearn-color-fitted-level-3: cornflowerblue;\n",
       "\n",
       "  /* Specific color for light theme */\n",
       "  --sklearn-color-text-on-default-background: var(--sg-text-color, var(--theme-code-foreground, var(--jp-content-font-color1, black)));\n",
       "  --sklearn-color-background: var(--sg-background-color, var(--theme-background, var(--jp-layout-color0, white)));\n",
       "  --sklearn-color-border-box: var(--sg-text-color, var(--theme-code-foreground, var(--jp-content-font-color1, black)));\n",
       "  --sklearn-color-icon: #696969;\n",
       "\n",
       "  @media (prefers-color-scheme: dark) {\n",
       "    /* Redefinition of color scheme for dark theme */\n",
       "    --sklearn-color-text-on-default-background: var(--sg-text-color, var(--theme-code-foreground, var(--jp-content-font-color1, white)));\n",
       "    --sklearn-color-background: var(--sg-background-color, var(--theme-background, var(--jp-layout-color0, #111)));\n",
       "    --sklearn-color-border-box: var(--sg-text-color, var(--theme-code-foreground, var(--jp-content-font-color1, white)));\n",
       "    --sklearn-color-icon: #878787;\n",
       "  }\n",
       "}\n",
       "\n",
       "#sk-container-id-2 {\n",
       "  color: var(--sklearn-color-text);\n",
       "}\n",
       "\n",
       "#sk-container-id-2 pre {\n",
       "  padding: 0;\n",
       "}\n",
       "\n",
       "#sk-container-id-2 input.sk-hidden--visually {\n",
       "  border: 0;\n",
       "  clip: rect(1px 1px 1px 1px);\n",
       "  clip: rect(1px, 1px, 1px, 1px);\n",
       "  height: 1px;\n",
       "  margin: -1px;\n",
       "  overflow: hidden;\n",
       "  padding: 0;\n",
       "  position: absolute;\n",
       "  width: 1px;\n",
       "}\n",
       "\n",
       "#sk-container-id-2 div.sk-dashed-wrapped {\n",
       "  border: 1px dashed var(--sklearn-color-line);\n",
       "  margin: 0 0.4em 0.5em 0.4em;\n",
       "  box-sizing: border-box;\n",
       "  padding-bottom: 0.4em;\n",
       "  background-color: var(--sklearn-color-background);\n",
       "}\n",
       "\n",
       "#sk-container-id-2 div.sk-container {\n",
       "  /* jupyter's `normalize.less` sets `[hidden] { display: none; }`\n",
       "     but bootstrap.min.css set `[hidden] { display: none !important; }`\n",
       "     so we also need the `!important` here to be able to override the\n",
       "     default hidden behavior on the sphinx rendered scikit-learn.org.\n",
       "     See: https://github.com/scikit-learn/scikit-learn/issues/21755 */\n",
       "  display: inline-block !important;\n",
       "  position: relative;\n",
       "}\n",
       "\n",
       "#sk-container-id-2 div.sk-text-repr-fallback {\n",
       "  display: none;\n",
       "}\n",
       "\n",
       "div.sk-parallel-item,\n",
       "div.sk-serial,\n",
       "div.sk-item {\n",
       "  /* draw centered vertical line to link estimators */\n",
       "  background-image: linear-gradient(var(--sklearn-color-text-on-default-background), var(--sklearn-color-text-on-default-background));\n",
       "  background-size: 2px 100%;\n",
       "  background-repeat: no-repeat;\n",
       "  background-position: center center;\n",
       "}\n",
       "\n",
       "/* Parallel-specific style estimator block */\n",
       "\n",
       "#sk-container-id-2 div.sk-parallel-item::after {\n",
       "  content: \"\";\n",
       "  width: 100%;\n",
       "  border-bottom: 2px solid var(--sklearn-color-text-on-default-background);\n",
       "  flex-grow: 1;\n",
       "}\n",
       "\n",
       "#sk-container-id-2 div.sk-parallel {\n",
       "  display: flex;\n",
       "  align-items: stretch;\n",
       "  justify-content: center;\n",
       "  background-color: var(--sklearn-color-background);\n",
       "  position: relative;\n",
       "}\n",
       "\n",
       "#sk-container-id-2 div.sk-parallel-item {\n",
       "  display: flex;\n",
       "  flex-direction: column;\n",
       "}\n",
       "\n",
       "#sk-container-id-2 div.sk-parallel-item:first-child::after {\n",
       "  align-self: flex-end;\n",
       "  width: 50%;\n",
       "}\n",
       "\n",
       "#sk-container-id-2 div.sk-parallel-item:last-child::after {\n",
       "  align-self: flex-start;\n",
       "  width: 50%;\n",
       "}\n",
       "\n",
       "#sk-container-id-2 div.sk-parallel-item:only-child::after {\n",
       "  width: 0;\n",
       "}\n",
       "\n",
       "/* Serial-specific style estimator block */\n",
       "\n",
       "#sk-container-id-2 div.sk-serial {\n",
       "  display: flex;\n",
       "  flex-direction: column;\n",
       "  align-items: center;\n",
       "  background-color: var(--sklearn-color-background);\n",
       "  padding-right: 1em;\n",
       "  padding-left: 1em;\n",
       "}\n",
       "\n",
       "\n",
       "/* Toggleable style: style used for estimator/Pipeline/ColumnTransformer box that is\n",
       "clickable and can be expanded/collapsed.\n",
       "- Pipeline and ColumnTransformer use this feature and define the default style\n",
       "- Estimators will overwrite some part of the style using the `sk-estimator` class\n",
       "*/\n",
       "\n",
       "/* Pipeline and ColumnTransformer style (default) */\n",
       "\n",
       "#sk-container-id-2 div.sk-toggleable {\n",
       "  /* Default theme specific background. It is overwritten whether we have a\n",
       "  specific estimator or a Pipeline/ColumnTransformer */\n",
       "  background-color: var(--sklearn-color-background);\n",
       "}\n",
       "\n",
       "/* Toggleable label */\n",
       "#sk-container-id-2 label.sk-toggleable__label {\n",
       "  cursor: pointer;\n",
       "  display: block;\n",
       "  width: 100%;\n",
       "  margin-bottom: 0;\n",
       "  padding: 0.5em;\n",
       "  box-sizing: border-box;\n",
       "  text-align: center;\n",
       "}\n",
       "\n",
       "#sk-container-id-2 label.sk-toggleable__label-arrow:before {\n",
       "  /* Arrow on the left of the label */\n",
       "  content: \"▸\";\n",
       "  float: left;\n",
       "  margin-right: 0.25em;\n",
       "  color: var(--sklearn-color-icon);\n",
       "}\n",
       "\n",
       "#sk-container-id-2 label.sk-toggleable__label-arrow:hover:before {\n",
       "  color: var(--sklearn-color-text);\n",
       "}\n",
       "\n",
       "/* Toggleable content - dropdown */\n",
       "\n",
       "#sk-container-id-2 div.sk-toggleable__content {\n",
       "  max-height: 0;\n",
       "  max-width: 0;\n",
       "  overflow: hidden;\n",
       "  text-align: left;\n",
       "  /* unfitted */\n",
       "  background-color: var(--sklearn-color-unfitted-level-0);\n",
       "}\n",
       "\n",
       "#sk-container-id-2 div.sk-toggleable__content.fitted {\n",
       "  /* fitted */\n",
       "  background-color: var(--sklearn-color-fitted-level-0);\n",
       "}\n",
       "\n",
       "#sk-container-id-2 div.sk-toggleable__content pre {\n",
       "  margin: 0.2em;\n",
       "  border-radius: 0.25em;\n",
       "  color: var(--sklearn-color-text);\n",
       "  /* unfitted */\n",
       "  background-color: var(--sklearn-color-unfitted-level-0);\n",
       "}\n",
       "\n",
       "#sk-container-id-2 div.sk-toggleable__content.fitted pre {\n",
       "  /* unfitted */\n",
       "  background-color: var(--sklearn-color-fitted-level-0);\n",
       "}\n",
       "\n",
       "#sk-container-id-2 input.sk-toggleable__control:checked~div.sk-toggleable__content {\n",
       "  /* Expand drop-down */\n",
       "  max-height: 200px;\n",
       "  max-width: 100%;\n",
       "  overflow: auto;\n",
       "}\n",
       "\n",
       "#sk-container-id-2 input.sk-toggleable__control:checked~label.sk-toggleable__label-arrow:before {\n",
       "  content: \"▾\";\n",
       "}\n",
       "\n",
       "/* Pipeline/ColumnTransformer-specific style */\n",
       "\n",
       "#sk-container-id-2 div.sk-label input.sk-toggleable__control:checked~label.sk-toggleable__label {\n",
       "  color: var(--sklearn-color-text);\n",
       "  background-color: var(--sklearn-color-unfitted-level-2);\n",
       "}\n",
       "\n",
       "#sk-container-id-2 div.sk-label.fitted input.sk-toggleable__control:checked~label.sk-toggleable__label {\n",
       "  background-color: var(--sklearn-color-fitted-level-2);\n",
       "}\n",
       "\n",
       "/* Estimator-specific style */\n",
       "\n",
       "/* Colorize estimator box */\n",
       "#sk-container-id-2 div.sk-estimator input.sk-toggleable__control:checked~label.sk-toggleable__label {\n",
       "  /* unfitted */\n",
       "  background-color: var(--sklearn-color-unfitted-level-2);\n",
       "}\n",
       "\n",
       "#sk-container-id-2 div.sk-estimator.fitted input.sk-toggleable__control:checked~label.sk-toggleable__label {\n",
       "  /* fitted */\n",
       "  background-color: var(--sklearn-color-fitted-level-2);\n",
       "}\n",
       "\n",
       "#sk-container-id-2 div.sk-label label.sk-toggleable__label,\n",
       "#sk-container-id-2 div.sk-label label {\n",
       "  /* The background is the default theme color */\n",
       "  color: var(--sklearn-color-text-on-default-background);\n",
       "}\n",
       "\n",
       "/* On hover, darken the color of the background */\n",
       "#sk-container-id-2 div.sk-label:hover label.sk-toggleable__label {\n",
       "  color: var(--sklearn-color-text);\n",
       "  background-color: var(--sklearn-color-unfitted-level-2);\n",
       "}\n",
       "\n",
       "/* Label box, darken color on hover, fitted */\n",
       "#sk-container-id-2 div.sk-label.fitted:hover label.sk-toggleable__label.fitted {\n",
       "  color: var(--sklearn-color-text);\n",
       "  background-color: var(--sklearn-color-fitted-level-2);\n",
       "}\n",
       "\n",
       "/* Estimator label */\n",
       "\n",
       "#sk-container-id-2 div.sk-label label {\n",
       "  font-family: monospace;\n",
       "  font-weight: bold;\n",
       "  display: inline-block;\n",
       "  line-height: 1.2em;\n",
       "}\n",
       "\n",
       "#sk-container-id-2 div.sk-label-container {\n",
       "  text-align: center;\n",
       "}\n",
       "\n",
       "/* Estimator-specific */\n",
       "#sk-container-id-2 div.sk-estimator {\n",
       "  font-family: monospace;\n",
       "  border: 1px dotted var(--sklearn-color-border-box);\n",
       "  border-radius: 0.25em;\n",
       "  box-sizing: border-box;\n",
       "  margin-bottom: 0.5em;\n",
       "  /* unfitted */\n",
       "  background-color: var(--sklearn-color-unfitted-level-0);\n",
       "}\n",
       "\n",
       "#sk-container-id-2 div.sk-estimator.fitted {\n",
       "  /* fitted */\n",
       "  background-color: var(--sklearn-color-fitted-level-0);\n",
       "}\n",
       "\n",
       "/* on hover */\n",
       "#sk-container-id-2 div.sk-estimator:hover {\n",
       "  /* unfitted */\n",
       "  background-color: var(--sklearn-color-unfitted-level-2);\n",
       "}\n",
       "\n",
       "#sk-container-id-2 div.sk-estimator.fitted:hover {\n",
       "  /* fitted */\n",
       "  background-color: var(--sklearn-color-fitted-level-2);\n",
       "}\n",
       "\n",
       "/* Specification for estimator info (e.g. \"i\" and \"?\") */\n",
       "\n",
       "/* Common style for \"i\" and \"?\" */\n",
       "\n",
       ".sk-estimator-doc-link,\n",
       "a:link.sk-estimator-doc-link,\n",
       "a:visited.sk-estimator-doc-link {\n",
       "  float: right;\n",
       "  font-size: smaller;\n",
       "  line-height: 1em;\n",
       "  font-family: monospace;\n",
       "  background-color: var(--sklearn-color-background);\n",
       "  border-radius: 1em;\n",
       "  height: 1em;\n",
       "  width: 1em;\n",
       "  text-decoration: none !important;\n",
       "  margin-left: 1ex;\n",
       "  /* unfitted */\n",
       "  border: var(--sklearn-color-unfitted-level-1) 1pt solid;\n",
       "  color: var(--sklearn-color-unfitted-level-1);\n",
       "}\n",
       "\n",
       ".sk-estimator-doc-link.fitted,\n",
       "a:link.sk-estimator-doc-link.fitted,\n",
       "a:visited.sk-estimator-doc-link.fitted {\n",
       "  /* fitted */\n",
       "  border: var(--sklearn-color-fitted-level-1) 1pt solid;\n",
       "  color: var(--sklearn-color-fitted-level-1);\n",
       "}\n",
       "\n",
       "/* On hover */\n",
       "div.sk-estimator:hover .sk-estimator-doc-link:hover,\n",
       ".sk-estimator-doc-link:hover,\n",
       "div.sk-label-container:hover .sk-estimator-doc-link:hover,\n",
       ".sk-estimator-doc-link:hover {\n",
       "  /* unfitted */\n",
       "  background-color: var(--sklearn-color-unfitted-level-3);\n",
       "  color: var(--sklearn-color-background);\n",
       "  text-decoration: none;\n",
       "}\n",
       "\n",
       "div.sk-estimator.fitted:hover .sk-estimator-doc-link.fitted:hover,\n",
       ".sk-estimator-doc-link.fitted:hover,\n",
       "div.sk-label-container:hover .sk-estimator-doc-link.fitted:hover,\n",
       ".sk-estimator-doc-link.fitted:hover {\n",
       "  /* fitted */\n",
       "  background-color: var(--sklearn-color-fitted-level-3);\n",
       "  color: var(--sklearn-color-background);\n",
       "  text-decoration: none;\n",
       "}\n",
       "\n",
       "/* Span, style for the box shown on hovering the info icon */\n",
       ".sk-estimator-doc-link span {\n",
       "  display: none;\n",
       "  z-index: 9999;\n",
       "  position: relative;\n",
       "  font-weight: normal;\n",
       "  right: .2ex;\n",
       "  padding: .5ex;\n",
       "  margin: .5ex;\n",
       "  width: min-content;\n",
       "  min-width: 20ex;\n",
       "  max-width: 50ex;\n",
       "  color: var(--sklearn-color-text);\n",
       "  box-shadow: 2pt 2pt 4pt #999;\n",
       "  /* unfitted */\n",
       "  background: var(--sklearn-color-unfitted-level-0);\n",
       "  border: .5pt solid var(--sklearn-color-unfitted-level-3);\n",
       "}\n",
       "\n",
       ".sk-estimator-doc-link.fitted span {\n",
       "  /* fitted */\n",
       "  background: var(--sklearn-color-fitted-level-0);\n",
       "  border: var(--sklearn-color-fitted-level-3);\n",
       "}\n",
       "\n",
       ".sk-estimator-doc-link:hover span {\n",
       "  display: block;\n",
       "}\n",
       "\n",
       "/* \"?\"-specific style due to the `<a>` HTML tag */\n",
       "\n",
       "#sk-container-id-2 a.estimator_doc_link {\n",
       "  float: right;\n",
       "  font-size: 1rem;\n",
       "  line-height: 1em;\n",
       "  font-family: monospace;\n",
       "  background-color: var(--sklearn-color-background);\n",
       "  border-radius: 1rem;\n",
       "  height: 1rem;\n",
       "  width: 1rem;\n",
       "  text-decoration: none;\n",
       "  /* unfitted */\n",
       "  color: var(--sklearn-color-unfitted-level-1);\n",
       "  border: var(--sklearn-color-unfitted-level-1) 1pt solid;\n",
       "}\n",
       "\n",
       "#sk-container-id-2 a.estimator_doc_link.fitted {\n",
       "  /* fitted */\n",
       "  border: var(--sklearn-color-fitted-level-1) 1pt solid;\n",
       "  color: var(--sklearn-color-fitted-level-1);\n",
       "}\n",
       "\n",
       "/* On hover */\n",
       "#sk-container-id-2 a.estimator_doc_link:hover {\n",
       "  /* unfitted */\n",
       "  background-color: var(--sklearn-color-unfitted-level-3);\n",
       "  color: var(--sklearn-color-background);\n",
       "  text-decoration: none;\n",
       "}\n",
       "\n",
       "#sk-container-id-2 a.estimator_doc_link.fitted:hover {\n",
       "  /* fitted */\n",
       "  background-color: var(--sklearn-color-fitted-level-3);\n",
       "}\n",
       "</style><div id=\"sk-container-id-2\" class=\"sk-top-container\"><div class=\"sk-text-repr-fallback\"><pre>ColumnTransformer(remainder=&#x27;passthrough&#x27;,\n",
       "                  transformers=[(&#x27;num&#x27;, StandardScaler(),\n",
       "                                 [&#x27;moonphase&#x27;, &#x27;temp&#x27;, &#x27;dewPt&#x27;, &#x27;heat_index&#x27;,\n",
       "                                  &#x27;rh&#x27;, &#x27;pressure&#x27;, &#x27;vis&#x27;, &#x27;wc&#x27;, &#x27;feels_like&#x27;,\n",
       "                                  &#x27;uv_index&#x27;, &#x27;Vviento&#x27;, &#x27;PeriodoOlas&#x27;,\n",
       "                                  &#x27;Lluvia&#x27;, &#x27;Nubosidad&#x27;])])</pre><b>In a Jupyter environment, please rerun this cell to show the HTML representation or trust the notebook. <br />On GitHub, the HTML representation is unable to render, please try loading this page with nbviewer.org.</b></div><div class=\"sk-container\" hidden><div class=\"sk-item sk-dashed-wrapped\"><div class=\"sk-label-container\"><div class=\"sk-label fitted sk-toggleable\"><input class=\"sk-toggleable__control sk-hidden--visually\" id=\"sk-estimator-id-2\" type=\"checkbox\" ><label for=\"sk-estimator-id-2\" class=\"sk-toggleable__label fitted sk-toggleable__label-arrow fitted\">&nbsp;&nbsp;ColumnTransformer<a class=\"sk-estimator-doc-link fitted\" rel=\"noreferrer\" target=\"_blank\" href=\"https://scikit-learn.org/1.4/modules/generated/sklearn.compose.ColumnTransformer.html\">?<span>Documentation for ColumnTransformer</span></a><span class=\"sk-estimator-doc-link fitted\">i<span>Fitted</span></span></label><div class=\"sk-toggleable__content fitted\"><pre>ColumnTransformer(remainder=&#x27;passthrough&#x27;,\n",
       "                  transformers=[(&#x27;num&#x27;, StandardScaler(),\n",
       "                                 [&#x27;moonphase&#x27;, &#x27;temp&#x27;, &#x27;dewPt&#x27;, &#x27;heat_index&#x27;,\n",
       "                                  &#x27;rh&#x27;, &#x27;pressure&#x27;, &#x27;vis&#x27;, &#x27;wc&#x27;, &#x27;feels_like&#x27;,\n",
       "                                  &#x27;uv_index&#x27;, &#x27;Vviento&#x27;, &#x27;PeriodoOlas&#x27;,\n",
       "                                  &#x27;Lluvia&#x27;, &#x27;Nubosidad&#x27;])])</pre></div> </div></div><div class=\"sk-parallel\"><div class=\"sk-parallel-item\"><div class=\"sk-item\"><div class=\"sk-label-container\"><div class=\"sk-label fitted sk-toggleable\"><input class=\"sk-toggleable__control sk-hidden--visually\" id=\"sk-estimator-id-3\" type=\"checkbox\" ><label for=\"sk-estimator-id-3\" class=\"sk-toggleable__label fitted sk-toggleable__label-arrow fitted\">num</label><div class=\"sk-toggleable__content fitted\"><pre>[&#x27;moonphase&#x27;, &#x27;temp&#x27;, &#x27;dewPt&#x27;, &#x27;heat_index&#x27;, &#x27;rh&#x27;, &#x27;pressure&#x27;, &#x27;vis&#x27;, &#x27;wc&#x27;, &#x27;feels_like&#x27;, &#x27;uv_index&#x27;, &#x27;Vviento&#x27;, &#x27;PeriodoOlas&#x27;, &#x27;Lluvia&#x27;, &#x27;Nubosidad&#x27;]</pre></div> </div></div><div class=\"sk-serial\"><div class=\"sk-item\"><div class=\"sk-estimator fitted sk-toggleable\"><input class=\"sk-toggleable__control sk-hidden--visually\" id=\"sk-estimator-id-4\" type=\"checkbox\" ><label for=\"sk-estimator-id-4\" class=\"sk-toggleable__label fitted sk-toggleable__label-arrow fitted\">&nbsp;StandardScaler<a class=\"sk-estimator-doc-link fitted\" rel=\"noreferrer\" target=\"_blank\" href=\"https://scikit-learn.org/1.4/modules/generated/sklearn.preprocessing.StandardScaler.html\">?<span>Documentation for StandardScaler</span></a></label><div class=\"sk-toggleable__content fitted\"><pre>StandardScaler()</pre></div> </div></div></div></div></div><div class=\"sk-parallel-item\"><div class=\"sk-item\"><div class=\"sk-label-container\"><div class=\"sk-label fitted sk-toggleable\"><input class=\"sk-toggleable__control sk-hidden--visually\" id=\"sk-estimator-id-5\" type=\"checkbox\" ><label for=\"sk-estimator-id-5\" class=\"sk-toggleable__label fitted sk-toggleable__label-arrow fitted\">remainder</label><div class=\"sk-toggleable__content fitted\"><pre>[&#x27;wdir_E&#x27;, &#x27;wdir_ENE&#x27;, &#x27;wdir_ESE&#x27;, &#x27;wdir_N&#x27;, &#x27;wdir_NE&#x27;, &#x27;wdir_NNE&#x27;, &#x27;wdir_NNW&#x27;, &#x27;wdir_NW&#x27;, &#x27;wdir_S&#x27;, &#x27;wdir_SE&#x27;, &#x27;wdir_SSE&#x27;, &#x27;wdir_SSW&#x27;, &#x27;wdir_SW&#x27;, &#x27;wdir_VAR&#x27;, &#x27;wdir_W&#x27;, &#x27;wdir_WNW&#x27;, &#x27;wdir_WSW&#x27;]</pre></div> </div></div><div class=\"sk-serial\"><div class=\"sk-item\"><div class=\"sk-estimator fitted sk-toggleable\"><input class=\"sk-toggleable__control sk-hidden--visually\" id=\"sk-estimator-id-6\" type=\"checkbox\" ><label for=\"sk-estimator-id-6\" class=\"sk-toggleable__label fitted sk-toggleable__label-arrow fitted\">passthrough</label><div class=\"sk-toggleable__content fitted\"><pre>passthrough</pre></div> </div></div></div></div></div></div></div></div></div>"
      ]
     },
     "execution_count": 10,
     "metadata": {},
     "output_type": "execute_result"
    }
   ],
   "execution_count": 10
  },
  {
   "cell_type": "code",
   "id": "92ada6bb-3a10-410d-99d0-ac29fda59f35",
   "metadata": {
    "ExecuteTime": {
     "end_time": "2024-05-08T02:51:22.172972Z",
     "start_time": "2024-05-08T02:51:22.167499Z"
    }
   },
   "source": [
    "len(y)"
   ],
   "outputs": [
    {
     "data": {
      "text/plain": [
       "4428"
      ]
     },
     "execution_count": 11,
     "metadata": {},
     "output_type": "execute_result"
    }
   ],
   "execution_count": 11
  },
  {
   "cell_type": "code",
   "id": "1bfb7954-9839-436d-a51e-d11e39fcf9d7",
   "metadata": {
    "ExecuteTime": {
     "end_time": "2024-05-08T02:51:22.886275Z",
     "start_time": "2024-05-08T02:51:22.881186Z"
    }
   },
   "source": [
    "filtro_observaciones_reales = ~y.isna()\n",
    "filtro_observaciones_reales.sum()"
   ],
   "outputs": [
    {
     "data": {
      "text/plain": [
       "1011"
      ]
     },
     "execution_count": 12,
     "metadata": {},
     "output_type": "execute_result"
    }
   ],
   "execution_count": 12
  },
  {
   "cell_type": "markdown",
   "id": "b98f1bca-fd2e-4016-bb4d-f67b39d2aae8",
   "metadata": {},
   "source": [
    "Para medir el éxito de las predicciones necesitamos esperar hasta que el suceso se haya dado y comparar. Es decir, para comprobar cómo de buena ha sido nuestra predicción de las olas a las 14h necesitamos que pasen las 14h, recoger la altura real y compararlo con nuestra predicción.\n",
    "\n",
    "Es por eso que nuestra columna y (AlturaOlas) tiene muchos NaNs, pues se tratan de observaciones que son futuras al momento actual.\n",
    "\n",
    "Para hacer el análisis únicamente podemos usar datos que ya han sido confirmados. En un futuro cuando las predicciones tengan un valor real con el cual compararse, obtendremos un mayor espacio de predicciones con el cual medir el rendimiento del modelo."
   ]
  },
  {
   "cell_type": "code",
   "id": "b19b1672-f11e-420b-887b-fac6aa7344b7",
   "metadata": {
    "ExecuteTime": {
     "end_time": "2024-05-08T02:52:01.777380Z",
     "start_time": "2024-05-08T02:52:01.773265Z"
    }
   },
   "source": [
    "X_obs_reales = X[filtro_observaciones_reales]\n",
    "y_obs_reales = y[filtro_observaciones_reales]\n",
    "antelacion_obs_reales = antelaciones[filtro_observaciones_reales]"
   ],
   "outputs": [],
   "execution_count": 14
  },
  {
   "cell_type": "code",
   "id": "b86f826635068381",
   "metadata": {
    "ExecuteTime": {
     "end_time": "2024-05-08T02:52:02.299778Z",
     "start_time": "2024-05-08T02:52:02.273071Z"
    }
   },
   "source": [
    "# predicciones = model.predict(X)\n",
    "predicciones_obs_reales = model.predict(scaler.transform(X_obs_reales))"
   ],
   "outputs": [],
   "execution_count": 15
  },
  {
   "cell_type": "code",
   "id": "d9f9100540b0bdbd",
   "metadata": {
    "ExecuteTime": {
     "end_time": "2024-05-08T02:52:02.919765Z",
     "start_time": "2024-05-08T02:52:02.912227Z"
    }
   },
   "source": [
    "# calcular_metricas(y, predicciones)\n",
    "calcular_metricas(y_obs_reales, predicciones_obs_reales)"
   ],
   "outputs": [
    {
     "data": {
      "text/plain": [
       "{'TEST_MAX_ERROR': 0.6023284875710251,\n",
       " 'TEST_ROOT_MEAN_SQ_ERROR': 0.16658823290958938,\n",
       " 'TEST_MEDIAN_ABS_ERROR': 0.10911256791853846,\n",
       " 'TEST_MEAN_ABS_ERROR': 0.1319627613510081}"
      ]
     },
     "execution_count": 16,
     "metadata": {},
     "output_type": "execute_result"
    }
   ],
   "execution_count": 16
  },
  {
   "cell_type": "code",
   "id": "55b4c8bc5d89f7b6",
   "metadata": {
    "ExecuteTime": {
     "end_time": "2024-05-08T02:52:18.174910Z",
     "start_time": "2024-05-08T02:52:17.907699Z"
    }
   },
   "source": [
    "plt.scatter(y_obs_reales, predicciones_obs_reales)\n",
    "plt.xticks([i/10 for i in range(0,16)])\n",
    "plt.yticks([i/10 for i in range(0,16)])\n",
    "plt.axline([0,0], [1.5, 1.5], color='0')\n",
    "plt.title('Altura de las olas: PREDICTED vs TRUE')\n",
    "\n",
    "plt.ylabel('PREDICTED (metros)')\n",
    "plt.xlabel('TRUE (metros)')"
   ],
   "outputs": [
    {
     "data": {
      "text/plain": [
       "Text(0.5, 0, 'TRUE (metros)')"
      ]
     },
     "execution_count": 17,
     "metadata": {},
     "output_type": "execute_result"
    },
    {
     "data": {
      "text/plain": [
       "<Figure size 640x480 with 1 Axes>"
      ],
      "image/png": "[encoded data removed]"
     },
     "metadata": {},
     "output_type": "display_data"
    }
   ],
   "execution_count": 17
  },
  {
   "cell_type": "markdown",
   "id": "c0bb17f11dfdd245",
   "metadata": {},
   "source": [
    "#### Ahora pasaríamos a analizar el error en función de la antelación de la predicción"
   ]
  },
  {
   "cell_type": "code",
   "id": "51644f53-7b45-4482-88d1-23ff7ecc871a",
   "metadata": {
    "ExecuteTime": {
     "end_time": "2024-05-08T02:53:31.721196Z",
     "start_time": "2024-05-08T02:53:31.718115Z"
    }
   },
   "source": [
    "def rmse(y, predicciones):\n",
    "    return np.sqrt(((y-predicciones)**2).sum())"
   ],
   "outputs": [],
   "execution_count": 21
  },
  {
   "cell_type": "code",
   "id": "99df4ec6-9c8d-4c10-a6a6-54556a49355c",
   "metadata": {
    "ExecuteTime": {
     "end_time": "2024-05-08T02:53:32.270180Z",
     "start_time": "2024-05-08T02:53:32.265351Z"
    }
   },
   "source": [
    "rmse(y_obs_reales[antelacion_obs_reales == 25], predicciones_obs_reales[antelacion_obs_reales == 25])"
   ],
   "outputs": [
    {
     "data": {
      "text/plain": [
       "0.738352618786684"
      ]
     },
     "execution_count": 22,
     "metadata": {},
     "output_type": "execute_result"
    }
   ],
   "execution_count": 22
  },
  {
   "cell_type": "code",
   "id": "32cab8f6-72cc-4fd1-afbf-7b9f8eee801b",
   "metadata": {
    "ExecuteTime": {
     "end_time": "2024-05-08T02:53:35.131403Z",
     "start_time": "2024-05-08T02:53:35.128110Z"
    }
   },
   "source": [
    "antelaciones_ordenadas = np.sort(antelacion_obs_reales.unique())\n",
    "\n",
    "antelaciones_ordenadas = antelaciones_ordenadas.astype(int)"
   ],
   "outputs": [],
   "execution_count": 23
  },
  {
   "cell_type": "code",
   "id": "d567a338-15ff-4cd6-9e51-18ebea96bba0",
   "metadata": {
    "ExecuteTime": {
     "end_time": "2024-05-08T02:53:39.433156Z",
     "start_time": "2024-05-08T02:53:39.425226Z"
    }
   },
   "source": [
    "df_evaluacion = pd.DataFrame(columns = [\"antelacion\",\"RMSE\", \"num_preds\"])\n",
    "# df_evaluacion.loc[len(df_evaluacion)] = [4, 'D']\n",
    "df_evaluacion"
   ],
   "outputs": [
    {
     "data": {
      "text/plain": [
       "Empty DataFrame\n",
       "Columns: [antelacion, RMSE, num_preds]\n",
       "Index: []"
      ],
      "text/html": [
       "<div>\n",
       "<style scoped>\n",
       "    .dataframe tbody tr th:only-of-type {\n",
       "        vertical-align: middle;\n",
       "    }\n",
       "\n",
       "    .dataframe tbody tr th {\n",
       "        vertical-align: top;\n",
       "    }\n",
       "\n",
       "    .dataframe thead th {\n",
       "        text-align: right;\n",
       "    }\n",
       "</style>\n",
       "<table border=\"1\" class=\"dataframe\">\n",
       "  <thead>\n",
       "    <tr style=\"text-align: right;\">\n",
       "      <th></th>\n",
       "      <th>antelacion</th>\n",
       "      <th>RMSE</th>\n",
       "      <th>num_preds</th>\n",
       "    </tr>\n",
       "  </thead>\n",
       "  <tbody>\n",
       "  </tbody>\n",
       "</table>\n",
       "</div>"
      ]
     },
     "execution_count": 24,
     "metadata": {},
     "output_type": "execute_result"
    }
   ],
   "execution_count": 24
  },
  {
   "cell_type": "code",
   "id": "27bd11f7-305a-4da0-8522-48f38b15c910",
   "metadata": {
    "ExecuteTime": {
     "end_time": "2024-05-08T02:53:56.751390Z",
     "start_time": "2024-05-08T02:53:56.670640Z"
    }
   },
   "source": [
    "import matplotlib.pyplot as plt\n",
    "\n",
    "for i in antelaciones_ordenadas:\n",
    "    df_evaluacion.loc[len(df_evaluacion)] = [i, rmse(y_obs_reales[antelacion_obs_reales == i], predicciones_obs_reales[antelacion_obs_reales == i]), len(antelacion_obs_reales == i)]"
   ],
   "outputs": [],
   "execution_count": 25
  },
  {
   "cell_type": "code",
   "id": "b4678e90-77af-4426-bb8f-31010090550e",
   "metadata": {
    "ExecuteTime": {
     "end_time": "2024-05-08T02:53:59.207985Z",
     "start_time": "2024-05-08T02:53:59.205022Z"
    }
   },
   "source": [
    "df_evaluacion.antelacion = df_evaluacion.antelacion.astype(int)"
   ],
   "outputs": [],
   "execution_count": 26
  },
  {
   "cell_type": "code",
   "id": "e82c9de5-845c-4044-9430-d75a7301778f",
   "metadata": {
    "ExecuteTime": {
     "end_time": "2024-05-08T02:54:02.174619Z",
     "start_time": "2024-05-08T02:54:02.170670Z"
    }
   },
   "source": [
    "df_evaluacion.num_preds = df_evaluacion.num_preds.astype(int)"
   ],
   "outputs": [],
   "execution_count": 27
  },
  {
   "cell_type": "code",
   "id": "cf40e513-ccfb-4ae0-8d7e-6ed1851c653a",
   "metadata": {
    "ExecuteTime": {
     "end_time": "2024-05-08T02:55:36.218516Z",
     "start_time": "2024-05-08T02:55:35.802349Z"
    }
   },
   "source": [
    "df_evaluacion.plot(kind = \"bar\", x = \"antelacion\", y = \"RMSE\", title = \"Evolución del RMSE dependiendo de la antelación\");\n",
    "plt.xticks([i for i in range(0,df_evaluacion.antelacion.max() + 1, 3)])"
   ],
   "outputs": [
    {
     "data": {
      "text/plain": [
       "([<matplotlib.axis.XTick at 0x1393b7dd0>,\n",
       "  <matplotlib.axis.XTick at 0x13942e850>,\n",
       "  <matplotlib.axis.XTick at 0x139472690>,\n",
       "  <matplotlib.axis.XTick at 0x1394efd50>,\n",
       "  <matplotlib.axis.XTick at 0x1394fdf50>,\n",
       "  <matplotlib.axis.XTick at 0x1394ad7d0>,\n",
       "  <matplotlib.axis.XTick at 0x139501550>,\n",
       "  <matplotlib.axis.XTick at 0x139503610>,\n",
       "  <matplotlib.axis.XTick at 0x139511990>,\n",
       "  <matplotlib.axis.XTick at 0x139453410>,\n",
       "  <matplotlib.axis.XTick at 0x139516690>,\n",
       "  <matplotlib.axis.XTick at 0x139500e90>,\n",
       "  <matplotlib.axis.XTick at 0x13951ced0>,\n",
       "  <matplotlib.axis.XTick at 0x13951f010>,\n",
       "  <matplotlib.axis.XTick at 0x1395211d0>,\n",
       "  <matplotlib.axis.XTick at 0x1395232d0>,\n",
       "  <matplotlib.axis.XTick at 0x13942ab90>,\n",
       "  <matplotlib.axis.XTick at 0x139525950>,\n",
       "  <matplotlib.axis.XTick at 0x139527a10>,\n",
       "  <matplotlib.axis.XTick at 0x139531c10>,\n",
       "  <matplotlib.axis.XTick at 0x139533c50>],\n",
       " [Text(0, 0, '0'),\n",
       "  Text(3, 0, '3'),\n",
       "  Text(6, 0, '6'),\n",
       "  Text(9, 0, '9'),\n",
       "  Text(12, 0, '12'),\n",
       "  Text(15, 0, '15'),\n",
       "  Text(18, 0, '18'),\n",
       "  Text(21, 0, '21'),\n",
       "  Text(24, 0, '24'),\n",
       "  Text(27, 0, '27'),\n",
       "  Text(30, 0, '30'),\n",
       "  Text(33, 0, '33'),\n",
       "  Text(36, 0, '36'),\n",
       "  Text(39, 0, '39'),\n",
       "  Text(42, 0, '42'),\n",
       "  Text(45, 0, '45'),\n",
       "  Text(48, 0, '48'),\n",
       "  Text(51, 0, '51'),\n",
       "  Text(54, 0, '54'),\n",
       "  Text(57, 0, '57'),\n",
       "  Text(60, 0, '60')])"
      ]
     },
     "execution_count": 31,
     "metadata": {},
     "output_type": "execute_result"
    },
    {
     "data": {
      "text/plain": [
       "<Figure size 640x480 with 1 Axes>"
      ],
      "image/png": "[encoded data removed]"
     },
     "metadata": {},
     "output_type": "display_data"
    }
   ],
   "execution_count": 31
  },
  {
   "cell_type": "markdown",
   "id": "83735e1b-3fda-4679-b10e-55c069a887c8",
   "metadata": {},
   "source": [
    "Comparación del rendimiento usando datos reales vs predicciones\n",
    "-"
   ]
  },
  {
   "cell_type": "code",
   "id": "4f97d96f-73de-452b-9e6e-bfa7d6583224",
   "metadata": {
    "ExecuteTime": {
     "end_time": "2024-05-08T02:58:31.309249Z",
     "start_time": "2024-05-08T02:58:31.263281Z"
    }
   },
   "source": [
    "df_2024 = pd.read_parquet(\"../clean/df_2024.parquet\")\n",
    "\n",
    "df_forecast = pd.read_csv('../clean/forecast_merged.csv')"
   ],
   "outputs": [],
   "execution_count": 35
  },
  {
   "cell_type": "code",
   "id": "f89f7446-60bb-4ec8-a00b-2eec5b4c04e8",
   "metadata": {
    "ExecuteTime": {
     "end_time": "2024-05-08T02:58:58.135979Z",
     "start_time": "2024-05-08T02:58:58.132538Z"
    }
   },
   "source": [
    "y = df_forecast['AlturaOlas']"
   ],
   "outputs": [],
   "execution_count": 37
  },
  {
   "cell_type": "code",
   "id": "35928d66-33d9-4a24-9859-04681fb35261",
   "metadata": {
    "ExecuteTime": {
     "end_time": "2024-05-08T02:58:58.533699Z",
     "start_time": "2024-05-08T02:58:58.529539Z"
    }
   },
   "source": [
    "filtro_observaciones_reales = ~y.isna() #Predicciones que ya tienen una confirmacion real\n",
    "filtro_observaciones_reales.sum()"
   ],
   "outputs": [
    {
     "data": {
      "text/plain": [
       "1011"
      ]
     },
     "execution_count": 38,
     "metadata": {},
     "output_type": "execute_result"
    }
   ],
   "execution_count": 38
  },
  {
   "metadata": {},
   "cell_type": "markdown",
   "source": "Nos quedamos con las fechas únicas que tienen confirmación real",
   "id": "8a68d815a70936a2"
  },
  {
   "metadata": {
    "ExecuteTime": {
     "end_time": "2024-05-08T03:05:15.623132Z",
     "start_time": "2024-05-08T03:05:15.616664Z"
    }
   },
   "cell_type": "code",
   "source": [
    "fechas = df_forecast[filtro_observaciones_reales][['anio', 'mes', 'dia', 'hora']].drop_duplicates()\n",
    "fechas.shape"
   ],
   "id": "9cd60ea1cda72942",
   "outputs": [
    {
     "data": {
      "text/plain": [
       "(118, 4)"
      ]
     },
     "execution_count": 49,
     "metadata": {},
     "output_type": "execute_result"
    }
   ],
   "execution_count": 49
  },
  {
   "metadata": {},
   "cell_type": "markdown",
   "source": "Hacemos el inner join con esto para quedarnos solo con filas que estan en ambas tablas",
   "id": "cdb0e0095a39d58c"
  },
  {
   "cell_type": "code",
   "id": "da90f280-f48f-4af0-9db6-3bfa2dc3c26f",
   "metadata": {
    "ExecuteTime": {
     "end_time": "2024-05-08T03:05:59.370006Z",
     "start_time": "2024-05-08T03:05:59.362083Z"
    }
   },
   "source": [
    "#Seleccionamos únicamente los datos reales que coinciden con las predicciones. \n",
    "# Como los datos reales acaban un poco antes que las predicciones no hace falta acotar por encima\n",
    "X_obs_reales = df_2024.merge(fechas, on=['anio', 'mes', 'dia', 'hora'])\n",
    "X_obs_reales.shape"
   ],
   "outputs": [
    {
     "data": {
      "text/plain": [
       "(68, 38)"
      ]
     },
     "execution_count": 51,
     "metadata": {},
     "output_type": "execute_result"
    }
   ],
   "execution_count": 51
  },
  {
   "cell_type": "code",
   "id": "83c7509c-3fe7-4696-86c6-1c51da113465",
   "metadata": {
    "ExecuteTime": {
     "end_time": "2024-05-08T03:06:53.850895Z",
     "start_time": "2024-05-08T03:06:53.847449Z"
    }
   },
   "source": [
    "#Construimos un df para predecir con los datos reales, y guardamos el valor real de la altura de la ola.\n",
    "X_obs_reales_limpio = X_obs_reales.drop(columns=['anio', 'mes', 'dia', 'hora', 'Temperatura', 'wspd', 'AlturaOlas']) \n",
    "y_reales = X_obs_reales[\"AlturaOlas\"]"
   ],
   "outputs": [],
   "execution_count": 56
  },
  {
   "cell_type": "code",
   "id": "68e1ae80-3823-46dc-b4fc-b3304a5f4461",
   "metadata": {
    "ExecuteTime": {
     "end_time": "2024-05-08T03:06:54.588122Z",
     "start_time": "2024-05-08T03:06:54.584468Z"
    }
   },
   "source": [
    "X_obs_reales_limpio.columns"
   ],
   "outputs": [
    {
     "data": {
      "text/plain": [
       "Index(['moonphase', 'temp', 'dewPt', 'heat_index', 'rh', 'pressure', 'vis',\n",
       "       'wc', 'feels_like', 'uv_index', 'wdir_E', 'wdir_ENE', 'wdir_ESE',\n",
       "       'wdir_N', 'wdir_NE', 'wdir_NNE', 'wdir_NNW', 'wdir_NW', 'wdir_S',\n",
       "       'wdir_SE', 'wdir_SSE', 'wdir_SSW', 'wdir_SW', 'wdir_VAR', 'wdir_W',\n",
       "       'wdir_WNW', 'wdir_WSW', 'Vviento', 'PeriodoOlas', 'Lluvia',\n",
       "       'Nubosidad'],\n",
       "      dtype='object')"
      ]
     },
     "execution_count": 57,
     "metadata": {},
     "output_type": "execute_result"
    }
   ],
   "execution_count": 57
  },
  {
   "cell_type": "code",
   "id": "915136ba-2c78-488f-9fc2-e984bdbab8e0",
   "metadata": {
    "ExecuteTime": {
     "end_time": "2024-05-08T03:06:55.738311Z",
     "start_time": "2024-05-08T03:06:55.719455Z"
    }
   },
   "source": [
    "# predecimos con los datos reales escalando los datos\n",
    "predicciones_usando_datos_reales = model.predict(scaler.transform(X_obs_reales_limpio))"
   ],
   "outputs": [],
   "execution_count": 58
  },
  {
   "cell_type": "code",
   "id": "ae184740-c0a9-4f3f-9738-20fdf406deae",
   "metadata": {
    "ExecuteTime": {
     "end_time": "2024-05-08T03:06:57.541134Z",
     "start_time": "2024-05-08T03:06:57.534753Z"
    }
   },
   "source": [
    "calcular_metricas(y_reales, predicciones_usando_datos_reales)"
   ],
   "outputs": [
    {
     "data": {
      "text/plain": [
       "{'TEST_MAX_ERROR': 0.4768470024999871,\n",
       " 'TEST_ROOT_MEAN_SQ_ERROR': 0.19601692888137937,\n",
       " 'TEST_MEDIAN_ABS_ERROR': 0.11210633686379906,\n",
       " 'TEST_MEAN_ABS_ERROR': 0.15201346613399613}"
      ]
     },
     "execution_count": 59,
     "metadata": {},
     "output_type": "execute_result"
    }
   ],
   "execution_count": 59
  },
  {
   "cell_type": "code",
   "id": "fcdbc3f3-39ac-4d09-a930-c726ffa7f3e1",
   "metadata": {
    "ExecuteTime": {
     "end_time": "2024-05-08T03:08:30.701381Z",
     "start_time": "2024-05-08T03:08:30.690838Z"
    }
   },
   "source": [
    "df_forecast_fechas_iguales = df_forecast.merge(X_obs_reales[['anio', 'mes', 'dia', 'hora']], on=['anio', 'mes', 'dia', 'hora'])\n",
    "# vemos el numero de filas para ver si coincide de fechas (descartamos duplicados de antelacion)\n",
    "df_forecast_fechas_iguales.drop_duplicates(['anio', 'mes', 'dia', 'hora']).shape"
   ],
   "outputs": [
    {
     "data": {
      "text/plain": [
       "(68, 37)"
      ]
     },
     "execution_count": 66,
     "metadata": {},
     "output_type": "execute_result"
    }
   ],
   "execution_count": 66
  },
  {
   "cell_type": "code",
   "id": "10984ba5-be45-4d41-bd0f-ce8a1e6bc5de",
   "metadata": {
    "ExecuteTime": {
     "end_time": "2024-05-08T03:08:31.010132Z",
     "start_time": "2024-05-08T03:08:31.004946Z"
    }
   },
   "source": [
    "y_forecast = df_forecast_fechas_iguales[\"AlturaOlas\"]\n",
    "df_forecast_fechas_iguales = df_forecast_fechas_iguales.drop(columns=['AlturaOlas', 'anio', 'mes', 'dia', 'hora'])"
   ],
   "outputs": [],
   "execution_count": 67
  },
  {
   "cell_type": "code",
   "id": "7920dc51-f45e-4f76-9b1a-bb4bcafd470f",
   "metadata": {
    "ExecuteTime": {
     "end_time": "2024-05-08T03:09:16.533237Z",
     "start_time": "2024-05-08T03:09:16.513394Z"
    }
   },
   "source": [
    "predicciones_forecast = model.predict(scaler.transform(df_forecast_fechas_iguales))"
   ],
   "outputs": [],
   "execution_count": 70
  },
  {
   "cell_type": "code",
   "id": "f7a5a889-3251-49b7-a4c3-21fff4c768ed",
   "metadata": {
    "ExecuteTime": {
     "end_time": "2024-05-08T03:09:16.604089Z",
     "start_time": "2024-05-08T03:09:16.598319Z"
    }
   },
   "source": [
    "calcular_metricas(y_forecast, predicciones_forecast)"
   ],
   "outputs": [
    {
     "data": {
      "text/plain": [
       "{'TEST_MAX_ERROR': 0.5742213977288604,\n",
       " 'TEST_ROOT_MEAN_SQ_ERROR': 0.15671852379490175,\n",
       " 'TEST_MEDIAN_ABS_ERROR': 0.09663322926382639,\n",
       " 'TEST_MEAN_ABS_ERROR': 0.12290703631349999}"
      ]
     },
     "execution_count": 71,
     "metadata": {},
     "output_type": "execute_result"
    }
   ],
   "execution_count": 71
  },
  {
   "cell_type": "code",
   "id": "8de3d077-41ed-46ee-a763-9c2fc1f87f23",
   "metadata": {
    "ExecuteTime": {
     "end_time": "2024-05-08T03:09:16.722599Z",
     "start_time": "2024-05-08T03:09:16.716037Z"
    }
   },
   "source": [
    "#Volvemos a copiar la celda\n",
    "calcular_metricas(y_reales, predicciones_usando_datos_reales)"
   ],
   "outputs": [
    {
     "data": {
      "text/plain": [
       "{'TEST_MAX_ERROR': 0.4768470024999871,\n",
       " 'TEST_ROOT_MEAN_SQ_ERROR': 0.19601692888137937,\n",
       " 'TEST_MEDIAN_ABS_ERROR': 0.11210633686379906,\n",
       " 'TEST_MEAN_ABS_ERROR': 0.15201346613399613}"
      ]
     },
     "execution_count": 72,
     "metadata": {},
     "output_type": "execute_result"
    }
   ],
   "execution_count": 72
  },
  {
   "metadata": {
    "ExecuteTime": {
     "end_time": "2024-05-08T03:10:33.817035Z",
     "start_time": "2024-05-08T03:10:33.804886Z"
    }
   },
   "cell_type": "code",
   "source": [
    "df_results = pd.DataFrame([calcular_metricas(y_reales, predicciones_usando_datos_reales), calcular_metricas(y_forecast, predicciones_forecast)])\n",
    "df_results['DATOS'] = ['OBS', 'FORECAST']\n",
    "df_results"
   ],
   "id": "c1620782c0cb2f4",
   "outputs": [
    {
     "data": {
      "text/plain": [
       "   TEST_MAX_ERROR  TEST_ROOT_MEAN_SQ_ERROR  TEST_MEDIAN_ABS_ERROR  \\\n",
       "0        0.476847                 0.196017               0.112106   \n",
       "1        0.574221                 0.156719               0.096633   \n",
       "\n",
       "   TEST_MEAN_ABS_ERROR     DATOS  \n",
       "0             0.152013       OBS  \n",
       "1             0.122907  FORECAST  "
      ],
      "text/html": [
       "<div>\n",
       "<style scoped>\n",
       "    .dataframe tbody tr th:only-of-type {\n",
       "        vertical-align: middle;\n",
       "    }\n",
       "\n",
       "    .dataframe tbody tr th {\n",
       "        vertical-align: top;\n",
       "    }\n",
       "\n",
       "    .dataframe thead th {\n",
       "        text-align: right;\n",
       "    }\n",
       "</style>\n",
       "<table border=\"1\" class=\"dataframe\">\n",
       "  <thead>\n",
       "    <tr style=\"text-align: right;\">\n",
       "      <th></th>\n",
       "      <th>TEST_MAX_ERROR</th>\n",
       "      <th>TEST_ROOT_MEAN_SQ_ERROR</th>\n",
       "      <th>TEST_MEDIAN_ABS_ERROR</th>\n",
       "      <th>TEST_MEAN_ABS_ERROR</th>\n",
       "      <th>DATOS</th>\n",
       "    </tr>\n",
       "  </thead>\n",
       "  <tbody>\n",
       "    <tr>\n",
       "      <th>0</th>\n",
       "      <td>0.476847</td>\n",
       "      <td>0.196017</td>\n",
       "      <td>0.112106</td>\n",
       "      <td>0.152013</td>\n",
       "      <td>OBS</td>\n",
       "    </tr>\n",
       "    <tr>\n",
       "      <th>1</th>\n",
       "      <td>0.574221</td>\n",
       "      <td>0.156719</td>\n",
       "      <td>0.096633</td>\n",
       "      <td>0.122907</td>\n",
       "      <td>FORECAST</td>\n",
       "    </tr>\n",
       "  </tbody>\n",
       "</table>\n",
       "</div>"
      ]
     },
     "execution_count": 75,
     "metadata": {},
     "output_type": "execute_result"
    }
   ],
   "execution_count": 75
  },
  {
   "cell_type": "markdown",
   "id": "64e6f490-d2b3-4f1d-b0e1-e43b6a045ff3",
   "metadata": {},
   "source": [
    "Comprobamos que el modelo tiene mejores métricas si predecimos sobre datos reales en vez de predicciones, aunque podemos ver que el error añadido de las predicciones explicativas no es muy elevado, únicamente afecta en décimas a una métrica. La métrica más afectada es TEST_MAX_ERROR, puesto que el resto de métricas dan mejores resultados incluso usando predicciones sobre las variables explicativas.\n",
    "\n",
    "NOTA: Para comparar estos datos hemos usado las mismas observaciones temporales, pero en un caso con datos de predicciones y en el otro caso con datos reales."
   ]
  }
 ],
 "metadata": {
  "kernelspec": {
   "display_name": "Python 3 (ipykernel)",
   "language": "python",
   "name": "python3"
  },
  "language_info": {
   "codemirror_mode": {
    "name": "ipython",
    "version": 3
   },
   "file_extension": ".py",
   "mimetype": "text/x-python",
   "name": "python",
   "nbconvert_exporter": "python",
   "pygments_lexer": "ipython3",
   "version": "3.12.0"
  }
 },
 "nbformat": 4,
 "nbformat_minor": 5
}
