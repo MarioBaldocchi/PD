{
 "cells": [
  {
   "cell_type": "code",
   "execution_count": 2,
   "id": "752babdb-f93d-4116-af16-ea6c1b35c994",
   "metadata": {
    "ExecuteTime": {
     "end_time": "2024-05-06T10:04:16.462556Z",
     "start_time": "2024-05-06T10:04:16.459360Z"
    }
   },
   "outputs": [],
   "source": [
    "import sys\n",
    "sys.path.append(\"../\") "
   ]
  },
  {
   "cell_type": "code",
   "execution_count": 3,
   "id": "63c1d515-ba58-4919-be25-7bf362834ddf",
   "metadata": {
    "ExecuteTime": {
     "end_time": "2024-05-06T10:04:16.386926Z",
     "start_time": "2024-05-06T10:04:16.383913Z"
    }
   },
   "outputs": [],
   "source": [
    "import pandas as pd\n",
    "import pickle\n",
    "from sklearn.model_selection import train_test_split\n",
    "from sklearn.metrics import max_error, mean_squared_error, median_absolute_error, mean_absolute_error\n",
    "from sklearn.compose import ColumnTransformer\n",
    "from sklearn.preprocessing import StandardScaler\n",
    "from modelos import *"
   ]
  },
  {
   "cell_type": "code",
   "execution_count": 4,
   "id": "cde6e05f-6230-4dc9-b8df-aea6d7c93c16",
   "metadata": {
    "ExecuteTime": {
     "end_time": "2024-05-06T10:04:16.554355Z",
     "start_time": "2024-05-06T10:04:16.550707Z"
    }
   },
   "outputs": [],
   "source": [
    "def calcular_metricas(y_true, y_predict):\n",
    "    return {\n",
    "        \"MAX_ERROR\": max_error(y_true, y_predict),\n",
    "        \"MEAN_SQ_ERROR\": mean_squared_error(y_true, y_predict),\n",
    "        \"MEDIAN_ABS_ERROR\": median_absolute_error(y_true, y_predict),\n",
    "        \"MEAN_ABS_ERROR\": mean_absolute_error(y_true, y_predict),\n",
    "    }"
   ]
  },
  {
   "cell_type": "code",
   "execution_count": 5,
   "id": "a73fc1e4-7ed0-43d7-8fd0-d381eff6fedc",
   "metadata": {
    "ExecuteTime": {
     "end_time": "2024-05-06T10:04:16.685637Z",
     "start_time": "2024-05-06T10:04:16.678764Z"
    }
   },
   "outputs": [],
   "source": [
    "def heuristica(Vviento):\n",
    "    \"\"\"Definimos la heurística basada en la Escala de Beaufort\"\"\"\n",
    "    if Vviento < 3:\n",
    "        return 0.4\n",
    "    elif Vviento < 7:\n",
    "        return 0.6\n",
    "    elif Vviento < 12:\n",
    "        return 1\n",
    "    elif Vviento < 20:\n",
    "        return 1.5\n",
    "    elif Vviento < 26:\n",
    "        return 2\n",
    "    elif Vviento < 36:\n",
    "        return 2.5\n",
    "    elif Vviento < 46:\n",
    "        return 3.2\n",
    "    elif Vviento < 56:\n",
    "        return 4.2\n",
    "    elif Vviento < 66:\n",
    "        return 5.4\n",
    "    elif Vviento < 76:\n",
    "        return 6.5\n",
    "    elif Vviento < 88:\n",
    "        return 8\n",
    "    elif Vviento < 101:\n",
    "        return 10\n",
    "    elif Vviento >= 101:\n",
    "        return 12"
   ]
  },
  {
   "cell_type": "markdown",
   "id": "e45ee55a-57ba-403b-85e6-e23331daced9",
   "metadata": {},
   "source": [
    "## Datos nuevos"
   ]
  },
  {
   "cell_type": "markdown",
   "id": "5b4cf40e-33ac-4fd3-b959-f9ab6b3900cf",
   "metadata": {},
   "source": [
    "Cargamos los datos que hemos capturado hasta ahora"
   ]
  },
  {
   "cell_type": "code",
   "execution_count": 6,
   "id": "131f8aa0-a092-435f-a741-b818bc3354ca",
   "metadata": {
    "ExecuteTime": {
     "end_time": "2024-05-06T10:04:17.331795Z",
     "start_time": "2024-05-06T10:04:17.321153Z"
    }
   },
   "outputs": [],
   "source": [
    "data = pd.read_csv(\"./clean/forecast_merged.csv\")\n",
    "data = data.dropna() #Quitamos todas aquellas filas que tengan algun na"
   ]
  },
  {
   "cell_type": "code",
   "execution_count": 7,
   "id": "ac95f00e-be91-4d81-ae06-b93602be2445",
   "metadata": {
    "ExecuteTime": {
     "end_time": "2024-05-06T10:04:17.504185Z",
     "start_time": "2024-05-06T10:04:17.498427Z"
    }
   },
   "outputs": [],
   "source": [
    "X = data.drop(columns = \"AlturaOlas\")\n",
    "X = X.drop(columns=[\"antelacion\", 'anio', 'mes', 'dia', 'hora'])\n",
    "y = data[\"AlturaOlas\"]"
   ]
  },
  {
   "cell_type": "markdown",
   "id": "814ce3bb-288a-43e3-9df1-322887d588e4",
   "metadata": {},
   "source": [
    "Obtenemos la escala que hemos utilizado para entrenar el modelo"
   ]
  },
  {
   "cell_type": "code",
   "execution_count": 8,
   "id": "fd752be3-5029-450f-a118-32144f1644ae",
   "metadata": {
    "ExecuteTime": {
     "end_time": "2024-05-06T10:04:17.674761Z",
     "start_time": "2024-05-06T10:04:17.658606Z"
    }
   },
   "outputs": [],
   "source": [
    "X_model = X.copy()\n",
    "scaler = get_scaler()\n",
    "X_model = scaler.transform(X_model)"
   ]
  },
  {
   "cell_type": "markdown",
   "id": "382a065a-8bdf-4da2-9c46-e4cd4529119e",
   "metadata": {},
   "source": [
    "Cargamos el modelo para poder comparar con la heuristica"
   ]
  },
  {
   "cell_type": "code",
   "execution_count": 9,
   "id": "ee499274-b998-4883-a4cc-43022521e764",
   "metadata": {
    "ExecuteTime": {
     "end_time": "2024-05-06T10:04:19.956646Z",
     "start_time": "2024-05-06T10:04:19.892436Z"
    }
   },
   "outputs": [
    {
     "data": {
      "text/html": [
       "<style>#sk-container-id-1 {\n",
       "  /* Definition of color scheme common for light and dark mode */\n",
       "  --sklearn-color-text: black;\n",
       "  --sklearn-color-line: gray;\n",
       "  /* Definition of color scheme for unfitted estimators */\n",
       "  --sklearn-color-unfitted-level-0: #fff5e6;\n",
       "  --sklearn-color-unfitted-level-1: #f6e4d2;\n",
       "  --sklearn-color-unfitted-level-2: #ffe0b3;\n",
       "  --sklearn-color-unfitted-level-3: chocolate;\n",
       "  /* Definition of color scheme for fitted estimators */\n",
       "  --sklearn-color-fitted-level-0: #f0f8ff;\n",
       "  --sklearn-color-fitted-level-1: #d4ebff;\n",
       "  --sklearn-color-fitted-level-2: #b3dbfd;\n",
       "  --sklearn-color-fitted-level-3: cornflowerblue;\n",
       "\n",
       "  /* Specific color for light theme */\n",
       "  --sklearn-color-text-on-default-background: var(--sg-text-color, var(--theme-code-foreground, var(--jp-content-font-color1, black)));\n",
       "  --sklearn-color-background: var(--sg-background-color, var(--theme-background, var(--jp-layout-color0, white)));\n",
       "  --sklearn-color-border-box: var(--sg-text-color, var(--theme-code-foreground, var(--jp-content-font-color1, black)));\n",
       "  --sklearn-color-icon: #696969;\n",
       "\n",
       "  @media (prefers-color-scheme: dark) {\n",
       "    /* Redefinition of color scheme for dark theme */\n",
       "    --sklearn-color-text-on-default-background: var(--sg-text-color, var(--theme-code-foreground, var(--jp-content-font-color1, white)));\n",
       "    --sklearn-color-background: var(--sg-background-color, var(--theme-background, var(--jp-layout-color0, #111)));\n",
       "    --sklearn-color-border-box: var(--sg-text-color, var(--theme-code-foreground, var(--jp-content-font-color1, white)));\n",
       "    --sklearn-color-icon: #878787;\n",
       "  }\n",
       "}\n",
       "\n",
       "#sk-container-id-1 {\n",
       "  color: var(--sklearn-color-text);\n",
       "}\n",
       "\n",
       "#sk-container-id-1 pre {\n",
       "  padding: 0;\n",
       "}\n",
       "\n",
       "#sk-container-id-1 input.sk-hidden--visually {\n",
       "  border: 0;\n",
       "  clip: rect(1px 1px 1px 1px);\n",
       "  clip: rect(1px, 1px, 1px, 1px);\n",
       "  height: 1px;\n",
       "  margin: -1px;\n",
       "  overflow: hidden;\n",
       "  padding: 0;\n",
       "  position: absolute;\n",
       "  width: 1px;\n",
       "}\n",
       "\n",
       "#sk-container-id-1 div.sk-dashed-wrapped {\n",
       "  border: 1px dashed var(--sklearn-color-line);\n",
       "  margin: 0 0.4em 0.5em 0.4em;\n",
       "  box-sizing: border-box;\n",
       "  padding-bottom: 0.4em;\n",
       "  background-color: var(--sklearn-color-background);\n",
       "}\n",
       "\n",
       "#sk-container-id-1 div.sk-container {\n",
       "  /* jupyter's `normalize.less` sets `[hidden] { display: none; }`\n",
       "     but bootstrap.min.css set `[hidden] { display: none !important; }`\n",
       "     so we also need the `!important` here to be able to override the\n",
       "     default hidden behavior on the sphinx rendered scikit-learn.org.\n",
       "     See: https://github.com/scikit-learn/scikit-learn/issues/21755 */\n",
       "  display: inline-block !important;\n",
       "  position: relative;\n",
       "}\n",
       "\n",
       "#sk-container-id-1 div.sk-text-repr-fallback {\n",
       "  display: none;\n",
       "}\n",
       "\n",
       "div.sk-parallel-item,\n",
       "div.sk-serial,\n",
       "div.sk-item {\n",
       "  /* draw centered vertical line to link estimators */\n",
       "  background-image: linear-gradient(var(--sklearn-color-text-on-default-background), var(--sklearn-color-text-on-default-background));\n",
       "  background-size: 2px 100%;\n",
       "  background-repeat: no-repeat;\n",
       "  background-position: center center;\n",
       "}\n",
       "\n",
       "/* Parallel-specific style estimator block */\n",
       "\n",
       "#sk-container-id-1 div.sk-parallel-item::after {\n",
       "  content: \"\";\n",
       "  width: 100%;\n",
       "  border-bottom: 2px solid var(--sklearn-color-text-on-default-background);\n",
       "  flex-grow: 1;\n",
       "}\n",
       "\n",
       "#sk-container-id-1 div.sk-parallel {\n",
       "  display: flex;\n",
       "  align-items: stretch;\n",
       "  justify-content: center;\n",
       "  background-color: var(--sklearn-color-background);\n",
       "  position: relative;\n",
       "}\n",
       "\n",
       "#sk-container-id-1 div.sk-parallel-item {\n",
       "  display: flex;\n",
       "  flex-direction: column;\n",
       "}\n",
       "\n",
       "#sk-container-id-1 div.sk-parallel-item:first-child::after {\n",
       "  align-self: flex-end;\n",
       "  width: 50%;\n",
       "}\n",
       "\n",
       "#sk-container-id-1 div.sk-parallel-item:last-child::after {\n",
       "  align-self: flex-start;\n",
       "  width: 50%;\n",
       "}\n",
       "\n",
       "#sk-container-id-1 div.sk-parallel-item:only-child::after {\n",
       "  width: 0;\n",
       "}\n",
       "\n",
       "/* Serial-specific style estimator block */\n",
       "\n",
       "#sk-container-id-1 div.sk-serial {\n",
       "  display: flex;\n",
       "  flex-direction: column;\n",
       "  align-items: center;\n",
       "  background-color: var(--sklearn-color-background);\n",
       "  padding-right: 1em;\n",
       "  padding-left: 1em;\n",
       "}\n",
       "\n",
       "\n",
       "/* Toggleable style: style used for estimator/Pipeline/ColumnTransformer box that is\n",
       "clickable and can be expanded/collapsed.\n",
       "- Pipeline and ColumnTransformer use this feature and define the default style\n",
       "- Estimators will overwrite some part of the style using the `sk-estimator` class\n",
       "*/\n",
       "\n",
       "/* Pipeline and ColumnTransformer style (default) */\n",
       "\n",
       "#sk-container-id-1 div.sk-toggleable {\n",
       "  /* Default theme specific background. It is overwritten whether we have a\n",
       "  specific estimator or a Pipeline/ColumnTransformer */\n",
       "  background-color: var(--sklearn-color-background);\n",
       "}\n",
       "\n",
       "/* Toggleable label */\n",
       "#sk-container-id-1 label.sk-toggleable__label {\n",
       "  cursor: pointer;\n",
       "  display: block;\n",
       "  width: 100%;\n",
       "  margin-bottom: 0;\n",
       "  padding: 0.5em;\n",
       "  box-sizing: border-box;\n",
       "  text-align: center;\n",
       "}\n",
       "\n",
       "#sk-container-id-1 label.sk-toggleable__label-arrow:before {\n",
       "  /* Arrow on the left of the label */\n",
       "  content: \"▸\";\n",
       "  float: left;\n",
       "  margin-right: 0.25em;\n",
       "  color: var(--sklearn-color-icon);\n",
       "}\n",
       "\n",
       "#sk-container-id-1 label.sk-toggleable__label-arrow:hover:before {\n",
       "  color: var(--sklearn-color-text);\n",
       "}\n",
       "\n",
       "/* Toggleable content - dropdown */\n",
       "\n",
       "#sk-container-id-1 div.sk-toggleable__content {\n",
       "  max-height: 0;\n",
       "  max-width: 0;\n",
       "  overflow: hidden;\n",
       "  text-align: left;\n",
       "  /* unfitted */\n",
       "  background-color: var(--sklearn-color-unfitted-level-0);\n",
       "}\n",
       "\n",
       "#sk-container-id-1 div.sk-toggleable__content.fitted {\n",
       "  /* fitted */\n",
       "  background-color: var(--sklearn-color-fitted-level-0);\n",
       "}\n",
       "\n",
       "#sk-container-id-1 div.sk-toggleable__content pre {\n",
       "  margin: 0.2em;\n",
       "  border-radius: 0.25em;\n",
       "  color: var(--sklearn-color-text);\n",
       "  /* unfitted */\n",
       "  background-color: var(--sklearn-color-unfitted-level-0);\n",
       "}\n",
       "\n",
       "#sk-container-id-1 div.sk-toggleable__content.fitted pre {\n",
       "  /* unfitted */\n",
       "  background-color: var(--sklearn-color-fitted-level-0);\n",
       "}\n",
       "\n",
       "#sk-container-id-1 input.sk-toggleable__control:checked~div.sk-toggleable__content {\n",
       "  /* Expand drop-down */\n",
       "  max-height: 200px;\n",
       "  max-width: 100%;\n",
       "  overflow: auto;\n",
       "}\n",
       "\n",
       "#sk-container-id-1 input.sk-toggleable__control:checked~label.sk-toggleable__label-arrow:before {\n",
       "  content: \"▾\";\n",
       "}\n",
       "\n",
       "/* Pipeline/ColumnTransformer-specific style */\n",
       "\n",
       "#sk-container-id-1 div.sk-label input.sk-toggleable__control:checked~label.sk-toggleable__label {\n",
       "  color: var(--sklearn-color-text);\n",
       "  background-color: var(--sklearn-color-unfitted-level-2);\n",
       "}\n",
       "\n",
       "#sk-container-id-1 div.sk-label.fitted input.sk-toggleable__control:checked~label.sk-toggleable__label {\n",
       "  background-color: var(--sklearn-color-fitted-level-2);\n",
       "}\n",
       "\n",
       "/* Estimator-specific style */\n",
       "\n",
       "/* Colorize estimator box */\n",
       "#sk-container-id-1 div.sk-estimator input.sk-toggleable__control:checked~label.sk-toggleable__label {\n",
       "  /* unfitted */\n",
       "  background-color: var(--sklearn-color-unfitted-level-2);\n",
       "}\n",
       "\n",
       "#sk-container-id-1 div.sk-estimator.fitted input.sk-toggleable__control:checked~label.sk-toggleable__label {\n",
       "  /* fitted */\n",
       "  background-color: var(--sklearn-color-fitted-level-2);\n",
       "}\n",
       "\n",
       "#sk-container-id-1 div.sk-label label.sk-toggleable__label,\n",
       "#sk-container-id-1 div.sk-label label {\n",
       "  /* The background is the default theme color */\n",
       "  color: var(--sklearn-color-text-on-default-background);\n",
       "}\n",
       "\n",
       "/* On hover, darken the color of the background */\n",
       "#sk-container-id-1 div.sk-label:hover label.sk-toggleable__label {\n",
       "  color: var(--sklearn-color-text);\n",
       "  background-color: var(--sklearn-color-unfitted-level-2);\n",
       "}\n",
       "\n",
       "/* Label box, darken color on hover, fitted */\n",
       "#sk-container-id-1 div.sk-label.fitted:hover label.sk-toggleable__label.fitted {\n",
       "  color: var(--sklearn-color-text);\n",
       "  background-color: var(--sklearn-color-fitted-level-2);\n",
       "}\n",
       "\n",
       "/* Estimator label */\n",
       "\n",
       "#sk-container-id-1 div.sk-label label {\n",
       "  font-family: monospace;\n",
       "  font-weight: bold;\n",
       "  display: inline-block;\n",
       "  line-height: 1.2em;\n",
       "}\n",
       "\n",
       "#sk-container-id-1 div.sk-label-container {\n",
       "  text-align: center;\n",
       "}\n",
       "\n",
       "/* Estimator-specific */\n",
       "#sk-container-id-1 div.sk-estimator {\n",
       "  font-family: monospace;\n",
       "  border: 1px dotted var(--sklearn-color-border-box);\n",
       "  border-radius: 0.25em;\n",
       "  box-sizing: border-box;\n",
       "  margin-bottom: 0.5em;\n",
       "  /* unfitted */\n",
       "  background-color: var(--sklearn-color-unfitted-level-0);\n",
       "}\n",
       "\n",
       "#sk-container-id-1 div.sk-estimator.fitted {\n",
       "  /* fitted */\n",
       "  background-color: var(--sklearn-color-fitted-level-0);\n",
       "}\n",
       "\n",
       "/* on hover */\n",
       "#sk-container-id-1 div.sk-estimator:hover {\n",
       "  /* unfitted */\n",
       "  background-color: var(--sklearn-color-unfitted-level-2);\n",
       "}\n",
       "\n",
       "#sk-container-id-1 div.sk-estimator.fitted:hover {\n",
       "  /* fitted */\n",
       "  background-color: var(--sklearn-color-fitted-level-2);\n",
       "}\n",
       "\n",
       "/* Specification for estimator info (e.g. \"i\" and \"?\") */\n",
       "\n",
       "/* Common style for \"i\" and \"?\" */\n",
       "\n",
       ".sk-estimator-doc-link,\n",
       "a:link.sk-estimator-doc-link,\n",
       "a:visited.sk-estimator-doc-link {\n",
       "  float: right;\n",
       "  font-size: smaller;\n",
       "  line-height: 1em;\n",
       "  font-family: monospace;\n",
       "  background-color: var(--sklearn-color-background);\n",
       "  border-radius: 1em;\n",
       "  height: 1em;\n",
       "  width: 1em;\n",
       "  text-decoration: none !important;\n",
       "  margin-left: 1ex;\n",
       "  /* unfitted */\n",
       "  border: var(--sklearn-color-unfitted-level-1) 1pt solid;\n",
       "  color: var(--sklearn-color-unfitted-level-1);\n",
       "}\n",
       "\n",
       ".sk-estimator-doc-link.fitted,\n",
       "a:link.sk-estimator-doc-link.fitted,\n",
       "a:visited.sk-estimator-doc-link.fitted {\n",
       "  /* fitted */\n",
       "  border: var(--sklearn-color-fitted-level-1) 1pt solid;\n",
       "  color: var(--sklearn-color-fitted-level-1);\n",
       "}\n",
       "\n",
       "/* On hover */\n",
       "div.sk-estimator:hover .sk-estimator-doc-link:hover,\n",
       ".sk-estimator-doc-link:hover,\n",
       "div.sk-label-container:hover .sk-estimator-doc-link:hover,\n",
       ".sk-estimator-doc-link:hover {\n",
       "  /* unfitted */\n",
       "  background-color: var(--sklearn-color-unfitted-level-3);\n",
       "  color: var(--sklearn-color-background);\n",
       "  text-decoration: none;\n",
       "}\n",
       "\n",
       "div.sk-estimator.fitted:hover .sk-estimator-doc-link.fitted:hover,\n",
       ".sk-estimator-doc-link.fitted:hover,\n",
       "div.sk-label-container:hover .sk-estimator-doc-link.fitted:hover,\n",
       ".sk-estimator-doc-link.fitted:hover {\n",
       "  /* fitted */\n",
       "  background-color: var(--sklearn-color-fitted-level-3);\n",
       "  color: var(--sklearn-color-background);\n",
       "  text-decoration: none;\n",
       "}\n",
       "\n",
       "/* Span, style for the box shown on hovering the info icon */\n",
       ".sk-estimator-doc-link span {\n",
       "  display: none;\n",
       "  z-index: 9999;\n",
       "  position: relative;\n",
       "  font-weight: normal;\n",
       "  right: .2ex;\n",
       "  padding: .5ex;\n",
       "  margin: .5ex;\n",
       "  width: min-content;\n",
       "  min-width: 20ex;\n",
       "  max-width: 50ex;\n",
       "  color: var(--sklearn-color-text);\n",
       "  box-shadow: 2pt 2pt 4pt #999;\n",
       "  /* unfitted */\n",
       "  background: var(--sklearn-color-unfitted-level-0);\n",
       "  border: .5pt solid var(--sklearn-color-unfitted-level-3);\n",
       "}\n",
       "\n",
       ".sk-estimator-doc-link.fitted span {\n",
       "  /* fitted */\n",
       "  background: var(--sklearn-color-fitted-level-0);\n",
       "  border: var(--sklearn-color-fitted-level-3);\n",
       "}\n",
       "\n",
       ".sk-estimator-doc-link:hover span {\n",
       "  display: block;\n",
       "}\n",
       "\n",
       "/* \"?\"-specific style due to the `<a>` HTML tag */\n",
       "\n",
       "#sk-container-id-1 a.estimator_doc_link {\n",
       "  float: right;\n",
       "  font-size: 1rem;\n",
       "  line-height: 1em;\n",
       "  font-family: monospace;\n",
       "  background-color: var(--sklearn-color-background);\n",
       "  border-radius: 1rem;\n",
       "  height: 1rem;\n",
       "  width: 1rem;\n",
       "  text-decoration: none;\n",
       "  /* unfitted */\n",
       "  color: var(--sklearn-color-unfitted-level-1);\n",
       "  border: var(--sklearn-color-unfitted-level-1) 1pt solid;\n",
       "}\n",
       "\n",
       "#sk-container-id-1 a.estimator_doc_link.fitted {\n",
       "  /* fitted */\n",
       "  border: var(--sklearn-color-fitted-level-1) 1pt solid;\n",
       "  color: var(--sklearn-color-fitted-level-1);\n",
       "}\n",
       "\n",
       "/* On hover */\n",
       "#sk-container-id-1 a.estimator_doc_link:hover {\n",
       "  /* unfitted */\n",
       "  background-color: var(--sklearn-color-unfitted-level-3);\n",
       "  color: var(--sklearn-color-background);\n",
       "  text-decoration: none;\n",
       "}\n",
       "\n",
       "#sk-container-id-1 a.estimator_doc_link.fitted:hover {\n",
       "  /* fitted */\n",
       "  background-color: var(--sklearn-color-fitted-level-3);\n",
       "}\n",
       "</style><div id=\"sk-container-id-1\" class=\"sk-top-container\"><div class=\"sk-text-repr-fallback\"><pre>RandomForestRegressor(max_depth=28, min_samples_leaf=4, min_samples_split=4,\n",
       "                      n_estimators=201, random_state=777)</pre><b>In a Jupyter environment, please rerun this cell to show the HTML representation or trust the notebook. <br />On GitHub, the HTML representation is unable to render, please try loading this page with nbviewer.org.</b></div><div class=\"sk-container\" hidden><div class=\"sk-item\"><div class=\"sk-estimator fitted sk-toggleable\"><input class=\"sk-toggleable__control sk-hidden--visually\" id=\"sk-estimator-id-1\" type=\"checkbox\" checked><label for=\"sk-estimator-id-1\" class=\"sk-toggleable__label fitted sk-toggleable__label-arrow fitted\">&nbsp;&nbsp;RandomForestRegressor<a class=\"sk-estimator-doc-link fitted\" rel=\"noreferrer\" target=\"_blank\" href=\"https://scikit-learn.org/1.4/modules/generated/sklearn.ensemble.RandomForestRegressor.html\">?<span>Documentation for RandomForestRegressor</span></a><span class=\"sk-estimator-doc-link fitted\">i<span>Fitted</span></span></label><div class=\"sk-toggleable__content fitted\"><pre>RandomForestRegressor(max_depth=28, min_samples_leaf=4, min_samples_split=4,\n",
       "                      n_estimators=201, random_state=777)</pre></div> </div></div></div></div>"
      ],
      "text/plain": [
       "RandomForestRegressor(max_depth=28, min_samples_leaf=4, min_samples_split=4,\n",
       "                      n_estimators=201, random_state=777)"
      ]
     },
     "execution_count": 9,
     "metadata": {},
     "output_type": "execute_result"
    }
   ],
   "source": [
    "with open(\"../modelos/modelo_definitivo/modelo_rf_def.pkl\", 'rb') as file:\n",
    "    model = pickle.load(file)\n",
    "model"
   ]
  },
  {
   "cell_type": "markdown",
   "id": "a7c8a3d7-ed85-42ab-b6f4-0446e3da43f5",
   "metadata": {},
   "source": [
    "Realizamos las predicciones"
   ]
  },
  {
   "cell_type": "code",
   "execution_count": 10,
   "id": "fa0f91f5-19bc-4e11-9170-aaf644c59e2a",
   "metadata": {
    "ExecuteTime": {
     "end_time": "2024-05-06T10:04:20.478130Z",
     "start_time": "2024-05-06T10:04:20.458025Z"
    }
   },
   "outputs": [
    {
     "name": "stderr",
     "output_type": "stream",
     "text": [
      "C:\\Users\\Mario\\AppData\\Local\\Programs\\Python\\Python310\\lib\\site-packages\\sklearn\\base.py:493: UserWarning: X does not have valid feature names, but RandomForestRegressor was fitted with feature names\n",
      "  warnings.warn(\n"
     ]
    }
   ],
   "source": [
    "predicciones_modelo = model.predict(X_model)\n",
    "predicciones_heuristica = X[\"Vviento\"].apply(heuristica)"
   ]
  },
  {
   "cell_type": "markdown",
   "id": "08c86ed7-cd86-475f-972c-73cea1ae245a",
   "metadata": {},
   "source": [
    "Analizamos los resultados"
   ]
  },
  {
   "cell_type": "code",
   "execution_count": 11,
   "id": "54c2aca5-8070-436d-beb7-2f46a26eb7c4",
   "metadata": {
    "ExecuteTime": {
     "end_time": "2024-05-06T10:04:24.229516Z",
     "start_time": "2024-05-06T10:04:24.218218Z"
    }
   },
   "outputs": [
    {
     "data": {
      "text/plain": [
       "{'MAX_ERROR': 1.1858099030355385,\n",
       " 'MEAN_SQ_ERROR': 1.0113543909042624,\n",
       " 'MEDIAN_ABS_ERROR': 1.0633592835886514,\n",
       " 'MEAN_ABS_ERROR': 0.9831377743656742}"
      ]
     },
     "execution_count": 11,
     "metadata": {},
     "output_type": "execute_result"
    }
   ],
   "source": [
    "calcular_metricas(y, predicciones_modelo)"
   ]
  },
  {
   "cell_type": "code",
   "execution_count": 12,
   "id": "b751268d-c9fc-4b92-ac01-ea657e69b1ab",
   "metadata": {
    "ExecuteTime": {
     "end_time": "2024-05-06T10:04:25.735730Z",
     "start_time": "2024-05-06T10:04:25.728732Z"
    }
   },
   "outputs": [
    {
     "data": {
      "text/plain": [
       "{'MAX_ERROR': 0.6,\n",
       " 'MEAN_SQ_ERROR': 0.0699526066350711,\n",
       " 'MEDIAN_ABS_ERROR': 0.09999999999999998,\n",
       " 'MEAN_ABS_ERROR': 0.19763033175355446}"
      ]
     },
     "execution_count": 12,
     "metadata": {},
     "output_type": "execute_result"
    }
   ],
   "source": [
    "calcular_metricas(y, predicciones_heuristica)"
   ]
  },
  {
   "cell_type": "markdown",
   "id": "d2dfcb22-d627-4387-88c4-6bf66adfc600",
   "metadata": {},
   "source": [
    "Como podemos observar, la heurística funciona mejor que le modelo. Esto se puede deber a los pocos datos nuevos de los que disponemos, por lo que veamos si con los datos anteriores sigue funcionando mejor la heuristica o no"
   ]
  },
  {
   "cell_type": "markdown",
   "id": "8b03ec83-372b-454b-b632-d51364f5c769",
   "metadata": {},
   "source": [
    "## Datos históricos"
   ]
  },
  {
   "cell_type": "code",
   "execution_count": 13,
   "id": "302ed62a-a50b-4a72-931e-75b7bd490adb",
   "metadata": {},
   "outputs": [
    {
     "name": "stderr",
     "output_type": "stream",
     "text": [
      "C:\\Users\\Mario\\AppData\\Local\\Programs\\Python\\Python310\\lib\\site-packages\\sklearn\\base.py:493: UserWarning: X does not have valid feature names, but RandomForestRegressor was fitted with feature names\n",
      "  warnings.warn(\n"
     ]
    }
   ],
   "source": [
    "X, y = datos_full()\n",
    "X = X.drop(columns=[\"Temperatura\", 'wspd', 'anio', 'mes', 'dia', 'hora'])\n",
    "X_model = X.copy()\n",
    "\n",
    "scaler = get_scaler()\n",
    "X_model = scaler.transform(X_model);\n",
    "predicciones_modelo = model.predict(X_model)\n",
    "predicciones_heuristica = X[\"Vviento\"].apply(heuristica)"
   ]
  },
  {
   "cell_type": "code",
   "execution_count": 14,
   "id": "e5de9e0c-1d3d-45da-b822-2a6a34e5969c",
   "metadata": {},
   "outputs": [
    {
     "data": {
      "text/plain": [
       "{'MAX_ERROR': 5.368412524457302,\n",
       " 'MEAN_SQ_ERROR': 0.9746322071373777,\n",
       " 'MEDIAN_ABS_ERROR': 0.8253401407879015,\n",
       " 'MEAN_ABS_ERROR': 0.8309490032976403}"
      ]
     },
     "execution_count": 14,
     "metadata": {},
     "output_type": "execute_result"
    }
   ],
   "source": [
    "calcular_metricas(y, predicciones_modelo)"
   ]
  },
  {
   "cell_type": "code",
   "execution_count": 15,
   "id": "25bbc0dd-7f3b-457a-b114-d8514925805f",
   "metadata": {},
   "outputs": [
    {
     "data": {
      "text/plain": [
       "{'MAX_ERROR': 4.4,\n",
       " 'MEAN_SQ_ERROR': 0.48961046057767366,\n",
       " 'MEDIAN_ABS_ERROR': 0.3999999999999999,\n",
       " 'MEAN_ABS_ERROR': 0.5072209211553473}"
      ]
     },
     "execution_count": 15,
     "metadata": {},
     "output_type": "execute_result"
    }
   ],
   "source": [
    "calcular_metricas(y, predicciones_heuristica)"
   ]
  },
  {
   "cell_type": "markdown",
   "id": "cd0c2581-0226-424e-81ab-40bcd25058ca",
   "metadata": {},
   "source": [
    "Sorprendentemente, la heurística sigue funcionando mejor"
   ]
  }
 ],
 "metadata": {
  "kernelspec": {
   "display_name": "Python 3 (ipykernel)",
   "language": "python",
   "name": "python3"
  },
  "language_info": {
   "codemirror_mode": {
    "name": "ipython",
    "version": 3
   },
   "file_extension": ".py",
   "mimetype": "text/x-python",
   "name": "python",
   "nbconvert_exporter": "python",
   "pygments_lexer": "ipython3",
   "version": "3.10.7"
  }
 },
 "nbformat": 4,
 "nbformat_minor": 5
}
