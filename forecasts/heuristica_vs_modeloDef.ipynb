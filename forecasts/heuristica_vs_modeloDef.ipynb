{
 "cells": [
  {
   "cell_type": "code",
   "id": "63c1d515-ba58-4919-be25-7bf362834ddf",
   "metadata": {
    "ExecuteTime": {
     "end_time": "2024-05-06T10:04:16.386926Z",
     "start_time": "2024-05-06T10:04:16.383913Z"
    }
   },
   "source": [
    "import pandas as pd\n",
    "import pickle\n",
    "from sklearn.model_selection import train_test_split\n",
    "from sklearn.metrics import max_error, mean_squared_error, median_absolute_error, mean_absolute_error\n",
    "from sklearn.compose import ColumnTransformer\n",
    "from sklearn.preprocessing import StandardScaler"
   ],
   "outputs": [],
   "execution_count": 11
  },
  {
   "cell_type": "code",
   "id": "752babdb-f93d-4116-af16-ea6c1b35c994",
   "metadata": {
    "ExecuteTime": {
     "end_time": "2024-05-06T10:04:16.462556Z",
     "start_time": "2024-05-06T10:04:16.459360Z"
    }
   },
   "source": [
    "import sys\n",
    "sys.path.append(\"../../\") "
   ],
   "outputs": [],
   "execution_count": 12
  },
  {
   "cell_type": "code",
   "id": "cde6e05f-6230-4dc9-b8df-aea6d7c93c16",
   "metadata": {
    "ExecuteTime": {
     "end_time": "2024-05-06T10:04:16.554355Z",
     "start_time": "2024-05-06T10:04:16.550707Z"
    }
   },
   "source": [
    "def calcular_metricas(y_true, y_predict):\n",
    "    return {\n",
    "        \"MAX_ERROR\": max_error(y_true, y_predict),\n",
    "        \"MEAN_SQ_ERROR\": mean_squared_error(y_true, y_predict),\n",
    "        \"MEDIAN_ABS_ERROR\": median_absolute_error(y_true, y_predict),\n",
    "        \"MEAN_ABS_ERROR\": mean_absolute_error(y_true, y_predict),\n",
    "    }"
   ],
   "outputs": [],
   "execution_count": 13
  },
  {
   "cell_type": "code",
   "id": "a73fc1e4-7ed0-43d7-8fd0-d381eff6fedc",
   "metadata": {
    "ExecuteTime": {
     "end_time": "2024-05-06T10:04:16.685637Z",
     "start_time": "2024-05-06T10:04:16.678764Z"
    }
   },
   "source": [
    "def heuristica(Vviento):\n",
    "    \"\"\"Definimos la heurística basada en la Escala de Beaufort\"\"\"\n",
    "    if Vviento < 3:\n",
    "        return 0.4\n",
    "    elif Vviento < 7:\n",
    "        return 0.6\n",
    "    elif Vviento < 12:\n",
    "        return 1\n",
    "    elif Vviento < 20:\n",
    "        return 1.5\n",
    "    elif Vviento < 26:\n",
    "        return 2\n",
    "    elif Vviento < 36:\n",
    "        return 2.5\n",
    "    elif Vviento < 46:\n",
    "        return 3.2\n",
    "    elif Vviento < 56:\n",
    "        return 4.2\n",
    "    elif Vviento < 66:\n",
    "        return 5.4\n",
    "    elif Vviento < 76:\n",
    "        return 6.5\n",
    "    elif Vviento < 88:\n",
    "        return 8\n",
    "    elif Vviento < 101:\n",
    "        return 10\n",
    "    elif Vviento >= 101:\n",
    "        return 12"
   ],
   "outputs": [],
   "execution_count": 14
  },
  {
   "cell_type": "markdown",
   "id": "5b4cf40e-33ac-4fd3-b959-f9ab6b3900cf",
   "metadata": {},
   "source": [
    "Cargamos los datos que hemos capturado hasta ahora"
   ]
  },
  {
   "cell_type": "code",
   "id": "131f8aa0-a092-435f-a741-b818bc3354ca",
   "metadata": {
    "ExecuteTime": {
     "end_time": "2024-05-06T10:04:17.331795Z",
     "start_time": "2024-05-06T10:04:17.321153Z"
    }
   },
   "source": [
    "data = pd.read_csv(\"./clean/forecast_merged.csv\")\n",
    "data = data.dropna() #Quitamos todas aquellas filas que tengan algun na"
   ],
   "outputs": [],
   "execution_count": 15
  },
  {
   "cell_type": "code",
   "id": "ac95f00e-be91-4d81-ae06-b93602be2445",
   "metadata": {
    "ExecuteTime": {
     "end_time": "2024-05-06T10:04:17.504185Z",
     "start_time": "2024-05-06T10:04:17.498427Z"
    }
   },
   "source": [
    "X = data.drop(columns = \"AlturaOlas\")\n",
    "X = X.drop(columns=[\"antelacion\", 'anio', 'mes', 'dia', 'hora'])\n",
    "y = data[\"AlturaOlas\"]"
   ],
   "outputs": [],
   "execution_count": 16
  },
  {
   "cell_type": "code",
   "id": "fd752be3-5029-450f-a118-32144f1644ae",
   "metadata": {
    "ExecuteTime": {
     "end_time": "2024-05-06T10:04:17.674761Z",
     "start_time": "2024-05-06T10:04:17.658606Z"
    }
   },
   "source": [
    "\"\"\"X_model = X.copy()\n",
    "scaler = ColumnTransformer(\n",
    "    transformers=[\n",
    "        # no escalonamos las dummy de dirección de viento\n",
    "        (\"num\", StandardScaler(), [c for c in X_model.columns if not c.startswith('wdir_')]),\n",
    "    ],\n",
    "    remainder='passthrough'\n",
    ")\n",
    "scaler.fit(X_model)\"\"\"\n",
    "X_model = scaler.transform(X_model);"
   ],
   "outputs": [],
   "execution_count": 17
  },
  {
   "cell_type": "code",
   "id": "c2f19995-bcc0-47ed-9591-b0f97a656c79",
   "metadata": {
    "ExecuteTime": {
     "end_time": "2024-05-06T10:04:18.122196Z",
     "start_time": "2024-05-06T10:04:18.117699Z"
    }
   },
   "source": [
    "X_model"
   ],
   "outputs": [
    {
     "data": {
      "text/plain": [
       "array([[-0.863959  , -0.46688813,  0.75802001, ...,  0.        ,\n",
       "         1.        ,  0.        ],\n",
       "       [-1.53206623, -0.46688813,  0.80130328, ...,  1.        ,\n",
       "         0.        ,  0.        ],\n",
       "       [-0.863959  , -0.46688813,  0.75802001, ...,  1.        ,\n",
       "         0.        ,  0.        ],\n",
       "       ...,\n",
       "       [ 1.80846993,  0.96422548, -1.36286022, ...,  0.        ,\n",
       "         0.        ,  0.        ],\n",
       "       [ 2.47657716,  1.44126335, -3.52702373, ...,  0.        ,\n",
       "         0.        ,  0.        ],\n",
       "       [ 2.47657716,  0.96422548, -3.52702373, ...,  0.        ,\n",
       "         0.        ,  0.        ]])"
      ]
     },
     "execution_count": 18,
     "metadata": {},
     "output_type": "execute_result"
    }
   ],
   "execution_count": 18
  },
  {
   "cell_type": "markdown",
   "id": "382a065a-8bdf-4da2-9c46-e4cd4529119e",
   "metadata": {},
   "source": [
    "Cargamos el modelo"
   ]
  },
  {
   "cell_type": "code",
   "id": "ee499274-b998-4883-a4cc-43022521e764",
   "metadata": {
    "ExecuteTime": {
     "end_time": "2024-05-06T10:04:19.956646Z",
     "start_time": "2024-05-06T10:04:19.892436Z"
    }
   },
   "source": [
    "with open(\"../modelos/modelo_definitivo/modelo_rf_def.pkl\", 'rb') as file:\n",
    "    model = pickle.load(file)\n",
    "model"
   ],
   "outputs": [
    {
     "name": "stderr",
     "output_type": "stream",
     "text": [
      "/Users/tyomikjan/UNIVERSITY/PD1/PD/venv/lib/python3.11/site-packages/sklearn/base.py:376: InconsistentVersionWarning: Trying to unpickle estimator DecisionTreeRegressor from version 1.4.2 when using version 1.4.1.post1. This might lead to breaking code or invalid results. Use at your own risk. For more info please refer to:\n",
      "https://scikit-learn.org/stable/model_persistence.html#security-maintainability-limitations\n",
      "  warnings.warn(\n",
      "/Users/tyomikjan/UNIVERSITY/PD1/PD/venv/lib/python3.11/site-packages/sklearn/base.py:376: InconsistentVersionWarning: Trying to unpickle estimator RandomForestRegressor from version 1.4.2 when using version 1.4.1.post1. This might lead to breaking code or invalid results. Use at your own risk. For more info please refer to:\n",
      "https://scikit-learn.org/stable/model_persistence.html#security-maintainability-limitations\n",
      "  warnings.warn(\n"
     ]
    },
    {
     "data": {
      "text/plain": [
       "RandomForestRegressor(max_depth=28, min_samples_leaf=4, min_samples_split=4,\n",
       "                      n_estimators=201, random_state=777)"
      ],
      "text/html": [
       "<style>#sk-container-id-2 {\n",
       "  /* Definition of color scheme common for light and dark mode */\n",
       "  --sklearn-color-text: black;\n",
       "  --sklearn-color-line: gray;\n",
       "  /* Definition of color scheme for unfitted estimators */\n",
       "  --sklearn-color-unfitted-level-0: #fff5e6;\n",
       "  --sklearn-color-unfitted-level-1: #f6e4d2;\n",
       "  --sklearn-color-unfitted-level-2: #ffe0b3;\n",
       "  --sklearn-color-unfitted-level-3: chocolate;\n",
       "  /* Definition of color scheme for fitted estimators */\n",
       "  --sklearn-color-fitted-level-0: #f0f8ff;\n",
       "  --sklearn-color-fitted-level-1: #d4ebff;\n",
       "  --sklearn-color-fitted-level-2: #b3dbfd;\n",
       "  --sklearn-color-fitted-level-3: cornflowerblue;\n",
       "\n",
       "  /* Specific color for light theme */\n",
       "  --sklearn-color-text-on-default-background: var(--sg-text-color, var(--theme-code-foreground, var(--jp-content-font-color1, black)));\n",
       "  --sklearn-color-background: var(--sg-background-color, var(--theme-background, var(--jp-layout-color0, white)));\n",
       "  --sklearn-color-border-box: var(--sg-text-color, var(--theme-code-foreground, var(--jp-content-font-color1, black)));\n",
       "  --sklearn-color-icon: #696969;\n",
       "\n",
       "  @media (prefers-color-scheme: dark) {\n",
       "    /* Redefinition of color scheme for dark theme */\n",
       "    --sklearn-color-text-on-default-background: var(--sg-text-color, var(--theme-code-foreground, var(--jp-content-font-color1, white)));\n",
       "    --sklearn-color-background: var(--sg-background-color, var(--theme-background, var(--jp-layout-color0, #111)));\n",
       "    --sklearn-color-border-box: var(--sg-text-color, var(--theme-code-foreground, var(--jp-content-font-color1, white)));\n",
       "    --sklearn-color-icon: #878787;\n",
       "  }\n",
       "}\n",
       "\n",
       "#sk-container-id-2 {\n",
       "  color: var(--sklearn-color-text);\n",
       "}\n",
       "\n",
       "#sk-container-id-2 pre {\n",
       "  padding: 0;\n",
       "}\n",
       "\n",
       "#sk-container-id-2 input.sk-hidden--visually {\n",
       "  border: 0;\n",
       "  clip: rect(1px 1px 1px 1px);\n",
       "  clip: rect(1px, 1px, 1px, 1px);\n",
       "  height: 1px;\n",
       "  margin: -1px;\n",
       "  overflow: hidden;\n",
       "  padding: 0;\n",
       "  position: absolute;\n",
       "  width: 1px;\n",
       "}\n",
       "\n",
       "#sk-container-id-2 div.sk-dashed-wrapped {\n",
       "  border: 1px dashed var(--sklearn-color-line);\n",
       "  margin: 0 0.4em 0.5em 0.4em;\n",
       "  box-sizing: border-box;\n",
       "  padding-bottom: 0.4em;\n",
       "  background-color: var(--sklearn-color-background);\n",
       "}\n",
       "\n",
       "#sk-container-id-2 div.sk-container {\n",
       "  /* jupyter's `normalize.less` sets `[hidden] { display: none; }`\n",
       "     but bootstrap.min.css set `[hidden] { display: none !important; }`\n",
       "     so we also need the `!important` here to be able to override the\n",
       "     default hidden behavior on the sphinx rendered scikit-learn.org.\n",
       "     See: https://github.com/scikit-learn/scikit-learn/issues/21755 */\n",
       "  display: inline-block !important;\n",
       "  position: relative;\n",
       "}\n",
       "\n",
       "#sk-container-id-2 div.sk-text-repr-fallback {\n",
       "  display: none;\n",
       "}\n",
       "\n",
       "div.sk-parallel-item,\n",
       "div.sk-serial,\n",
       "div.sk-item {\n",
       "  /* draw centered vertical line to link estimators */\n",
       "  background-image: linear-gradient(var(--sklearn-color-text-on-default-background), var(--sklearn-color-text-on-default-background));\n",
       "  background-size: 2px 100%;\n",
       "  background-repeat: no-repeat;\n",
       "  background-position: center center;\n",
       "}\n",
       "\n",
       "/* Parallel-specific style estimator block */\n",
       "\n",
       "#sk-container-id-2 div.sk-parallel-item::after {\n",
       "  content: \"\";\n",
       "  width: 100%;\n",
       "  border-bottom: 2px solid var(--sklearn-color-text-on-default-background);\n",
       "  flex-grow: 1;\n",
       "}\n",
       "\n",
       "#sk-container-id-2 div.sk-parallel {\n",
       "  display: flex;\n",
       "  align-items: stretch;\n",
       "  justify-content: center;\n",
       "  background-color: var(--sklearn-color-background);\n",
       "  position: relative;\n",
       "}\n",
       "\n",
       "#sk-container-id-2 div.sk-parallel-item {\n",
       "  display: flex;\n",
       "  flex-direction: column;\n",
       "}\n",
       "\n",
       "#sk-container-id-2 div.sk-parallel-item:first-child::after {\n",
       "  align-self: flex-end;\n",
       "  width: 50%;\n",
       "}\n",
       "\n",
       "#sk-container-id-2 div.sk-parallel-item:last-child::after {\n",
       "  align-self: flex-start;\n",
       "  width: 50%;\n",
       "}\n",
       "\n",
       "#sk-container-id-2 div.sk-parallel-item:only-child::after {\n",
       "  width: 0;\n",
       "}\n",
       "\n",
       "/* Serial-specific style estimator block */\n",
       "\n",
       "#sk-container-id-2 div.sk-serial {\n",
       "  display: flex;\n",
       "  flex-direction: column;\n",
       "  align-items: center;\n",
       "  background-color: var(--sklearn-color-background);\n",
       "  padding-right: 1em;\n",
       "  padding-left: 1em;\n",
       "}\n",
       "\n",
       "\n",
       "/* Toggleable style: style used for estimator/Pipeline/ColumnTransformer box that is\n",
       "clickable and can be expanded/collapsed.\n",
       "- Pipeline and ColumnTransformer use this feature and define the default style\n",
       "- Estimators will overwrite some part of the style using the `sk-estimator` class\n",
       "*/\n",
       "\n",
       "/* Pipeline and ColumnTransformer style (default) */\n",
       "\n",
       "#sk-container-id-2 div.sk-toggleable {\n",
       "  /* Default theme specific background. It is overwritten whether we have a\n",
       "  specific estimator or a Pipeline/ColumnTransformer */\n",
       "  background-color: var(--sklearn-color-background);\n",
       "}\n",
       "\n",
       "/* Toggleable label */\n",
       "#sk-container-id-2 label.sk-toggleable__label {\n",
       "  cursor: pointer;\n",
       "  display: block;\n",
       "  width: 100%;\n",
       "  margin-bottom: 0;\n",
       "  padding: 0.5em;\n",
       "  box-sizing: border-box;\n",
       "  text-align: center;\n",
       "}\n",
       "\n",
       "#sk-container-id-2 label.sk-toggleable__label-arrow:before {\n",
       "  /* Arrow on the left of the label */\n",
       "  content: \"▸\";\n",
       "  float: left;\n",
       "  margin-right: 0.25em;\n",
       "  color: var(--sklearn-color-icon);\n",
       "}\n",
       "\n",
       "#sk-container-id-2 label.sk-toggleable__label-arrow:hover:before {\n",
       "  color: var(--sklearn-color-text);\n",
       "}\n",
       "\n",
       "/* Toggleable content - dropdown */\n",
       "\n",
       "#sk-container-id-2 div.sk-toggleable__content {\n",
       "  max-height: 0;\n",
       "  max-width: 0;\n",
       "  overflow: hidden;\n",
       "  text-align: left;\n",
       "  /* unfitted */\n",
       "  background-color: var(--sklearn-color-unfitted-level-0);\n",
       "}\n",
       "\n",
       "#sk-container-id-2 div.sk-toggleable__content.fitted {\n",
       "  /* fitted */\n",
       "  background-color: var(--sklearn-color-fitted-level-0);\n",
       "}\n",
       "\n",
       "#sk-container-id-2 div.sk-toggleable__content pre {\n",
       "  margin: 0.2em;\n",
       "  border-radius: 0.25em;\n",
       "  color: var(--sklearn-color-text);\n",
       "  /* unfitted */\n",
       "  background-color: var(--sklearn-color-unfitted-level-0);\n",
       "}\n",
       "\n",
       "#sk-container-id-2 div.sk-toggleable__content.fitted pre {\n",
       "  /* unfitted */\n",
       "  background-color: var(--sklearn-color-fitted-level-0);\n",
       "}\n",
       "\n",
       "#sk-container-id-2 input.sk-toggleable__control:checked~div.sk-toggleable__content {\n",
       "  /* Expand drop-down */\n",
       "  max-height: 200px;\n",
       "  max-width: 100%;\n",
       "  overflow: auto;\n",
       "}\n",
       "\n",
       "#sk-container-id-2 input.sk-toggleable__control:checked~label.sk-toggleable__label-arrow:before {\n",
       "  content: \"▾\";\n",
       "}\n",
       "\n",
       "/* Pipeline/ColumnTransformer-specific style */\n",
       "\n",
       "#sk-container-id-2 div.sk-label input.sk-toggleable__control:checked~label.sk-toggleable__label {\n",
       "  color: var(--sklearn-color-text);\n",
       "  background-color: var(--sklearn-color-unfitted-level-2);\n",
       "}\n",
       "\n",
       "#sk-container-id-2 div.sk-label.fitted input.sk-toggleable__control:checked~label.sk-toggleable__label {\n",
       "  background-color: var(--sklearn-color-fitted-level-2);\n",
       "}\n",
       "\n",
       "/* Estimator-specific style */\n",
       "\n",
       "/* Colorize estimator box */\n",
       "#sk-container-id-2 div.sk-estimator input.sk-toggleable__control:checked~label.sk-toggleable__label {\n",
       "  /* unfitted */\n",
       "  background-color: var(--sklearn-color-unfitted-level-2);\n",
       "}\n",
       "\n",
       "#sk-container-id-2 div.sk-estimator.fitted input.sk-toggleable__control:checked~label.sk-toggleable__label {\n",
       "  /* fitted */\n",
       "  background-color: var(--sklearn-color-fitted-level-2);\n",
       "}\n",
       "\n",
       "#sk-container-id-2 div.sk-label label.sk-toggleable__label,\n",
       "#sk-container-id-2 div.sk-label label {\n",
       "  /* The background is the default theme color */\n",
       "  color: var(--sklearn-color-text-on-default-background);\n",
       "}\n",
       "\n",
       "/* On hover, darken the color of the background */\n",
       "#sk-container-id-2 div.sk-label:hover label.sk-toggleable__label {\n",
       "  color: var(--sklearn-color-text);\n",
       "  background-color: var(--sklearn-color-unfitted-level-2);\n",
       "}\n",
       "\n",
       "/* Label box, darken color on hover, fitted */\n",
       "#sk-container-id-2 div.sk-label.fitted:hover label.sk-toggleable__label.fitted {\n",
       "  color: var(--sklearn-color-text);\n",
       "  background-color: var(--sklearn-color-fitted-level-2);\n",
       "}\n",
       "\n",
       "/* Estimator label */\n",
       "\n",
       "#sk-container-id-2 div.sk-label label {\n",
       "  font-family: monospace;\n",
       "  font-weight: bold;\n",
       "  display: inline-block;\n",
       "  line-height: 1.2em;\n",
       "}\n",
       "\n",
       "#sk-container-id-2 div.sk-label-container {\n",
       "  text-align: center;\n",
       "}\n",
       "\n",
       "/* Estimator-specific */\n",
       "#sk-container-id-2 div.sk-estimator {\n",
       "  font-family: monospace;\n",
       "  border: 1px dotted var(--sklearn-color-border-box);\n",
       "  border-radius: 0.25em;\n",
       "  box-sizing: border-box;\n",
       "  margin-bottom: 0.5em;\n",
       "  /* unfitted */\n",
       "  background-color: var(--sklearn-color-unfitted-level-0);\n",
       "}\n",
       "\n",
       "#sk-container-id-2 div.sk-estimator.fitted {\n",
       "  /* fitted */\n",
       "  background-color: var(--sklearn-color-fitted-level-0);\n",
       "}\n",
       "\n",
       "/* on hover */\n",
       "#sk-container-id-2 div.sk-estimator:hover {\n",
       "  /* unfitted */\n",
       "  background-color: var(--sklearn-color-unfitted-level-2);\n",
       "}\n",
       "\n",
       "#sk-container-id-2 div.sk-estimator.fitted:hover {\n",
       "  /* fitted */\n",
       "  background-color: var(--sklearn-color-fitted-level-2);\n",
       "}\n",
       "\n",
       "/* Specification for estimator info (e.g. \"i\" and \"?\") */\n",
       "\n",
       "/* Common style for \"i\" and \"?\" */\n",
       "\n",
       ".sk-estimator-doc-link,\n",
       "a:link.sk-estimator-doc-link,\n",
       "a:visited.sk-estimator-doc-link {\n",
       "  float: right;\n",
       "  font-size: smaller;\n",
       "  line-height: 1em;\n",
       "  font-family: monospace;\n",
       "  background-color: var(--sklearn-color-background);\n",
       "  border-radius: 1em;\n",
       "  height: 1em;\n",
       "  width: 1em;\n",
       "  text-decoration: none !important;\n",
       "  margin-left: 1ex;\n",
       "  /* unfitted */\n",
       "  border: var(--sklearn-color-unfitted-level-1) 1pt solid;\n",
       "  color: var(--sklearn-color-unfitted-level-1);\n",
       "}\n",
       "\n",
       ".sk-estimator-doc-link.fitted,\n",
       "a:link.sk-estimator-doc-link.fitted,\n",
       "a:visited.sk-estimator-doc-link.fitted {\n",
       "  /* fitted */\n",
       "  border: var(--sklearn-color-fitted-level-1) 1pt solid;\n",
       "  color: var(--sklearn-color-fitted-level-1);\n",
       "}\n",
       "\n",
       "/* On hover */\n",
       "div.sk-estimator:hover .sk-estimator-doc-link:hover,\n",
       ".sk-estimator-doc-link:hover,\n",
       "div.sk-label-container:hover .sk-estimator-doc-link:hover,\n",
       ".sk-estimator-doc-link:hover {\n",
       "  /* unfitted */\n",
       "  background-color: var(--sklearn-color-unfitted-level-3);\n",
       "  color: var(--sklearn-color-background);\n",
       "  text-decoration: none;\n",
       "}\n",
       "\n",
       "div.sk-estimator.fitted:hover .sk-estimator-doc-link.fitted:hover,\n",
       ".sk-estimator-doc-link.fitted:hover,\n",
       "div.sk-label-container:hover .sk-estimator-doc-link.fitted:hover,\n",
       ".sk-estimator-doc-link.fitted:hover {\n",
       "  /* fitted */\n",
       "  background-color: var(--sklearn-color-fitted-level-3);\n",
       "  color: var(--sklearn-color-background);\n",
       "  text-decoration: none;\n",
       "}\n",
       "\n",
       "/* Span, style for the box shown on hovering the info icon */\n",
       ".sk-estimator-doc-link span {\n",
       "  display: none;\n",
       "  z-index: 9999;\n",
       "  position: relative;\n",
       "  font-weight: normal;\n",
       "  right: .2ex;\n",
       "  padding: .5ex;\n",
       "  margin: .5ex;\n",
       "  width: min-content;\n",
       "  min-width: 20ex;\n",
       "  max-width: 50ex;\n",
       "  color: var(--sklearn-color-text);\n",
       "  box-shadow: 2pt 2pt 4pt #999;\n",
       "  /* unfitted */\n",
       "  background: var(--sklearn-color-unfitted-level-0);\n",
       "  border: .5pt solid var(--sklearn-color-unfitted-level-3);\n",
       "}\n",
       "\n",
       ".sk-estimator-doc-link.fitted span {\n",
       "  /* fitted */\n",
       "  background: var(--sklearn-color-fitted-level-0);\n",
       "  border: var(--sklearn-color-fitted-level-3);\n",
       "}\n",
       "\n",
       ".sk-estimator-doc-link:hover span {\n",
       "  display: block;\n",
       "}\n",
       "\n",
       "/* \"?\"-specific style due to the `<a>` HTML tag */\n",
       "\n",
       "#sk-container-id-2 a.estimator_doc_link {\n",
       "  float: right;\n",
       "  font-size: 1rem;\n",
       "  line-height: 1em;\n",
       "  font-family: monospace;\n",
       "  background-color: var(--sklearn-color-background);\n",
       "  border-radius: 1rem;\n",
       "  height: 1rem;\n",
       "  width: 1rem;\n",
       "  text-decoration: none;\n",
       "  /* unfitted */\n",
       "  color: var(--sklearn-color-unfitted-level-1);\n",
       "  border: var(--sklearn-color-unfitted-level-1) 1pt solid;\n",
       "}\n",
       "\n",
       "#sk-container-id-2 a.estimator_doc_link.fitted {\n",
       "  /* fitted */\n",
       "  border: var(--sklearn-color-fitted-level-1) 1pt solid;\n",
       "  color: var(--sklearn-color-fitted-level-1);\n",
       "}\n",
       "\n",
       "/* On hover */\n",
       "#sk-container-id-2 a.estimator_doc_link:hover {\n",
       "  /* unfitted */\n",
       "  background-color: var(--sklearn-color-unfitted-level-3);\n",
       "  color: var(--sklearn-color-background);\n",
       "  text-decoration: none;\n",
       "}\n",
       "\n",
       "#sk-container-id-2 a.estimator_doc_link.fitted:hover {\n",
       "  /* fitted */\n",
       "  background-color: var(--sklearn-color-fitted-level-3);\n",
       "}\n",
       "</style><div id=\"sk-container-id-2\" class=\"sk-top-container\"><div class=\"sk-text-repr-fallback\"><pre>RandomForestRegressor(max_depth=28, min_samples_leaf=4, min_samples_split=4,\n",
       "                      n_estimators=201, random_state=777)</pre><b>In a Jupyter environment, please rerun this cell to show the HTML representation or trust the notebook. <br />On GitHub, the HTML representation is unable to render, please try loading this page with nbviewer.org.</b></div><div class=\"sk-container\" hidden><div class=\"sk-item\"><div class=\"sk-estimator fitted sk-toggleable\"><input class=\"sk-toggleable__control sk-hidden--visually\" id=\"sk-estimator-id-2\" type=\"checkbox\" checked><label for=\"sk-estimator-id-2\" class=\"sk-toggleable__label fitted sk-toggleable__label-arrow fitted\">&nbsp;&nbsp;RandomForestRegressor<a class=\"sk-estimator-doc-link fitted\" rel=\"noreferrer\" target=\"_blank\" href=\"https://scikit-learn.org/1.4/modules/generated/sklearn.ensemble.RandomForestRegressor.html\">?<span>Documentation for RandomForestRegressor</span></a><span class=\"sk-estimator-doc-link fitted\">i<span>Fitted</span></span></label><div class=\"sk-toggleable__content fitted\"><pre>RandomForestRegressor(max_depth=28, min_samples_leaf=4, min_samples_split=4,\n",
       "                      n_estimators=201, random_state=777)</pre></div> </div></div></div></div>"
      ]
     },
     "execution_count": 19,
     "metadata": {},
     "output_type": "execute_result"
    }
   ],
   "execution_count": 19
  },
  {
   "cell_type": "code",
   "id": "fa0f91f5-19bc-4e11-9170-aaf644c59e2a",
   "metadata": {
    "ExecuteTime": {
     "end_time": "2024-05-06T10:04:20.478130Z",
     "start_time": "2024-05-06T10:04:20.458025Z"
    }
   },
   "source": [
    "predicciones_modelo = model.predict(X_model)\n",
    "predicciones_heuristica = X[\"Vviento\"].apply(heuristica)"
   ],
   "outputs": [
    {
     "name": "stderr",
     "output_type": "stream",
     "text": [
      "/Users/tyomikjan/UNIVERSITY/PD1/PD/venv/lib/python3.11/site-packages/sklearn/base.py:493: UserWarning: X does not have valid feature names, but RandomForestRegressor was fitted with feature names\n",
      "  warnings.warn(\n"
     ]
    }
   ],
   "execution_count": 20
  },
  {
   "cell_type": "code",
   "id": "491d1ec7-f881-4a49-a0e7-440ac6e090ad",
   "metadata": {
    "ExecuteTime": {
     "end_time": "2024-05-06T10:04:21.109777Z",
     "start_time": "2024-05-06T10:04:21.100904Z"
    }
   },
   "source": [
    "predicciones_modelo"
   ],
   "outputs": [
    {
     "data": {
      "text/plain": [
       "array([1.64032195, 1.53535143, 1.53105601, 1.53105601, 1.76156309,\n",
       "       1.64032195, 1.64032195, 1.53105601, 1.53105601, 1.53105601,\n",
       "       1.6667244 , 1.64522484, 1.64032195, 1.63854173, 1.63854173,\n",
       "       1.64522484, 1.64522484, 1.53105601, 1.6801364 , 1.65853847,\n",
       "       1.53933232, 1.54341081, 1.54341081, 1.53105601, 1.53105601,\n",
       "       1.53105601, 1.53105601, 1.53105601, 1.53105601, 1.53105601,\n",
       "       1.53105601, 1.53105601, 1.53105601, 1.53105601, 1.53105601,\n",
       "       1.53105601, 1.64522484, 1.64522484, 1.6667244 , 1.6667244 ,\n",
       "       1.6667244 , 1.6667244 , 1.6667244 , 1.6667244 , 1.53105601,\n",
       "       1.53099129, 1.53105601, 1.53105601, 1.53535143, 1.6801364 ,\n",
       "       1.6801364 , 1.6801364 , 1.64522484, 1.53105601, 1.54341081,\n",
       "       1.64522484, 1.53105601, 1.67879312, 1.67879312, 1.6667244 ,\n",
       "       1.6667244 , 1.6667244 , 1.67879312, 1.6667244 , 1.64522484,\n",
       "       1.65549187, 1.65549187, 1.53105601, 1.53105601, 1.53105601,\n",
       "       1.53105601, 1.53105601, 1.53105601, 1.53105601, 1.53105601,\n",
       "       1.53105601, 1.53105601, 1.53105601, 1.53105601, 1.64522484,\n",
       "       1.64522484, 1.64522484, 1.64522484, 1.6667244 , 1.6667244 ,\n",
       "       1.6667244 , 1.6667244 , 1.6667244 , 1.53105601, 1.53105601,\n",
       "       1.53105601, 1.53105601, 1.67879312, 1.6667244 , 1.6667244 ,\n",
       "       1.6667244 , 1.67879312, 1.6667244 , 1.64522484, 1.65549187,\n",
       "       1.65549187, 1.53105601, 1.53105601, 1.53105601, 1.53105601,\n",
       "       1.53105601, 1.53105601, 1.53105601, 1.53105601, 1.53105601,\n",
       "       1.53105601, 1.64522484, 1.53105601, 1.64522484, 1.53105601,\n",
       "       1.64522484, 1.6667244 , 1.6667244 , 1.6667244 , 1.6667244 ,\n",
       "       1.6667244 , 1.64522484, 1.6667244 , 1.64522484, 1.53105601,\n",
       "       1.64522484, 1.53933232, 1.54882643, 1.53933232, 1.53105601,\n",
       "       1.53105601, 1.53105601, 1.53105601, 1.53105601, 1.53105601,\n",
       "       1.53105601, 1.53105601, 1.53105601, 1.53105601, 1.53099129,\n",
       "       1.53933232, 1.53933232, 1.6659448 , 1.68591056, 1.68591056,\n",
       "       1.68591056, 1.68591056, 1.66232257, 1.66232257, 1.53913554,\n",
       "       1.53913554, 1.5347754 , 1.53484012, 1.54341081, 1.53105601,\n",
       "       1.53105601, 1.53105601, 1.53105601, 1.53105601, 1.53105601,\n",
       "       1.53105601, 1.53105601, 1.53105601, 1.54543979, 1.54543979,\n",
       "       1.54882643, 1.6659448 , 1.68591056, 1.68591056, 1.68591056,\n",
       "       1.68591056, 1.53535143, 1.53105601, 1.53105601, 1.53105601,\n",
       "       1.53105601, 1.53105601, 1.53105601, 1.53105601, 1.53105601,\n",
       "       1.53535143, 1.53723862, 1.53933232, 1.65853847, 1.68746771,\n",
       "       1.68746771, 1.68746771, 1.68746771, 1.66232257, 1.66232257,\n",
       "       1.54311643, 1.53913554, 1.53704184, 1.54341081, 1.54341081,\n",
       "       1.53105601, 1.53105601, 1.64522484, 1.53105601, 1.53105601,\n",
       "       1.53105601, 1.53105601, 1.53105601, 1.53105601, 1.53099129,\n",
       "       1.53933232, 1.65853847, 1.6659448 , 1.68746771, 1.68591056,\n",
       "       1.68591056, 1.66232257, 1.66232257, 1.66232257, 1.53913554,\n",
       "       1.53913554, 1.53704184, 1.5347754 , 1.54341081, 1.64522484,\n",
       "       1.64522484, 1.64522484, 1.53105601, 1.53105601, 1.53105601,\n",
       "       1.53105601, 1.53105601, 1.54341081, 1.53099129, 1.53933232,\n",
       "       1.65853847, 1.6659448 , 1.6659448 , 1.68591056, 1.68591056,\n",
       "       1.66232257, 1.66232257, 1.54311643, 1.53913554, 1.53913554,\n",
       "       1.53704184, 1.5347754 , 1.54341081, 1.53105601, 1.53105601,\n",
       "       1.53105601, 1.53105601, 1.53105601, 1.53105601, 1.53105601,\n",
       "       1.53105601, 1.53105601, 1.64522484, 1.64522484, 1.6638511 ,\n",
       "       1.6659448 , 1.66232257, 1.64522484, 1.64522484, 1.64522484,\n",
       "       1.53105601, 1.53105601, 1.53105601, 1.53105601, 1.53105601,\n",
       "       1.54341081, 1.53099129, 1.53723862, 1.65853847, 1.6659448 ,\n",
       "       1.6659448 , 1.68456728, 1.68591056, 1.66232257, 1.66232257,\n",
       "       1.53913554, 1.53913554, 1.53913554, 1.53704184, 1.53484012,\n",
       "       1.54341081, 1.64522484, 1.64522484, 1.6667244 , 1.6667244 ,\n",
       "       1.6667244 , 1.64522484, 1.53105601, 1.64522484, 1.64522484,\n",
       "       1.65246388, 1.65853847, 1.53105601, 1.53105601, 1.53105601,\n",
       "       1.53105601, 1.53105601, 1.53105601, 1.53105601, 1.53105601,\n",
       "       1.53105601, 1.53723862, 1.53933232, 1.53933232, 1.6659448 ,\n",
       "       1.68591056, 1.68591056, 1.68591056, 1.68591056, 1.66232257,\n",
       "       1.66232257, 1.53913554, 1.53913554, 1.5347754 , 1.53484012,\n",
       "       1.54341081, 1.52534014, 1.52534014, 1.63144527, 1.48075406,\n",
       "       1.52534014, 1.52534014, 1.63950897, 1.52534014, 1.52534014,\n",
       "       1.52534014, 1.53651624, 1.6528226 , 1.67677128, 1.67677128,\n",
       "       1.52534014, 1.63144527, 1.49824336, 1.52534014, 1.48075406,\n",
       "       1.48075406, 1.58613482, 1.48075406, 1.48075406, 1.52963556,\n",
       "       1.6528226 , 1.6528226 , 1.6528226 , 1.67677128, 1.66470257,\n",
       "       1.67677128, 1.6528226 , 1.6528226 , 1.6528226 , 1.52957002,\n",
       "       1.52534014, 1.52534014, 1.63144527, 1.52534014, 1.52534014,\n",
       "       1.52534014, 1.48075406, 1.48075406, 1.52534014, 1.52534014,\n",
       "       1.53442254, 1.6528226 , 1.67677128, 1.67677128, 1.52534014,\n",
       "       1.52534014, 1.49824336, 1.52534014, 1.48075406, 1.52534014,\n",
       "       1.48075406, 1.48075406, 1.63950897, 1.52754187, 1.6528226 ,\n",
       "       1.52534014, 1.52534014, 1.49824336, 1.48075406, 1.52534014,\n",
       "       1.52534014, 1.52534014, 1.52534014, 1.63950897, 1.52754187,\n",
       "       1.65572239, 1.52534014, 1.52534014, 1.49824336, 1.48075406,\n",
       "       1.52534014, 1.52534014, 1.63950897, 1.52534014, 1.52534014,\n",
       "       1.52823993, 1.53442254, 1.53361645, 1.6528226 , 1.67677128,\n",
       "       1.67677128, 1.67677128, 1.6528226 , 1.66470257, 1.66470257,\n",
       "       1.66813185, 1.66654037, 1.67677128, 1.64462365, 1.67798407,\n",
       "       1.66813185, 1.66654037, 1.67677128, 1.66470257, 1.66813185,\n",
       "       1.67860909, 1.67677128, 1.64462365, 1.67798407, 1.68020057,\n",
       "       1.67677128, 1.64462365, 1.68020057])"
      ]
     },
     "execution_count": 21,
     "metadata": {},
     "output_type": "execute_result"
    }
   ],
   "execution_count": 21
  },
  {
   "cell_type": "code",
   "id": "bf9ed7f9-d78d-4a44-9e5d-651b3b598bfa",
   "metadata": {
    "ExecuteTime": {
     "end_time": "2024-05-06T10:04:22.154717Z",
     "start_time": "2024-05-06T10:04:22.145821Z"
    }
   },
   "source": [
    "predicciones_heuristica"
   ],
   "outputs": [
    {
     "data": {
      "text/plain": [
       "0      0.6\n",
       "1      0.6\n",
       "2      0.6\n",
       "3      0.6\n",
       "4      0.6\n",
       "      ... \n",
       "478    1.0\n",
       "492    1.0\n",
       "498    1.0\n",
       "500    1.0\n",
       "502    1.0\n",
       "Name: Vviento, Length: 423, dtype: float64"
      ]
     },
     "execution_count": 22,
     "metadata": {},
     "output_type": "execute_result"
    }
   ],
   "execution_count": 22
  },
  {
   "cell_type": "code",
   "id": "716f63e8-424d-479d-ac71-f8ae0d6b589e",
   "metadata": {
    "ExecuteTime": {
     "end_time": "2024-05-06T10:04:23.297201Z",
     "start_time": "2024-05-06T10:04:23.288888Z"
    }
   },
   "source": [
    "y"
   ],
   "outputs": [
    {
     "data": {
      "text/plain": [
       "0      0.8\n",
       "1      0.7\n",
       "2      0.7\n",
       "3      0.7\n",
       "4      0.8\n",
       "      ... \n",
       "478    0.9\n",
       "492    0.7\n",
       "498    0.9\n",
       "500    0.7\n",
       "502    0.7\n",
       "Name: AlturaOlas, Length: 423, dtype: float64"
      ]
     },
     "execution_count": 23,
     "metadata": {},
     "output_type": "execute_result"
    }
   ],
   "execution_count": 23
  },
  {
   "cell_type": "code",
   "id": "54c2aca5-8070-436d-beb7-2f46a26eb7c4",
   "metadata": {
    "ExecuteTime": {
     "end_time": "2024-05-06T10:04:24.229516Z",
     "start_time": "2024-05-06T10:04:24.218218Z"
    }
   },
   "source": [
    "calcular_metricas(y, predicciones_modelo)"
   ],
   "outputs": [
    {
     "data": {
      "text/plain": [
       "{'MAX_ERROR': 1.1874677124731987,\n",
       " 'MEAN_SQ_ERROR': 0.8650299323933854,\n",
       " 'MEDIAN_ABS_ERROR': 0.9452248385698772,\n",
       " 'MEAN_ABS_ERROR': 0.9031317001155771}"
      ]
     },
     "execution_count": 24,
     "metadata": {},
     "output_type": "execute_result"
    }
   ],
   "execution_count": 24
  },
  {
   "cell_type": "code",
   "id": "b751268d-c9fc-4b92-ac01-ea657e69b1ab",
   "metadata": {
    "ExecuteTime": {
     "end_time": "2024-05-06T10:04:25.735730Z",
     "start_time": "2024-05-06T10:04:25.728732Z"
    }
   },
   "source": [
    "calcular_metricas(y, predicciones_heuristica)"
   ],
   "outputs": [
    {
     "data": {
      "text/plain": [
       "{'MAX_ERROR': 0.6,\n",
       " 'MEAN_SQ_ERROR': 0.07000000000000002,\n",
       " 'MEDIAN_ABS_ERROR': 0.09999999999999998,\n",
       " 'MEAN_ABS_ERROR': 0.1978723404255319}"
      ]
     },
     "execution_count": 25,
     "metadata": {},
     "output_type": "execute_result"
    }
   ],
   "execution_count": 25
  }
 ],
 "metadata": {
  "kernelspec": {
   "display_name": "Python 3 (ipykernel)",
   "language": "python",
   "name": "python3"
  },
  "language_info": {
   "codemirror_mode": {
    "name": "ipython",
    "version": 3
   },
   "file_extension": ".py",
   "mimetype": "text/x-python",
   "name": "python",
   "nbconvert_exporter": "python",
   "pygments_lexer": "ipython3",
   "version": "3.10.7"
  }
 },
 "nbformat": 4,
 "nbformat_minor": 5
}
